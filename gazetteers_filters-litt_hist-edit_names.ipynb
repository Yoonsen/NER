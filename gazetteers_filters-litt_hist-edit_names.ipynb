{
 "cells": [
  {
   "cell_type": "markdown",
   "metadata": {},
   "source": [
    "# Filtrer navn fra bøker"
   ]
  },
  {
   "cell_type": "code",
   "execution_count": 1,
   "metadata": {},
   "outputs": [
    {
     "data": {
      "text/html": [
       "<style>@import url(\n",
       "http://fonts.googleapis.com/css?family=Lato|Philosopher|Montserrat|Source+Code+Pro|Istok+Web|Philosopher|Assistant:200,400,700);\n",
       "\n",
       "/*\n",
       "#notebook-container {\n",
       "\t-webkit-box-shadow: none;\n",
       "\tbox-shadow: none;\n",
       "}\n",
       "*/\n",
       "\n",
       "h1, h2, h3, h4, h5, h6 {\n",
       "\tfont-family: 'Montserrat', sans-serif;\n",
       "\tline-height: 2em;\n",
       "    color: #004f99;\n",
       "    font-weight: 600;\n",
       "}\n",
       "\n",
       "h1 { font-size: 4.5em; }\n",
       "h2 { font-size: 4em; }\n",
       "h3 { font-size: 3.5em; }\n",
       "h4 { font-size: 3em; }\n",
       "h5 { font-size: 2.5em; color:DarkSlateGray; }\n",
       "h6 { font-size: 2em; }\n",
       "\n",
       "p {\n",
       "\tfont-family: 'Assistant', sans-serif; \n",
       "\tfont-size: 1.2em;\n",
       "\tline-height: 1.4em;\n",
       "\tcolor: black;\n",
       "}\n",
       "p code {\n",
       "\tfont-size:0.9em;\n",
       "}\n",
       "div.input_area {\n",
       "\tborder:none !important;\n",
       "\tborder-left:1px solid #ff851b !important\n",
       "}\n",
       "\n",
       "span.cm-keyword {\n",
       "\tcolor:#339966 !important;\n",
       "}\n",
       "span.nn {  /*span.cm-variable, span.cm-property*/\n",
       "\tcolor: #3399ff !important;\n",
       "}\n",
       "div.CodeMirror {\n",
       "\tfont-family: 'Inconsolata', monospace;\n",
       "\tfont-size: 1.1em;\n",
       "\t\n",
       "}\n",
       "</style>"
      ],
      "text/plain": [
       "<IPython.core.display.HTML object>"
      ]
     },
     "execution_count": 1,
     "metadata": {},
     "output_type": "execute_result"
    }
   ],
   "source": [
    "import dhlab.nbtext as nb\n",
    "import dhlab.token_map as tm\n",
    "from dhlab.module_update import update, css\n",
    "import dhlab.graph_networkx_louvain as gnl\n",
    "import json\n",
    "import re\n",
    "import sys\n",
    "%matplotlib inline\n",
    "css()"
   ]
  },
  {
   "cell_type": "markdown",
   "metadata": {},
   "source": [
    "Importer filter fra token_map som ligger i modules. Det vil bli litt patching før ny versjon av `dhlab`."
   ]
  },
  {
   "cell_type": "markdown",
   "metadata": {},
   "source": [
    "### Ekstra kommandoer fra `token_map`\n",
    "\n",
    "* names_from_corpus(korpus)\n",
    "* count_names_corpus(korpus, token_map)\n",
    "* names_from_excel(excelfil)\n",
    "    "
   ]
  },
  {
   "cell_type": "code",
   "execution_count": 2,
   "metadata": {},
   "outputs": [
    {
     "data": {
      "text/markdown": [
       "Updated file `C:\\Users\\larsj\\Documents\\GitHub\\NER\\token_map.py`"
      ],
      "text/plain": [
       "<IPython.core.display.Markdown object>"
      ]
     },
     "metadata": {},
     "output_type": "display_data"
    }
   ],
   "source": [
    "update('token_map', overwrite=True)\n",
    "from token_map import filter_names, names_from_corpus, names_from_excel"
   ]
  },
  {
   "cell_type": "markdown",
   "metadata": {},
   "source": [
    "### Gazetter\n",
    "\n",
    "Gazettene ligger her, følger med repoet fra Github."
   ]
  },
  {
   "cell_type": "code",
   "execution_count": 3,
   "metadata": {},
   "outputs": [],
   "source": [
    "first_names = json.load(open(\"NER-gazetter/first_names.json\"))\n",
    "last_names = json.load(open(\"NER-gazetter/last_names.json\"))\n",
    "full_names = json.load(open(\"NER-gazetter/name_structure.json\"))\n",
    "male_names = json.load(open(\"NER-gazetter/male_names.json\"))\n",
    "female_names = json.load(open(\"NER-gazetter/female_names.json\"))"
   ]
  },
  {
   "cell_type": "code",
   "execution_count": 4,
   "metadata": {},
   "outputs": [],
   "source": [
    "first_names = list(set(first_names) - {'Oslo'})"
   ]
  },
  {
   "cell_type": "markdown",
   "metadata": {},
   "source": [
    "### Korpus\n",
    "\n",
    "Hent noen bøker..."
   ]
  },
  {
   "cell_type": "code",
   "execution_count": 5,
   "metadata": {},
   "outputs": [],
   "source": [
    "korpus = nb.pure_urn(\"\"\"\n",
    "URN\n",
    "\n",
    " https://urn.nb.no/URN:NBN:no-nb_digibok_\n",
    " https://urn.nb.no/URN:NBN:no-nb_digibok_2015110908267\n",
    " https://urn.nb.no/URN:NBN:no-nb_digibok_\n",
    " https://urn.nb.no/URN:NBN:no-nb_digibok_2009061903027\n",
    " ikke digitalisert\n",
    " https://urn.nb.no/URN:NBN:no-nb_digibok_\n",
    " https://urn.nb.no/URN:NBN:no-nb_digibok_2009072800065\n",
    " https://urn.nb.no/URN:NBN:no-nb_digibok_2010063006072\n",
    " https://urn.nb.no/URN:NBN:no-nb_digibok_\n",
    " https://urn.nb.no/URN:NBN:no-nb_digibok_\n",
    " https://urn.nb.no/URN:NBN:no-nb_digibok_2009042204078\n",
    " https://urn.nb.no/URN:NBN:no-nb_digibok_2014010708163\n",
    " https://urn.nb.no/URN:NBN:no-nb_digibok_2009072800062\n",
    " https://urn.nb.no/URN:NBN:no-nb_digibok_2006111501039\n",
    " https://urn.nb.no/URN:NBN:no-nb_digibok_2006111501043\n",
    " https://urn.nb.no/URN:NBN:no-nb_digibok_2006112001058\n",
    " https://urn.nb.no/URN:NBN:no-nb_digibok_2006111701045\n",
    " https://urn.nb.no/URN:NBN:no-nb_digibok_2006111601041\n",
    " https://urn.nb.no/URN:NBN:no-nb_digibok_2006113000001\n",
    " https://urn.nb.no/URN:NBN:no-nb_digibok_2014121608238 \n",
    " https://urn.nb.no/URN:NBN:no-nb_digibok_2008070804046\n",
    " https://urn.nb.no/URN:NBN:no-nb_digibok_2017061407030\n",
    " https://urn.nb.no/URN:NBN:no-nb_digibok_2013073108136\n",
    " https://urn.nb.no/URN:NBN:no-nb_digibok_2009051210001\n",
    " https://urn.nb.no/URN:NBN:no-nb_digibok_2009051212001\n",
    " https://urn.nb.no/URN:NBN:no-nb_digibok_2009051213001\n",
    " https://urn.nb.no/URN:NBN:no-nb_digibok_2009041703007\n",
    " https://urn.nb.no/URN:NBN:no-nb_digibok_2009020503016\n",
    " https://urn.nb.no/URN:NBN:no-nb_digibok_2009032003002\n",
    " https://urn.nb.no/URN:NBN:no-nb_digibok_2012041808082\n",
    " https://urn.nb.no/URN:NBN:no-nb_digibok_2012100907130\n",
    " https://urn.nb.no/URN:NBN:no-nb_digibok_2008040204004\n",
    " https://urn.nb.no/URN:NBN:no-nb_digibok_2006082200053 \n",
    " https://urn.nb.no/URN:NBN:no-nb_digibok_2008073100001\n",
    " https://urn.nb.no/URN:NBN:no-nb_digibok_2008072304027\n",
    " https://urn.nb.no/URN:NBN:no-nb_digibok_2008070201046\n",
    " https://urn.nb.no/URN:NBN:no-nb_digibok_2015111007004\n",
    " https://urn.nb.no/URN:NBN:no-nb_digibok_2008040804176\n",
    " https://urn.nb.no/URN:NBN:no-nb_digibok_2014082708025\n",
    " https://urn.nb.no/URN:NBN:no-nb_digibok_2014102108092\n",
    " https://urn.nb.no/URN:NBN:no-nb_digibok_2015110507024\n",
    " https://urn.nb.no/URN:NBN:no-nb_digibok_2014082508209\n",
    " https://urn.nb.no/URN:NBN:no-nb_digibok_2008080500028\n",
    " https://urn.nb.no/URN:NBN:no-nb_digibok_2017031348020\n",
    " https://urn.nb.no/URN:NBN:no-nb_digibok_2010053106106\n",
    " https://urn.nb.no/URN:NBN:no-nb_digibok_2017081548056\n",
    " https://urn.nb.no/URN:NBN:no-nb_digibok_2006120500036\n",
    " https://urn.nb.no/URN:NBN:no-nb_digibok_2018022807099\n",
    " https://urn.nb.no/URN:NBN:no-nb_digibok_2006121301027\n",
    " https://urn.nb.no/URN:NBN:no-nb_digibok_2017072007064\n",
    " https://urn.nb.no/URN:NBN:no-nb_digibok_2009042204098\n",
    " https://urn.nb.no/URN:NBN:no-nb_digibok_2016070748069\n",
    " https://urn.nb.no/URN:NBN:no-nb_digibok_2012050708083\n",
    " https://urn.nb.no/URN:NBN:no-nb_digibok_2016041908011\n",
    " https://urn.nb.no/URN:NBN:no-nb_digibok_2016041548100\n",
    " https://urn.nb.no/URN:NBN:no-nb_digibok_2008072304028\n",
    " https://urn.nb.no/URN:NBN:no-nb_digibok_2008073100001\n",
    " https://urn.nb.no/URN:NBN:no-nb_digibok_2009062204014\n",
    " https://urn.nb.no/URN:NBN:no-nb_digibok_2016040608162\n",
    " https://urn.nb.no/URN:NBN:no-nb_digibok_2014080508168\n",
    " https://urn.nb.no/URN:NBN:no-nb_digibok_2007011801005\n",
    " https://urn.nb.no/URN:NBN:no-nb_digibok_2007011801004\n",
    " https://urn.nb.no/URN:NBN:no-nb_digibok_2007021501117\n",
    " https://urn.nb.no/URN:NBN:no-nb_digibok_2007010300018\n",
    " https://urn.nb.no/URN:NBN:no-nb_digibok_2007010300045\n",
    " https://urn.nb.no/URN:NBN:no-nb_digibok_2007010500022\n",
    " https://urn.nb.no/URN:NBN:no-nb_digibok_2007011201040\n",
    " https://urn.nb.no/URN:NBN:no-nb_digibok_2014082108108\n",
    " https://urn.nb.no/URN:NBN:no-nb_digibok_2009062201011\n",
    " https://urn.nb.no/URN:NBN:no-nb_digibok_2013110508162\n",
    " https://urn.nb.no/URN:NBN:no-nb_digibok_2014080508169\n",
    " https://urn.nb.no/URN:NBN:no-nb_digibok_2009041404093\n",
    " https://urn.nb.no/URN:NBN:no-nb_digibok_2009061701068\n",
    " https://urn.nb.no/URN:NBN:no-nb_digibok_2010061806078\n",
    " https://urn.nb.no/URN:NBN:no-nb_digibok_2013110508163\n",
    " https://urn.nb.no/URN:NBN:no-nb_digibok_2008042300025\n",
    " https://urn.nb.no/URN:NBN:no-nb_digibok_2008042800109\n",
    " https://urn.nb.no/URN:NBN:no-nb_digibok_2009041704061\n",
    " https://urn.nb.no/URN:NBN:no-nb_digibok_2009042200011\n",
    " https://urn.nb.no/URN:NBN:no-nb_digibok_2007060504048\n",
    " https://urn.nb.no/URN:NBN:no-nb_digibok_2007042301017\n",
    " https://urn.nb.no/URN:NBN:no-nb_digibok_2007030201038\n",
    " https://urn.nb.no/URN:NBN:no-nb_digibok_2008051904054\n",
    " https://urn.nb.no/URN:NBN:no-nb_digibok_2007031501098\n",
    " https://urn.nb.no/URN:NBN:no-nb_digibok_2007032801122\n",
    " https://urn.nb.no/URN:NBN:no-nb_digibok_2007021901144\n",
    "https://urn.nb.no/URN:NBN:no-nb_digibok_2008051404001\n",
    " https://urn.nb.no/URN:NBN:no-nb_digibok_2012021608266 \n",
    " https://urn.nb.no/URN:NBN:no-nb_digibok_2016103148510 \n",
    " https://urn.nb.no/URN:NBN:no-nb_digibok_2009041704038\n",
    " https://urn.nb.no/URN:NBN:no-nb_digibok_2009060204081\n",
    " https://urn.nb.no/URN:NBN:no-nb_digibok_2009052904033\n",
    " https://urn.nb.no/URN:NBN:no-nb_digibok_2008051904146\n",
    " https://urn.nb.no/URN:NBN:no-nb_digibok_2015012008072 \n",
    " https://urn.nb.no/URN:NBN:no-nb_digibok_2009061504071 \n",
    " https://urn.nb.no/URN:NBN:no-nb_digibok_2008051904126\n",
    " https://urn.nb.no/URN:NBN:no-nb_digibok_2013101708014\n",
    " https://urn.nb.no/URN:NBN:no-nb_digibok_2013101708013\n",
    " https://urn.nb.no/URN:NBN:no-nb_digibok_2007032101125\n",
    " https://urn.nb.no/URN:NBN:no-nb_digibok_2009041704058 \n",
    " https://urn.nb.no/URN:NBN:no-nb_digibok_2009062204039\n",
    " https://urn.nb.no/URN:NBN:no-nb_digibok_2007042401029\n",
    " https://urn.nb.no/URN:NBN:no-nb_digibok_2014070306049\n",
    " https://urn.nb.no/URN:NBN:no-nb_digibok_2016092948064\n",
    " https://urn.nb.no/URN:NBN:no-nb_digibok_2009041404091\n",
    " https://urn.nb.no/URN:NBN:no-nb_digibok_2007052504014\n",
    " https://urn.nb.no/URN:NBN:no-nb_digibok_2009042200012 \n",
    " https://urn.nb.no/URN:NBN:no-nb_digibok_2017062648189\n",
    " https://urn.nb.no/URN:NBN:no-nb_digibok_2016101048159\n",
    " https://urn.nb.no/URN:NBN:no-nb_digibok_2009061701063\n",
    " https://urn.nb.no/URN:NBN:no-nb_digibok_2011020106014\n",
    " https://urn.nb.no/URN:NBN:no-nb_digibok_2007072300005\n",
    " https://urn.nb.no/URN:NBN:no-nb_digibok_2011120808007\n",
    " https://urn.nb.no/URN:NBN:no-nb_digibok_2012030208136 \n",
    " https://urn.nb.no/URN:NBN:no-nb_digibok_2007071700077\n",
    " https://urn.nb.no/URN:NBN:no-nb_digibok_2012053108037\n",
    " https://urn.nb.no/URN:NBN:no-nb_digibok_2011111608068\n",
    " https://urn.nb.no/URN:NBN:no-nb_digibok_2014021807021\n",
    " https://urn.nb.no/URN:NBN:no-nb_digibok_2013102407331\n",
    " https://urn.nb.no/URN:NBN:no-nb_digibok_2012022008023\n",
    " https://urn.nb.no/URN:NBN:no-nb_digibok_2012022208159\n",
    " https://urn.nb.no/URN:NBN:no-nb_digibok_2007072601080\n",
    " https://urn.nb.no/URN:NBN:no-nb_digibok_2007070500096\n",
    " https://urn.nb.no/URN:NBN:no-nb_digibok_2007070201034\n",
    " https://urn.nb.no/URN:NBN:no-nb_digibok_2008052701029\n",
    " https://urn.nb.no/URN:NBN:no-nb_digibok_2007060501039\n",
    " https://urn.nb.no/URN:NBN:no-nb_digibok_2007060700028\n",
    " https://urn.nb.no/URN:NBN:no-nb_digibok_2007060701007\n",
    " https://urn.nb.no/URN:NBN:no-nb_digibok_2008111904058\n",
    " https://urn.nb.no/URN:NBN:no-nb_digibok_2013012205070\n",
    " https://urn.nb.no/URN:NBN:no-nb_digibok_2013030406047\n",
    " https://urn.nb.no/URN:NBN:no-nb_digibok_2013040907068\n",
    " https://urn.nb.no/URN:NBN:no-nb_digibok_2012100907038\n",
    " https://urn.nb.no/URN:NBN:no-nb_digibok_2013102407066\n",
    " https://urn.nb.no/URN:NBN:no-nb_digibok_2007062200011\n",
    " https://urn.nb.no/URN:NBN:no-nb_digibok_2014030308499\n",
    " https://urn.nb.no/URN:NBN:no-nb_digibok_2007061804087\n",
    " https://urn.nb.no/URN:NBN:no-nb_digibok_2013062706017\n",
    " https://urn.nb.no/URN:NBN:no-nb_digibok_2012091805011 \n",
    " https://urn.nb.no/URN:NBN:no-nb_digibok_2012071905088\n",
    " https://urn.nb.no/URN:NBN:no-nb_digibok_2008060304065\n",
    " https://urn.nb.no/URN:NBN:no-nb_digibok_2007070304070\n",
    " https://urn.nb.no/URN:NBN:no-nb_digibok_2007070900076\n",
    " https://urn.nb.no/URN:NBN:no-nb_digibok_2008060300007\n",
    " https://urn.nb.no/URN:NBN:no-nb_digibok_2008052304109\n",
    " https://urn.nb.no/URN:NBN:no-nb_digibok_2013061706091\n",
    " https://urn.nb.no/URN:NBN:no-nb_digibok_2014071508124\n",
    " https://urn.nb.no/URN:NBN:no-nb_digibok_2011121405002\n",
    " https://urn.nb.no/URN:NBN:no-nb_digibok_2016101048269\n",
    " https://urn.nb.no/URN:NBN:no-nb_digibok_2014082708002\n",
    " https://urn.nb.no/URN:NBN:no-nb_digibok_2017052207340\n",
    " https://urn.nb.no/URN:NBN:no-nb_digibok_2017052207338\n",
    " https://urn.nb.no/URN:NBN:no-nb_digibok_2017073107131\n",
    " https://urn.nb.no/URN:NBN:no-nb_digibok_2014031108214\n",
    " https://urn.nb.no/URN:NBN:no-nb_digibok_2012062505011\n",
    " https://urn.nb.no/URN:NBN:no-nb_digibok_2015072308349 \n",
    " https://urn.nb.no/URN:NBN:no-nb_digibok_2012012708020\n",
    " https://urn.nb.no/URN:NBN:no-nb_digibok_2008070400042 \n",
    " https://urn.nb.no/URN:NBN:no-nb_digibok_2013102407067 \n",
    " https://urn.nb.no/URN:NBN:no-nb_digibok_2013070205080\n",
    " https://urn.nb.no/URN:NBN:no-nb_digibok_2012070205032\n",
    " https://urn.nb.no/URN:NBN:no-nb_digibok_2012070205030\n",
    " https://urn.nb.no/URN:NBN:no-nb_digibok_2007091901004  \n",
    " https://urn.nb.no/URN:NBN:no-nb_digibok_2013093006082 \n",
    " https://urn.nb.no/URN:NBN:no-nb_digibok_2015060808049\n",
    " https://urn.nb.no/URN:NBN:no-nb_digibok_2007112600058\n",
    " https://urn.nb.no/URN:NBN:no-nb_digibok_2012101908136\n",
    " https://urn.nb.no/URN:NBN:no-nb_digibok_2011020308070\n",
    " https://urn.nb.no/URN:NBN:no-nb_digibok_2012101908137\n",
    " https://urn.nb.no/URN:NBN:no-nb_digibok_2012101908135\n",
    " https://urn.nb.no/URN:NBN:no-nb_digibok_2010121708024\n",
    " https://urn.nb.no/URN:NBN:no-nb_digibok_2013011607286\n",
    " https://urn.nb.no/URN:NBN:no-nb_digibok_2017022748048\n",
    " https://urn.nb.no/URN:NBN:no-nb_digibok_2008010300041 \n",
    " https://urn.nb.no/URN:NBN:no-nb_digibok_2008030704064\n",
    " https://urn.nb.no/URN:NBN:no-nb_digibok_2008031304026\n",
    " https://urn.nb.no/URN:NBN:no-nb_digibok_2008030700046\n",
    " https://urn.nb.no/URN:NBN:no-nb_digibok_2008031304021\n",
    " https://urn.nb.no/URN:NBN:no-nb_digibok_2008081204044\n",
    " https://urn.nb.no/URN:NBN:no-nb_digibok_2008020600003\n",
    " https://urn.nb.no/URN:NBN:no-nb_digibok_2015041008041\n",
    " https://urn.nb.no/URN:NBN:no-nb_digibok_2010100508090\n",
    " https://urn.nb.no/URN:NBN:no-nb_digibok_2008031101012 \n",
    " https://urn.nb.no/URN:NBN:no-nb_digibok_2014061608252\n",
    " https://urn.nb.no/URN:NBN:no-nb_digibok_2010060203030 \n",
    " https://urn.nb.no/URN:NBN:no-nb_digibok_2010072703001\n",
    " https://urn.nb.no/URN:NBN:no-nb_digibok_2009102700026\n",
    " https://urn.nb.no/URN:NBN:no-nb_digibok_2008080804146\n",
    " https://urn.nb.no/URN:NBN:no-nb_digibok_2009011900032\n",
    " https://urn.nb.no/URN:NBN:no-nb_digibok_2008092300090\n",
    " https://urn.nb.no/URN:NBN:no-nb_digibok_2009012204024\n",
    " https://urn.nb.no/URN:NBN:no-nb_digibok_2010011100089\n",
    " https://urn.nb.no/URN:NBN:no-nb_digibok_2009041404041\n",
    " https://urn.nb.no/URN:NBN:no-nb_digibok_2009030204015\n",
    " https://urn.nb.no/URN:NBN:no-nb_digibok_2010122120006 \n",
    " https://urn.nb.no/URN:NBN:no-nb_digibok_2008120800099 \n",
    " https://urn.nb.no/URN:NBN:no-nb_digibok_2008112000056\n",
    " https://urn.nb.no/URN:NBN:no-nb_digibok_2009012904103\n",
    " https://urn.nb.no/URN:NBN:no-nb_digibok_2009012200018\n",
    " https://urn.nb.no/URN:NBN:no-nb_digibok_2009062601017\n",
    " https://urn.nb.no/URN:NBN:no-nb_digibok_2011083106080\n",
    " https://urn.nb.no/URN:NBN:no-nb_digibok_2011070505043\n",
    " https://urn.nb.no/URN:NBN:no-nb_digibok_2014120907542\n",
    " https://urn.nb.no/URN:NBN:no-nb_digibok_2013071705100\n",
    " https://urn.nb.no/URN:NBN:no-nb_digibok_2014111007502\n",
    " https://urn.nb.no/URN:NBN:no-nb_digibok_2012062505101\n",
    " https://urn.nb.no/URN:NBN:no-nb_digibok_2013042408089 \n",
    " https://urn.nb.no/URN:NBN:no-nb_digibok_2013011408109\n",
    " https://urn.nb.no/URN:NBN:no-nb_digibok_2015111608028 \n",
    " https://urn.nb.no/URN:NBN:no-nb_digibok_2012102907161\n",
    " https://urn.nb.no/URN:NBN:no-nb_digibok_2014022706007 \n",
    " https://urn.nb.no/URN:NBN:no-nb_digibok_2018110677040\n",
    "ikke digitalisert\n",
    "\"\"\")"
   ]
  },
  {
   "cell_type": "markdown",
   "metadata": {},
   "source": [
    "## Tester med et lite korpus"
   ]
  },
  {
   "cell_type": "code",
   "execution_count": 6,
   "metadata": {},
   "outputs": [
    {
     "data": {
      "text/plain": [
       "['2006120500036',\n",
       " '2018022807099',\n",
       " '2006121301027',\n",
       " '2017072007064',\n",
       " '2009042204098']"
      ]
     },
     "execution_count": 6,
     "metadata": {},
     "output_type": "execute_result"
    }
   ],
   "source": [
    "subkorp = korpus[40:45]\n",
    "subkorp"
   ]
  },
  {
   "cell_type": "markdown",
   "metadata": {},
   "source": [
    "Generer navn med nb.names()"
   ]
  },
  {
   "cell_type": "code",
   "execution_count": null,
   "metadata": {},
   "outputs": [],
   "source": [
    "korpusnavn = names_from_corpus(subkorp)"
   ]
  },
  {
   "cell_type": "markdown",
   "metadata": {},
   "source": [
    "Se på names med tm.show_names()."
   ]
  },
  {
   "cell_type": "code",
   "execution_count": null,
   "metadata": {},
   "outputs": [],
   "source": [
    "tm.show_names(korpusnavn)"
   ]
  },
  {
   "cell_type": "markdown",
   "metadata": {},
   "source": [
    "Filtrer og rensk opp navnelisten med `filter_names()` importert fra `token_map`. Variablene `first_names` og `last_names` slås sammen til en liste som en felles gazett."
   ]
  },
  {
   "cell_type": "code",
   "execution_count": null,
   "metadata": {},
   "outputs": [],
   "source": [
    "filtered_names = filter_names(korpusnavn, first_names + last_names)\n"
   ]
  },
  {
   "cell_type": "code",
   "execution_count": null,
   "metadata": {},
   "outputs": [],
   "source": [
    "#her ser vi navnene som er fjernet\n",
    "tm.show_names(filtered_names['removed'])"
   ]
  },
  {
   "cell_type": "code",
   "execution_count": null,
   "metadata": {},
   "outputs": [],
   "source": [
    "#her ser vi navnene som er beholdt\n",
    "filtered_names['filtered']"
   ]
  },
  {
   "cell_type": "code",
   "execution_count": null,
   "metadata": {},
   "outputs": [],
   "source": []
  },
  {
   "cell_type": "markdown",
   "metadata": {},
   "source": [
    "`filtered_names` er en dict med to attributt, ett `filtered` og ett `removed`, sånn at man kan se hva som er fjernet og hvordan det filtrerte funkerer. Om det er fjernet for mye kan det bare legges til i gazetten og hele filtreringen kan kjøres på nytt. Merk at 4-ordsnavnene er bedre, men det mangler noe fremdeles på formen. Litt navnegrammatikk kunne gjøre susen her. Det er greit å få til. Nedenfor ser vi at det blir feil med 4-ordsnavn på formen \"fornavn fornavn etternavn fornavn\" som kan lukes vekk med en grammatikk."
   ]
  },
  {
   "cell_type": "markdown",
   "metadata": {},
   "source": [
    "Lagre de filtrerte navnene til en excelfil."
   ]
  },
  {
   "cell_type": "code",
   "execution_count": null,
   "metadata": {},
   "outputs": [],
   "source": [
    "nb.frame(nb.frame(filtered_names['filtered']).transpose().sum(axis=1)).to_excel('navn_filter.xls')"
   ]
  },
  {
   "cell_type": "markdown",
   "metadata": {},
   "source": [
    "Hent de redigerte navnene tilbake. Det kan legges til navn og slettes navn fra filen. \n",
    "Endre filnavn i tilfelle lagring fra Excel har endret på det."
   ]
  },
  {
   "cell_type": "code",
   "execution_count": null,
   "metadata": {},
   "outputs": [],
   "source": [
    "neo_names = navn_excel('navn_filter.xls')\n"
   ]
  },
  {
   "cell_type": "markdown",
   "metadata": {},
   "source": [
    "Det tar litt tid å beregne `token_map` så greit å legge den i variabel"
   ]
  },
  {
   "cell_type": "code",
   "execution_count": null,
   "metadata": {},
   "outputs": [],
   "source": [
    "neo_token_map = tm.token_map(neo_names)\n"
   ]
  },
  {
   "cell_type": "markdown",
   "metadata": {},
   "source": [
    "### Data fra boken\n",
    "\n",
    "Tell opp navn med `tm.count_name_strings` ... det ser ut som det fremdeles trengs til litt opprydding. Spesielt de lange navne lager litt ballade, men det er mulig å fjerne dem helt. Nettverk under der igjen. Bøker som ikke er med i grunndataene vil generere en melding om feil."
   ]
  },
  {
   "cell_type": "code",
   "execution_count": null,
   "metadata": {},
   "outputs": [],
   "source": [
    "opptelling = tell_navn(subkorp, neo_token_map)"
   ]
  },
  {
   "cell_type": "code",
   "execution_count": null,
   "metadata": {},
   "outputs": [],
   "source": [
    "opptelling.head()"
   ]
  },
  {
   "cell_type": "code",
   "execution_count": null,
   "metadata": {},
   "outputs": [],
   "source": []
  }
 ],
 "metadata": {
  "kernelspec": {
   "display_name": "Python 3",
   "language": "python",
   "name": "python3"
  },
  "language_info": {
   "codemirror_mode": {
    "name": "ipython",
    "version": 3
   },
   "file_extension": ".py",
   "mimetype": "text/x-python",
   "name": "python",
   "nbconvert_exporter": "python",
   "pygments_lexer": "ipython3",
   "version": "3.7.3"
  }
 },
 "nbformat": 4,
 "nbformat_minor": 2
}
