{
 "cells": [
  {
   "cell_type": "markdown",
   "metadata": {},
   "source": [
    "## Oppstart"
   ]
  },
  {
   "cell_type": "code",
   "execution_count": 1,
   "metadata": {},
   "outputs": [],
   "source": [
    "!curl -s \"https://raw.githubusercontent.com/Yoonsen/Modules/master/module_update.py\" > \"module_update.py\""
   ]
  },
  {
   "cell_type": "code",
   "execution_count": 2,
   "metadata": {},
   "outputs": [],
   "source": [
    "from module_update import update, css"
   ]
  },
  {
   "cell_type": "code",
   "execution_count": 3,
   "metadata": {},
   "outputs": [
    {
     "data": {
      "text/html": [
       "<style>@import url(\n",
       "http://fonts.googleapis.com/css?family=Lato|Philosopher|Montserrat|Source+Code+Pro|Istok+Web|Philosopher|Assistant:200,400,700);\n",
       "\n",
       "/*\n",
       "#notebook-container {\n",
       "\t-webkit-box-shadow: none;\n",
       "\tbox-shadow: none;\n",
       "}\n",
       "*/\n",
       "\n",
       "h1, h2, h3, h4, h5, h6 {\n",
       "\tfont-family: 'Montserrat', sans-serif;\n",
       "\tline-height: 2em;\n",
       "    color: #004f99;\n",
       "    font-weight: 600;\n",
       "}\n",
       "\n",
       "h1 { font-size: 4.5em; }\n",
       "h2 { font-size: 4em; }\n",
       "h3 { font-size: 3.5em; }\n",
       "h4 { font-size: 3em; }\n",
       "h5 { font-size: 2.5em; color:DarkSlateGray; }\n",
       "h6 { font-size: 2em; }\n",
       "\n",
       "p {\n",
       "\tfont-family: 'Assistant', sans-serif; \n",
       "\tfont-size: 1.2em;\n",
       "\tline-height: 1.4em;\n",
       "\tcolor: black;\n",
       "}\n",
       "p code {\n",
       "\tfont-size:0.9em;\n",
       "}\n",
       "div.input_area {\n",
       "\tborder:none !important;\n",
       "\tborder-left:1px solid #ff851b !important\n",
       "}\n",
       "\n",
       "span.cm-keyword {\n",
       "\tcolor:#339966 !important;\n",
       "}\n",
       "span.nn {  /*span.cm-variable, span.cm-property*/\n",
       "\tcolor: #3399ff !important;\n",
       "}\n",
       "div.CodeMirror {\n",
       "\tfont-family: 'Inconsolata', monospace;\n",
       "\tfont-size: 1.1em;\n",
       "\t\n",
       "}\n",
       "</style>"
      ],
      "text/plain": [
       "<IPython.core.display.HTML object>"
      ]
     },
     "execution_count": 3,
     "metadata": {},
     "output_type": "execute_result"
    }
   ],
   "source": [
    "css()"
   ]
  },
  {
   "cell_type": "code",
   "execution_count": 4,
   "metadata": {},
   "outputs": [],
   "source": [
    "import warnings\n",
    "warnings.filterwarnings('ignore')"
   ]
  },
  {
   "cell_type": "markdown",
   "metadata": {},
   "source": [
    "### Note that the file `nbtext.py` will be overwritten in the code below\n",
    "\n",
    "This is probably ok, though. If not, change `update('nbtext', overwrite = True)` to `update('nbtext', overwrite = False)` and the file will stay unchanged. \n"
   ]
  },
  {
   "cell_type": "code",
   "execution_count": 5,
   "metadata": {},
   "outputs": [
    {
     "data": {
      "text/markdown": [
       "Updated file `D:\\Documents\\GitHub\\NER\\graph_networkx_louvain.py`"
      ],
      "text/plain": [
       "<IPython.core.display.Markdown object>"
      ]
     },
     "metadata": {},
     "output_type": "display_data"
    },
    {
     "data": {
      "text/markdown": [
       "Updated file `D:\\Documents\\GitHub\\NER\\nbtext.py`"
      ],
      "text/plain": [
       "<IPython.core.display.Markdown object>"
      ]
     },
     "metadata": {},
     "output_type": "display_data"
    },
    {
     "data": {
      "text/markdown": [
       "Updated file `D:\\Documents\\GitHub\\NER\\token_map.py`"
      ],
      "text/plain": [
       "<IPython.core.display.Markdown object>"
      ]
     },
     "metadata": {},
     "output_type": "display_data"
    }
   ],
   "source": [
    "update('graph_networkx_louvain')\n",
    "update('nbtext', overwrite = True)\n",
    "update('token_map', overwrite = True)\n",
    "import nbtext as nb\n",
    "import token_map as tm\n",
    "from nbtext import get_urn, make_graph, get_urn, relaterte_ord, navn, totals\n",
    "import graph_networkx_louvain as gnl\n",
    "import pandas as pd\n",
    "%matplotlib inline\n",
    "\n",
    "plot = lambda x,  lw=3, alpha= 0.7: x.plot(figsize=(15,6), lw=lw, alpha=alpha)\n"
   ]
  },
  {
   "cell_type": "markdown",
   "metadata": {},
   "source": [
    "## Navn i bøker\n",
    "\n",
    "\n",
    "Vi søker etter navn i en bok, og en serie av bøker.\n",
    "\n",
    "Kommandoene er:\n",
    "1. `names` henter et sett med forslag til navn, fra nbtext\n",
    "1. `show_names` gir en oversikt over funnene, fra token_map\n",
    "1. `names_to_token_map_file` lagrer navneforslagene til en excelfil (eller csv) for redigering (token_map)\n",
    "1. `read_token_map_file` henter redigert fil tilbake for analyse (token_map)\n",
    "1. `character_network` lager graf for navnene (token_map)\n",
    "1. `show_graph`  tegner grafen (fra graph_networkx_louvain)\n",
    "1. `show_communities` viser clustre i grafen (graph_networkx_louvain)\n"
   ]
  },
  {
   "cell_type": "markdown",
   "metadata": {},
   "source": [
    "# Eksempel\n",
    "\n",
    "I eksemplet ser vi først på en tilfeldig bok, deretter mulighetene for å gjøre det samme med et helt korpus.\n",
    "\n",
    "## Korpus\n",
    "\n",
    "Bygg først et korpus, enten fra `"
   ]
  },
  {
   "cell_type": "code",
   "execution_count": 6,
   "metadata": {},
   "outputs": [],
   "source": [
    "korpus = nb.book_corpus(author='hamsun%')"
   ]
  },
  {
   "cell_type": "code",
   "execution_count": 7,
   "metadata": {},
   "outputs": [],
   "source": [
    "#korpus = nb.restore_metadata_from_excel('metadatafil.xls')"
   ]
  },
  {
   "cell_type": "markdown",
   "metadata": {},
   "source": [
    "## Sjekk innholdet\n",
    "\n",
    "Gjør noen søk for å se at alt er ok. Konkordanser er fine til det. Her går urnene gjennom `nb.pure_urn` -  i fremtiden skal det ikke være nødvendig."
   ]
  },
  {
   "cell_type": "code",
   "execution_count": 8,
   "metadata": {},
   "outputs": [
    {
     "data": {
      "text/html": [
       "<table><tr>\n",
       "                <td>\n",
       "                    <a href='http://www.nb.no/items/URN:NBN:no-nb_digibok_2008051600001?searchText=arbeid' target='_blank' style='text-decoration:none'>Knut Hamsun som han var, Hamsun, Knut, 1956</a>\n",
       "                </td>\n",
       "                <td>distraherte ham i hans litterære</td>\n",
       "                <td>arbeid</td>\n",
       "                <td style='text-align:left'>. Han begynte å innskrenke</td>\n",
       "            </tr>\n",
       "<tr>\n",
       "                <td>\n",
       "                    <a href='http://www.nb.no/items/URN:NBN:no-nb_digibok_2008051600001?searchText=arbeid' target='_blank' style='text-decoration:none'>Knut Hamsun som han var, Hamsun, Knut, 1956</a>\n",
       "                </td>\n",
       "                <td>tok fatt på et anstrengende</td>\n",
       "                <td>arbeid</td>\n",
       "                <td style='text-align:left'>. Alltid skrev han en</td>\n",
       "            </tr>\n",
       "<tr>\n",
       "                <td>\n",
       "                    <a href='http://www.nb.no/items/URN:NBN:no-nb_digibok_2008051600001?searchText=arbeid' target='_blank' style='text-decoration:none'>Knut Hamsun som han var, Hamsun, Knut, 1956</a>\n",
       "                </td>\n",
       "                <td>gjennem et intenst og oppslitende</td>\n",
       "                <td>arbeid</td>\n",
       "                <td style='text-align:left'>hadde skapt seg sitt eget</td>\n",
       "            </tr>\n",
       "<tr>\n",
       "                <td>\n",
       "                    <a href='http://www.nb.no/items/URN:NBN:no-nb_digibok_2008051600001?searchText=arbeid' target='_blank' style='text-decoration:none'>Knut Hamsun som han var, Hamsun, Knut, 1956</a>\n",
       "                </td>\n",
       "                <td>seg distrahere i sitt egentlige</td>\n",
       "                <td>arbeid</td>\n",
       "                <td style='text-align:left'>. I grunnen var det</td>\n",
       "            </tr>\n",
       "<tr>\n",
       "                <td>\n",
       "                    <a href='http://www.nb.no/items/URN:NBN:no-nb_digibok_2008051600001?searchText=arbeid' target='_blank' style='text-decoration:none'>Knut Hamsun som han var, Hamsun, Knut, 1956</a>\n",
       "                </td>\n",
       "                <td>skolelærer , og alt sitt</td>\n",
       "                <td>arbeid</td>\n",
       "                <td style='text-align:left'>skjøttet han med alvor og</td>\n",
       "            </tr>\n",
       "<tr>\n",
       "                <td>\n",
       "                    <a href='http://www.nb.no/items/URN:NBN:no-nb_digibok_2008061104048?searchText=arbeid' target='_blank' style='text-decoration:none'>Efter år og dag, Hamsun, Tore, 1990</a>\n",
       "                </td>\n",
       "                <td>når han satt i hårdt</td>\n",
       "                <td>arbeid</td>\n",
       "                <td style='text-align:left'>. Derfor vil jeg allerede</td>\n",
       "            </tr>\n",
       "<tr>\n",
       "                <td>\n",
       "                    <a href='http://www.nb.no/items/URN:NBN:no-nb_digibok_2008061104048?searchText=arbeid' target='_blank' style='text-decoration:none'>Efter år og dag, Hamsun, Tore, 1990</a>\n",
       "                </td>\n",
       "                <td>Hamsuns berømte navn og det</td>\n",
       "                <td>arbeid</td>\n",
       "                <td style='text-align:left'>han nedla for å gjøre</td>\n",
       "            </tr>\n",
       "<tr>\n",
       "                <td>\n",
       "                    <a href='http://www.nb.no/items/URN:NBN:no-nb_digibok_2008061104048?searchText=arbeid' target='_blank' style='text-decoration:none'>Efter år og dag, Hamsun, Tore, 1990</a>\n",
       "                </td>\n",
       "                <td>enn ham gikk til et</td>\n",
       "                <td>arbeid</td>\n",
       "                <td style='text-align:left'>han elsket . Og det</td>\n",
       "            </tr>\n",
       "<tr>\n",
       "                <td>\n",
       "                    <a href='http://www.nb.no/items/URN:NBN:no-nb_digibok_2008061104048?searchText=arbeid' target='_blank' style='text-decoration:none'>Efter år og dag, Hamsun, Tore, 1990</a>\n",
       "                </td>\n",
       "                <td>, tegning , lek og</td>\n",
       "                <td>arbeid</td>\n",
       "                <td style='text-align:left'>ved dette kjære gamle bordet</td>\n",
       "            </tr>\n",
       "<tr>\n",
       "                <td>\n",
       "                    <a href='http://www.nb.no/items/URN:NBN:no-nb_digibok_2008061104048?searchText=arbeid' target='_blank' style='text-decoration:none'>Efter år og dag, Hamsun, Tore, 1990</a>\n",
       "                </td>\n",
       "                <td>på sin stolthet over det</td>\n",
       "                <td>arbeid</td>\n",
       "                <td style='text-align:left'>som var nedlagt og som</td>\n",
       "            </tr>\n",
       "<tr>\n",
       "                <td>\n",
       "                    <a href='http://www.nb.no/items/URN:NBN:no-nb_digibok_2010070206146?searchText=arbeid' target='_blank' style='text-decoration:none'>Bygdebarn om vinteren, Hamsun, Marie, 1942</a>\n",
       "                </td>\n",
       "                <td>var hun så smått i</td>\n",
       "                <td>arbeid</td>\n",
       "                <td style='text-align:left'>igjen , ungt kjøtt gror</td>\n",
       "            </tr>\n",
       "<tr>\n",
       "                <td>\n",
       "                    <a href='http://www.nb.no/items/URN:NBN:no-nb_digibok_2010070206146?searchText=arbeid' target='_blank' style='text-decoration:none'>Bygdebarn om vinteren, Hamsun, Marie, 1942</a>\n",
       "                </td>\n",
       "                <td>vege nok ved var drygt</td>\n",
       "                <td>arbeid</td>\n",
       "                <td style='text-align:left'>. Men han ble jo</td>\n",
       "            </tr>\n",
       "<tr>\n",
       "                <td>\n",
       "                    <a href='http://www.nb.no/items/URN:NBN:no-nb_digibok_2015090106008?searchText=arbeid' target='_blank' style='text-decoration:none'>Knut Hamsun - min far, Hamsun, Tore, 1987</a>\n",
       "                </td>\n",
       "                <td>umulig . Han søkte annet</td>\n",
       "                <td>arbeid</td>\n",
       "                <td style='text-align:left'>, var sjauer på kaien</td>\n",
       "            </tr>\n",
       "<tr>\n",
       "                <td>\n",
       "                    <a href='http://www.nb.no/items/URN:NBN:no-nb_digibok_2015090106008?searchText=arbeid' target='_blank' style='text-decoration:none'>Knut Hamsun - min far, Hamsun, Tore, 1987</a>\n",
       "                </td>\n",
       "                <td>snart sitter Knut i fullt</td>\n",
       "                <td>arbeid</td>\n",
       "                <td style='text-align:left'>med en fortelling . Kveldene</td>\n",
       "            </tr>\n",
       "<tr>\n",
       "                <td>\n",
       "                    <a href='http://www.nb.no/items/URN:NBN:no-nb_digibok_2015090106008?searchText=arbeid' target='_blank' style='text-decoration:none'>Knut Hamsun - min far, Hamsun, Tore, 1987</a>\n",
       "                </td>\n",
       "                <td>var midt i et stort</td>\n",
       "                <td>arbeid</td>\n",
       "                <td style='text-align:left'>. Far måtte finne et</td>\n",
       "            </tr>\n",
       "<tr>\n",
       "                <td>\n",
       "                    <a href='http://www.nb.no/items/URN:NBN:no-nb_digibok_2011060906109?searchText=arbeid' target='_blank' style='text-decoration:none'>Livets røst, Hamsun, Knut, 2003</a>\n",
       "                </td>\n",
       "                <td>. Sannsynligvis ville et slikt</td>\n",
       "                <td>arbeid</td>\n",
       "                <td style='text-align:left'>ha munnet ut i en</td>\n",
       "            </tr>\n",
       "</table>"
      ],
      "text/plain": [
       "<IPython.core.display.HTML object>"
      ]
     },
     "execution_count": 8,
     "metadata": {},
     "output_type": "execute_result"
    }
   ],
   "source": [
    "nb.urn_concordance(word = 'arbeid', urns = nb.pure_urn(korpus))"
   ]
  },
  {
   "cell_type": "markdown",
   "metadata": {},
   "source": [
    "## Navn\n",
    "\n",
    "Finn forslag til navn med `names`. Se på dem med `show_names`. Her er det muligheter til å skru litt på parametrene. Hvis ratioen skrus ned fjernes en del ord, og om cutoff settes høyere vil også enkelte navneforslag kunne forsvinne."
   ]
  },
  {
   "cell_type": "code",
   "execution_count": 9,
   "metadata": {},
   "outputs": [
    {
     "data": {
      "text/plain": [
       "2010121406011"
      ]
     },
     "execution_count": 9,
     "metadata": {},
     "output_type": "execute_result"
    }
   ],
   "source": [
    "korpus['urn'][0]"
   ]
  },
  {
   "cell_type": "code",
   "execution_count": 21,
   "metadata": {},
   "outputs": [],
   "source": [
    "BOOK = nb.pure_urn(korpus['urn'])[11]"
   ]
  },
  {
   "cell_type": "code",
   "execution_count": 22,
   "metadata": {
    "scrolled": false
   },
   "outputs": [
    {
     "name": "stdout",
     "output_type": "stream",
     "text": [
      "Lag 1\n",
      "=========\n",
      "\n",
      "    Einar - 258\n",
      "    Martha - 153\n",
      "    Henry - 94\n",
      "    Jakob - 84\n",
      "    Ingrid - 66\n",
      "    Inger - 61\n",
      "    Langerud - 35\n",
      "    Jon - 29\n",
      "    Jakobs - 19\n",
      "    Miraklet - 19\n",
      "    Ingeborg - 16\n",
      "    Einars - 15\n",
      "    Gudbrand-Gusta - 15\n",
      "    Gusta - 13\n",
      "    Olas - 12\n",
      "    Alfred - 10\n",
      "    Gulla - 10\n",
      "    Randi - 10\n",
      "    Blakken - 9\n",
      "    Gudbrand - 9\n",
      "    Lars - 9\n",
      "    Minda - 8\n",
      "    Bygdebarn - 7\n",
      "    Marthas - 7\n",
      "    Hofset - 6\n",
      "    Ingers - 6\n",
      "    Malla - 6\n",
      "    Drive - 5\n",
      "    Ingrids - 5\n",
      "    Josef - 5\n",
      "    Mordet - 4\n",
      "    Snøfrid - 4\n",
      "    Coogan - 3\n",
      "    Gudbrandstua - 3\n",
      "    Gusta-Gudbrand - 3\n",
      "    Hof - 3\n",
      "    Langerudsætra - 3\n",
      "    Nygård - 3\n",
      "    Vårherre - 3\n",
      "\n",
      "Lag 2\n",
      "=========\n",
      "\n",
      "    Einar Langerud - 2\n",
      "    Minda Hof - 2\n",
      "    Randi Nygård - 2\n",
      "    Ingrid Langerud - 1\n",
      "    Martha Langerud - 1\n",
      "    Lars Hofset - 1\n",
      "    Minda Hofset - 1\n",
      "    Henry Mordet - 1\n",
      "    Lars Hof - 1\n",
      "\n",
      "Lag 3\n",
      "=========\n",
      "\n",
      "\n",
      "Lag 4\n",
      "=========\n",
      "\n",
      "\n"
     ]
    }
   ],
   "source": [
    "navn = nb.names(BOOK, ratio=0.2, cutoff=2)\n",
    "tm.show_names(navn)"
   ]
  },
  {
   "cell_type": "markdown",
   "metadata": {},
   "source": [
    "Listen trenger litt redigering, og sammenslåing."
   ]
  },
  {
   "cell_type": "code",
   "execution_count": 23,
   "metadata": {},
   "outputs": [
    {
     "name": "stdout",
     "output_type": "stream",
     "text": [
      "(Counter({'Einar': 258, 'Martha': 153, 'Henry': 94, 'Jakob': 84, 'Ingrid': 66, 'Inger': 61, 'Langerud': 35, 'Jon': 29, 'Jakobs': 19, 'Miraklet': 19, 'Ingeborg': 16, 'Einars': 15, 'Gudbrand-Gusta': 15, 'Gusta': 13, 'Olas': 12, 'Alfred': 10, 'Gulla': 10, 'Randi': 10, 'Blakken': 9, 'Gudbrand': 9, 'Lars': 9, 'Minda': 8, 'Bygdebarn': 7, 'Marthas': 7, 'Hofset': 6, 'Ingers': 6, 'Malla': 6, 'Drive': 5, 'Ingrids': 5, 'Josef': 5, 'Mordet': 4, 'Snøfrid': 4, 'Coogan': 3, 'Gudbrandstua': 3, 'Gusta-Gudbrand': 3, 'Hof': 3, 'Langerudsætra': 3, 'Nygård': 3, 'Vårherre': 3}), Counter({('Einar', 'Langerud'): 2, ('Minda', 'Hof'): 2, ('Randi', 'Nygård'): 2, ('Ingrid', 'Langerud'): 1, ('Martha', 'Langerud'): 1, ('Lars', 'Hofset'): 1, ('Minda', 'Hofset'): 1, ('Henry', 'Mordet'): 1, ('Lars', 'Hof'): 1}), Counter(), Counter())\n"
     ]
    },
    {
     "data": {
      "text/plain": [
       "True"
      ]
     },
     "execution_count": 23,
     "metadata": {},
     "output_type": "execute_result"
    }
   ],
   "source": [
    "tm.names_to_token_map_file(navn, filename=\"en_bok12.xls\")"
   ]
  },
  {
   "cell_type": "markdown",
   "metadata": {},
   "source": [
    "### Redigeringsaktivitet\n",
    "\n",
    "Rediger filen fra cellen med lagringskommando (`names_to_token_map_file(....)`)\n",
    "Åpne i for eksempel i excel eller tilsvarende som for eksempel openoffice eller libreoffice. Etter redigering, kjøres cellen under. Husk bare å benytte riktig filnavn. "
   ]
  },
  {
   "cell_type": "code",
   "execution_count": 24,
   "metadata": {},
   "outputs": [],
   "source": [
    "redigerte_navn = tm.read_token_map_file(\"en_bok12.xls\")"
   ]
  },
  {
   "cell_type": "markdown",
   "metadata": {},
   "source": [
    "Listen med redigerte navn går inn i grafen - vi tar med oss variabelen BOOK defineret over sammen listen:"
   ]
  },
  {
   "cell_type": "code",
   "execution_count": 25,
   "metadata": {},
   "outputs": [],
   "source": [
    "G = tm.character_network(BOOK, redigerte_navn)"
   ]
  },
  {
   "cell_type": "markdown",
   "metadata": {},
   "source": [
    "Dernest kan den vises og analyseres med passende kommandoer"
   ]
  },
  {
   "cell_type": "code",
   "execution_count": 19,
   "metadata": {},
   "outputs": [
    {
     "data": {
      "text/plain": [
       "NodeView(())"
      ]
     },
     "execution_count": 19,
     "metadata": {},
     "output_type": "execute_result"
    }
   ],
   "source": []
  },
  {
   "cell_type": "code",
   "execution_count": 26,
   "metadata": {},
   "outputs": [
    {
     "name": "stderr",
     "output_type": "stream",
     "text": [
      "D:\\Anaconda3\\lib\\site-packages\\networkx\\drawing\\nx_pylab.py:611: MatplotlibDeprecationWarning: isinstance(..., numbers.Number)\n",
      "  if cb.is_numlike(alpha):\n"
     ]
    },
    {
     "data": {
      "image/png": "[encoded data removed]",
      "text/plain": [
       "<Figure size 1080x720 with 1 Axes>"
      ]
     },
     "metadata": {},
     "output_type": "display_data"
    }
   ],
   "source": [
    "gnl.show_graph(G)"
   ]
  },
  {
   "cell_type": "code",
   "execution_count": null,
   "metadata": {},
   "outputs": [],
   "source": [
    "gnl.show_communities(G)"
   ]
  }
 ],
 "metadata": {
  "hide_input": false,
  "kernelspec": {
   "display_name": "Python 3",
   "language": "python",
   "name": "python3"
  },
  "language_info": {
   "codemirror_mode": {
    "name": "ipython",
    "version": 3
   },
   "file_extension": ".py",
   "mimetype": "text/x-python",
   "name": "python",
   "nbconvert_exporter": "python",
   "pygments_lexer": "ipython3",
   "version": "3.7.3"
  }
 },
 "nbformat": 4,
 "nbformat_minor": 2
}
