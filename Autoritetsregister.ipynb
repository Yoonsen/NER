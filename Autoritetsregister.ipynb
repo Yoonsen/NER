{
 "cells": [
  {
   "cell_type": "markdown",
   "metadata": {},
   "source": [
    "## Hent data fra Bibsys autoritetsregister"
   ]
  },
  {
   "cell_type": "code",
   "execution_count": 1,
   "metadata": {},
   "outputs": [],
   "source": []
  },
  {
   "cell_type": "code",
   "execution_count": 47,
   "metadata": {},
   "outputs": [],
   "source": [
    "import requests\n",
    "\n",
    "def get_author(author):\n",
    "    query = {'q': author,\n",
    "             'start':1,\n",
    "             'max':10,\n",
    "             'format':'json'}\n",
    "    res = requests.get(\"https://authority.bibsys.no/authority/rest/functions/v2/query\", params = query)\n",
    "    return res.json()\n",
    "\n",
    "def get_author_info_from_key(key):\n",
    "    query = {'format':'json'}\n",
    "    res = requests.get(\"https://authority.bibsys.no/authority/rest/authorities/v2/{key}\".format(key=key), params = query)\n",
    "    return res.json()\n",
    "\n",
    "def get_marc_post(name):\n",
    "    r = get_author(name)\n",
    "\n",
    "    results = r['results']\n",
    "    #print(results)\n",
    "    identifiers = [x['identifiersMap']['autid'][0] for x in results if 'autid' in x['identifiersMap']] \n",
    "    #print(identifier)\n",
    "    res = []\n",
    "    for identifier in identifiers:\n",
    "        identifier = identifier.split('x')[1]\n",
    "        try:\n",
    "            #print(identifier)\n",
    "            res.append(get_author_info_from_key(identifier))\n",
    "        except:\n",
    "            True #print('feil med:', identifier)\n",
    "    return res\n",
    "\n",
    "def posts(name):\n",
    "    return [x for x in get_marc_post(name) if x['authorityType'] == 'PERSON']\n",
    "\n",
    "def life_span(marcpost):\n",
    "    return [date['value'] for item in  marcpost[0]['marcdata'] for date in item['subfields'] if date['subcode'] == 'd' and item['tag'] == '100']\n",
    "\n",
    "def alternatives(marcpost):\n",
    "    return [alt['value'] for item in  marcpost[0]['marcdata'] for alt in item['subfields'] if alt['subcode'] == 'a' and item['tag'] == '400']\n",
    "\n",
    "def get_authority_info(name):\n",
    "    marcpost = posts(name)\n",
    "    if marcpost != []:\n",
    "        lf = life_span(marcpost)\n",
    "        alter = alternatives(marcpost)\n",
    "    return {'life-span': lf, 'alternatives': alter}"
   ]
  },
  {
   "cell_type": "code",
   "execution_count": 48,
   "metadata": {},
   "outputs": [
    {
     "data": {
      "text/plain": [
       "{'life-span': ['1899-1990'],\n",
       " 'alternatives': ['Henriksen, Ib',\n",
       "  'Wessel Zapffe, Peter',\n",
       "  'Henriksen, Ibs',\n",
       "  'Zappfe, Peter Wessel']}"
      ]
     },
     "execution_count": 48,
     "metadata": {},
     "output_type": "execute_result"
    }
   ],
   "source": [
    "get_authority_info(\"peter zapffe\")"
   ]
  },
  {
   "cell_type": "code",
   "execution_count": 50,
   "metadata": {},
   "outputs": [
    {
     "data": {
      "text/plain": [
       "{'life-span': ['1859-1952'],\n",
       " 'alternatives': ['Hamsunas, Knutas',\n",
       "  'Ego',\n",
       "  'W.T.',\n",
       "  'Han Musheng',\n",
       "  'Hamsuns, Knuts',\n",
       "  'Chamsun, Knut',\n",
       "  'Hamsund, Knut',\n",
       "  'Chamsoun, Knout',\n",
       "  'Pedersen, Knud',\n",
       "  'Hanmusheng, Ke',\n",
       "  'Hamsun, Kanoot',\n",
       "  'Hamsund, Knut Pedersen',\n",
       "  'Thode, Knut',\n",
       "  'Hamsund, Knud Pedersen',\n",
       "  'Hamusun, K.',\n",
       "  'Gamsun, Knut',\n",
       "  \"Hamsun, Knyut'\",\n",
       "  'Hamsuni, Knut',\n",
       "  'Hamsun, Knuṭ',\n",
       "  '\\u200fה\\u200fמסון, קנוט']}"
      ]
     },
     "execution_count": 50,
     "metadata": {},
     "output_type": "execute_result"
    }
   ],
   "source": [
    "get_authority_info(\"knut hamsun\")"
   ]
  },
  {
   "cell_type": "code",
   "execution_count": 51,
   "metadata": {},
   "outputs": [
    {
     "data": {
      "text/plain": [
       "{'life-span': ['1828-1906'],\n",
       " 'alternatives': ['Bjarme, Brynjolf',\n",
       "  'Ibzen, Chenrik',\n",
       "  'Ibsen, Genrik',\n",
       "  'Ipusen, Henrikku',\n",
       "  'Ibsen, Henr.',\n",
       "  'Yibusheng',\n",
       "  'Ibsen, Enrico',\n",
       "  'Ibsenŭ, Chenrikŭ',\n",
       "  'Ibsen, Hendrik',\n",
       "  'I-pu-sheng',\n",
       "  'Ibsen, Henrik Johan',\n",
       "  'Ibsin, Hinrik',\n",
       "  'Ibsen, Henryk',\n",
       "  'Yi bu sheng',\n",
       "  'Yibusheng',\n",
       "  '易卜生',\n",
       "  'Ibsens, Henriks',\n",
       "  'Ipsen, Errikou',\n",
       "  'Ibsen, Henrick',\n",
       "  'Ipusen',\n",
       "  'Ibseni, Henrik',\n",
       "  'イプセン, ヘンリック',\n",
       "  'イブセン',\n",
       "  'איבסן, הנריק']}"
      ]
     },
     "execution_count": 51,
     "metadata": {},
     "output_type": "execute_result"
    }
   ],
   "source": [
    "get_authority_info(\"henrik ibsen\")"
   ]
  },
  {
   "cell_type": "code",
   "execution_count": 52,
   "metadata": {},
   "outputs": [
    {
     "data": {
      "text/plain": [
       "{'life-span': ['1957-'],\n",
       " 'alternatives': ['Ragde, Anne Birkefeldt',\n",
       "  'Birkefeldt Ragde, Anne',\n",
       "  'Ragdeová, Anne Birkefeldt',\n",
       "  'Birkefeldt Ragdeová, Anne',\n",
       "  'Ragdeová, Anne B.',\n",
       "  'Ragde, Ane Birkefeld']}"
      ]
     },
     "execution_count": 52,
     "metadata": {},
     "output_type": "execute_result"
    }
   ],
   "source": [
    "get_authority_info(\"anne ragde\")"
   ]
  }
 ],
 "metadata": {
  "kernelspec": {
   "display_name": "Python 3",
   "language": "python",
   "name": "python3"
  },
  "language_info": {
   "codemirror_mode": {
    "name": "ipython",
    "version": 3
   },
   "file_extension": ".py",
   "mimetype": "text/x-python",
   "name": "python",
   "nbconvert_exporter": "python",
   "pygments_lexer": "ipython3",
   "version": "3.7.3"
  }
 },
 "nbformat": 4,
 "nbformat_minor": 2
}
