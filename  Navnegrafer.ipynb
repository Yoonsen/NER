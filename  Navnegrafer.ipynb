{
 "cells": [
  {
   "cell_type": "markdown",
   "metadata": {},
   "source": [
    "## Oppstart"
   ]
  },
  {
   "cell_type": "code",
   "execution_count": null,
   "metadata": {},
   "outputs": [],
   "source": [
    "!curl -s \"https://raw.githubusercontent.com/Yoonsen/Modules/master/module_update.py\" > \"module_update.py\""
   ]
  },
  {
   "cell_type": "code",
   "execution_count": null,
   "metadata": {},
   "outputs": [],
   "source": [
    "from module_update import update, css"
   ]
  },
  {
   "cell_type": "code",
   "execution_count": null,
   "metadata": {},
   "outputs": [],
   "source": [
    "css()"
   ]
  },
  {
   "cell_type": "code",
   "execution_count": null,
   "metadata": {},
   "outputs": [],
   "source": [
    "import warnings\n",
    "warnings.filterwarnings('ignore')"
   ]
  },
  {
   "cell_type": "code",
   "execution_count": null,
   "metadata": {},
   "outputs": [],
   "source": [
    "update('graph_networkx_louvain')\n",
    "update('token_map')\n",
    "import nbtext as nb\n",
    "import token_map as tm\n",
    "from nbtext import get_urn, make_graph, get_urn, relaterte_ord, navn, totals\n",
    "import graph_networkx_louvain as gnl\n",
    "%matplotlib inline\n",
    "\n",
    "plot = lambda x,  lw=3, alpha= 0.7: x.plot(figsize=(15,6), lw=lw, alpha=alpha)\n"
   ]
  },
  {
   "cell_type": "markdown",
   "metadata": {},
   "source": [
    "## Navn i bøker\n",
    "\n",
    "For en gitt bok søker vi etter navnene i den. Selve navnegjenkjenneren er under utvikling og har et par komponenenter. Det ene er å finne navn, dernest å kategorisere dem i klasser som personnavn og stedsnavn (med flere), og til sist å kunne koble forskjellige navn sammen. I en tekst kan både fornavn og etternavn benyttes i tillegg til genitivsvarianter. I praksis betyr det at navnesettene må redigeres.\n",
    "\n",
    "Kommandoene er:\n",
    "1. `names` henter et sett med forslag til navn, fra nbtext\n",
    "1. `show_names` gir en oversikt over funnene, fra token_map\n",
    "1. `names_to_token_map_file` lagrer navneforslagene til en excelfil (eller csv) for redigering (token_map)\n",
    "1. `read_token_map_file` henter redigert fil tilbake for analyse (token_map)\n",
    "1. `character_network` lager graf for navnene (token_map)\n",
    "1. `show_graph`  tegner grafen (fra graph_networkx_louvain)\n",
    "1. `show_communities` viser clustre i grafen (graph_networkx_louvain)\n"
   ]
  },
  {
   "cell_type": "markdown",
   "metadata": {},
   "source": [
    "# Eksempel\n",
    "\n",
    "I eksemplet ser vi på en tilfeldig bok"
   ]
  },
  {
   "cell_type": "code",
   "execution_count": null,
   "metadata": {
    "scrolled": true
   },
   "outputs": [],
   "source": [
    "\n",
    "# Fetch URNs\n",
    "\n",
    "urns = nb.book_urn(author = 'vestly%ann%',  title = '%knerten%', limit=100)\n",
    "urns"
   ]
  },
  {
   "cell_type": "code",
   "execution_count": null,
   "metadata": {},
   "outputs": [],
   "source": [
    "Vi finner passende versjon og legger den inn i variabelen BOOK"
   ]
  },
  {
   "cell_type": "code",
   "execution_count": null,
   "metadata": {},
   "outputs": [],
   "source": [
    "BOOK = 2007111601009"
   ]
  },
  {
   "cell_type": "markdown",
   "metadata": {},
   "source": [
    "Så henter vi ut alle forslag til navn, og ser på dem med show_names. Her er det muligheter til å skru litt på parametrene. Hvis ratioen skrus ned fjernes en del ord, og om cutoff settes høyere vil også enkelte navneforslag kunne forsvinne."
   ]
  },
  {
   "cell_type": "code",
   "execution_count": null,
   "metadata": {
    "scrolled": false
   },
   "outputs": [],
   "source": [
    "navn = nb.names(BOOK, ratio=0.2, cutoff=2)\n",
    "tm.show_names(navn)"
   ]
  },
  {
   "cell_type": "markdown",
   "metadata": {},
   "source": [
    "Listen trenger litt redigering, og sammenslåing."
   ]
  },
  {
   "cell_type": "code",
   "execution_count": null,
   "metadata": {},
   "outputs": [],
   "source": [
    "tm.names_to_token_map_file(navn, filename=\"en_bok.xls\")"
   ]
  },
  {
   "cell_type": "markdown",
   "metadata": {},
   "source": [
    "### Redigeringsaktivitet\n",
    "Her går vi til excel (eller openoffice eller libreoffice eller ...) og redigerer navenene. NÅr alt er ferdig er det bare å gå tilbake til notebooken, hente frem redigert fil og fortsette analysen."
   ]
  },
  {
   "cell_type": "code",
   "execution_count": null,
   "metadata": {},
   "outputs": [],
   "source": [
    "redigerte_navn = tm.read_token_map_file(\"en_bok.xls\")"
   ]
  },
  {
   "cell_type": "markdown",
   "metadata": {},
   "source": [
    "Listen med redigerte navn går inn i grafen - vi tar med oss variabelen BOOK defineret over sammen listen:"
   ]
  },
  {
   "cell_type": "code",
   "execution_count": null,
   "metadata": {},
   "outputs": [],
   "source": [
    "G = tm.character_network(BOOK, redigerte_navn)"
   ]
  },
  {
   "cell_type": "markdown",
   "metadata": {},
   "source": [
    "Dernest kan den vises og analyseres med passende kommandoer"
   ]
  },
  {
   "cell_type": "code",
   "execution_count": null,
   "metadata": {},
   "outputs": [],
   "source": [
    "gnl.show_graph(G)"
   ]
  },
  {
   "cell_type": "code",
   "execution_count": null,
   "metadata": {},
   "outputs": [],
   "source": [
    "gnl.show_communities(G)"
   ]
  }
 ],
 "metadata": {
  "hide_input": false,
  "kernelspec": {
   "display_name": "Python 3",
   "language": "python",
   "name": "python3"
  },
  "language_info": {
   "codemirror_mode": {
    "name": "ipython",
    "version": 3
   },
   "file_extension": ".py",
   "mimetype": "text/x-python",
   "name": "python",
   "nbconvert_exporter": "python",
   "pygments_lexer": "ipython3",
   "version": "3.7.1"
  }
 },
 "nbformat": 4,
 "nbformat_minor": 2
}
