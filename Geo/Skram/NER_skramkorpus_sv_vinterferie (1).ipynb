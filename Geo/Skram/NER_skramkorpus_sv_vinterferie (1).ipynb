{
 "cells": [
  {
   "attachments": {
    "DHlab_logo_web_no_red.png": {
     "image/png": "[encoded data removed]"
    }
   },
   "cell_type": "markdown",
   "metadata": {},
   "source": [
    "![DHlab_logo_web_no_red.png](attachment:DHlab_logo_web_no_red.png)"
   ]
  },
  {
   "cell_type": "markdown",
   "metadata": {},
   "source": [
    "Her vil jeg etablere et Skramkorpus og gjøre ting med det. Jeg vil i første omgang lage korpus og deretter hente ut stedsnavn. Til dette prøver jeg å kombinere Notebooks for korpusbygging og \"Navnegrafer\". "
   ]
  },
  {
   "cell_type": "code",
   "execution_count": 1,
   "metadata": {},
   "outputs": [
    {
     "data": {
      "text/html": [
       "<style>@import url(\n",
       "http://fonts.googleapis.com/css?family=Lato|Philosopher|Montserrat|Source+Code+Pro|Istok+Web|Philosopher|Assistant:200,400,700);\n",
       "\n",
       "/*\n",
       "#notebook-container {\n",
       "\t-webkit-box-shadow: none;\n",
       "\tbox-shadow: none;\n",
       "}\n",
       "*/\n",
       "\n",
       "h1, h2, h3, h4, h5, h6 {\n",
       "\tfont-family: 'Montserrat', sans-serif;\n",
       "\tline-height: 2em;\n",
       "    color: #004f99;\n",
       "    font-weight: 600;\n",
       "}\n",
       "\n",
       "h1 { font-size: 4.5em; }\n",
       "h2 { font-size: 4em; }\n",
       "h3 { font-size: 3.5em; }\n",
       "h4 { font-size: 3em; }\n",
       "h5 { font-size: 2.5em; color:DarkSlateGray; }\n",
       "h6 { font-size: 2em; }\n",
       "\n",
       "p {\n",
       "\tfont-family: 'Assistant', sans-serif; \n",
       "\tfont-size: 1.2em;\n",
       "\tline-height: 1.4em;\n",
       "\tcolor: black;\n",
       "}\n",
       "p code {\n",
       "\tfont-size:0.9em;\n",
       "}\n",
       "div.input_area {\n",
       "\tborder:none !important;\n",
       "\tborder-left:1px solid #ff851b !important\n",
       "}\n",
       "\n",
       "span.cm-keyword {\n",
       "\tcolor:#339966 !important;\n",
       "}\n",
       "span.nn {  /*span.cm-variable, span.cm-property*/\n",
       "\tcolor: #3399ff !important;\n",
       "}\n",
       "div.CodeMirror {\n",
       "\tfont-family: 'Inconsolata', monospace;\n",
       "\tfont-size: 1.1em;\n",
       "\t\n",
       "}\n",
       "</style>"
      ],
      "text/plain": [
       "<IPython.core.display.HTML object>"
      ]
     },
     "execution_count": 1,
     "metadata": {},
     "output_type": "execute_result"
    }
   ],
   "source": [
    "import dhlab.nbtext as nb\n",
    "from dhlab.module_update import css\n",
    "%matplotlib inline\n",
    "css()"
   ]
  },
  {
   "cell_type": "code",
   "execution_count": 2,
   "metadata": {},
   "outputs": [],
   "source": [
    "from dhlab.module_update import update, css\n",
    "import dhlab.nbtext as nb\n",
    "from dhlab.nbtext import get_urn, make_graph, get_urn, relaterte_ord, navn, totals\n",
    "import dhlab.graph_networkx_louvain as gnl\n",
    "import dhlab.token_map as tm\n",
    "%matplotlib inline\n",
    "\n",
    "plot = lambda x,  lw=3, alpha= 0.7: x.plot(figsize=(15,6), lw=lw, alpha=alpha)"
   ]
  },
  {
   "cell_type": "code",
   "execution_count": 19,
   "metadata": {},
   "outputs": [],
   "source": [
    "import re"
   ]
  },
  {
   "cell_type": "code",
   "execution_count": 3,
   "metadata": {},
   "outputs": [
    {
     "data": {
      "text/html": [
       "<style>@import url(\n",
       "http://fonts.googleapis.com/css?family=Lato|Philosopher|Montserrat|Source+Code+Pro|Istok+Web|Philosopher|Assistant:200,400,700);\n",
       "\n",
       "/*\n",
       "#notebook-container {\n",
       "\t-webkit-box-shadow: none;\n",
       "\tbox-shadow: none;\n",
       "}\n",
       "*/\n",
       "\n",
       "h1, h2, h3, h4, h5, h6 {\n",
       "\tfont-family: 'Montserrat', sans-serif;\n",
       "\tline-height: 2em;\n",
       "    color: #004f99;\n",
       "    font-weight: 600;\n",
       "}\n",
       "\n",
       "h1 { font-size: 4.5em; }\n",
       "h2 { font-size: 4em; }\n",
       "h3 { font-size: 3.5em; }\n",
       "h4 { font-size: 3em; }\n",
       "h5 { font-size: 2.5em; color:DarkSlateGray; }\n",
       "h6 { font-size: 2em; }\n",
       "\n",
       "p {\n",
       "\tfont-family: 'Assistant', sans-serif; \n",
       "\tfont-size: 1.2em;\n",
       "\tline-height: 1.4em;\n",
       "\tcolor: black;\n",
       "}\n",
       "p code {\n",
       "\tfont-size:0.9em;\n",
       "}\n",
       "div.input_area {\n",
       "\tborder:none !important;\n",
       "\tborder-left:1px solid #ff851b !important\n",
       "}\n",
       "\n",
       "span.cm-keyword {\n",
       "\tcolor:#339966 !important;\n",
       "}\n",
       "span.nn {  /*span.cm-variable, span.cm-property*/\n",
       "\tcolor: #3399ff !important;\n",
       "}\n",
       "div.CodeMirror {\n",
       "\tfont-family: 'Inconsolata', monospace;\n",
       "\tfont-size: 1.1em;\n",
       "\t\n",
       "}\n",
       "</style>"
      ],
      "text/plain": [
       "<IPython.core.display.HTML object>"
      ]
     },
     "execution_count": 3,
     "metadata": {},
     "output_type": "execute_result"
    }
   ],
   "source": [
    "import warnings\n",
    "warnings.filterwarnings('ignore')\n",
    "\n",
    "css()"
   ]
  },
  {
   "cell_type": "markdown",
   "metadata": {},
   "source": [
    "# Hjelpekommandoer\n",
    "\n",
    "`alle_korpusnavn` henter ut alle navn (eller forslag til) fra korpuset.\n",
    "`tell_navn` teller opp navnene på tvers av korpuset \n"
   ]
  },
  {
   "cell_type": "code",
   "execution_count": 4,
   "metadata": {},
   "outputs": [],
   "source": [
    "import pandas as pd\n",
    "\n",
    "def alle_korpusnavn(korpus, ratio=0.3, cutoff=0):\n",
    "    urner = nb.pure_urn(korpus)\n",
    "    alle_navn = tm.combine_names(tm.corpus_names(urner, ratio = ratio, cutoff = cutoff))\n",
    "    return alle_navn\n",
    "\n",
    "def tell_navn(korpus, token_map):\n",
    "    res = dict()\n",
    "    for urn in korpus['urn']:\n",
    "        res[urn] = tm.count_name_strings(str(urn), token_map).to_dict()[0]\n",
    "    return pd.DataFrame(pd.DataFrame(res).sum(axis=1).sort_values(ascending=False))"
   ]
  },
  {
   "cell_type": "markdown",
   "metadata": {},
   "source": [
    "## Navn i bøker\n",
    "\n",
    "\n",
    "Vi søker etter navn i en bok, og en serie av bøker.\n",
    "\n",
    "Kommandoene er:\n",
    "1. `names` henter et sett med forslag til navn, fra nbtext\n",
    "1. `show_names` gir en oversikt over funnene, fra token_map\n",
    "1. `names_to_token_map_file` lagrer navneforslagene til en excelfil (eller csv) for redigering (token_map)\n",
    "1. `read_token_map_file` henter redigert fil tilbake for analyse (token_map)\n",
    "1. `character_network` lager graf for navnene (token_map)\n",
    "1. `show_graph`  tegner grafen (fra graph_networkx_louvain)\n",
    "1. `show_communities` viser clustre i grafen (graph_networkx_louvain)\n"
   ]
  },
  {
   "cell_type": "code",
   "execution_count": 5,
   "metadata": {},
   "outputs": [],
   "source": [
    "korpus = nb.restore_metadata_from_excel('skram_korpus_sv.xls')"
   ]
  },
  {
   "cell_type": "code",
   "execution_count": 6,
   "metadata": {},
   "outputs": [
    {
     "data": {
      "text/html": [
       "<div>\n",
       "<style scoped>\n",
       "    .dataframe tbody tr th:only-of-type {\n",
       "        vertical-align: middle;\n",
       "    }\n",
       "\n",
       "    .dataframe tbody tr th {\n",
       "        vertical-align: top;\n",
       "    }\n",
       "\n",
       "    .dataframe thead th {\n",
       "        text-align: right;\n",
       "    }\n",
       "</style>\n",
       "<table border=\"1\" class=\"dataframe\">\n",
       "  <thead>\n",
       "    <tr style=\"text-align: right;\">\n",
       "      <th></th>\n",
       "      <th>urn</th>\n",
       "      <th>forfatter</th>\n",
       "      <th>år</th>\n",
       "      <th>tittel</th>\n",
       "      <th>subtittel</th>\n",
       "      <th>forlag</th>\n",
       "      <th>x</th>\n",
       "      <th>x.1</th>\n",
       "      <th>lang</th>\n",
       "      <th>trans</th>\n",
       "    </tr>\n",
       "  </thead>\n",
       "  <tbody>\n",
       "    <tr>\n",
       "      <td>0</td>\n",
       "      <td>2008012904020</td>\n",
       "      <td>Skram, Amalie</td>\n",
       "      <td>1993</td>\n",
       "      <td>Samlede verker 1</td>\n",
       "      <td>NaN</td>\n",
       "      <td>NaN</td>\n",
       "      <td>NaN</td>\n",
       "      <td>NaN</td>\n",
       "      <td>NaN</td>\n",
       "      <td>NaN</td>\n",
       "    </tr>\n",
       "    <tr>\n",
       "      <td>1</td>\n",
       "      <td>2008011000051</td>\n",
       "      <td>Skram, Amalie</td>\n",
       "      <td>1993</td>\n",
       "      <td>Samlede verker 2</td>\n",
       "      <td>NaN</td>\n",
       "      <td>NaN</td>\n",
       "      <td>NaN</td>\n",
       "      <td>NaN</td>\n",
       "      <td>NaN</td>\n",
       "      <td>NaN</td>\n",
       "    </tr>\n",
       "    <tr>\n",
       "      <td>2</td>\n",
       "      <td>2008010900076</td>\n",
       "      <td>Skram, Amalie</td>\n",
       "      <td>1993</td>\n",
       "      <td>Samlede verker 3</td>\n",
       "      <td>NaN</td>\n",
       "      <td>NaN</td>\n",
       "      <td>NaN</td>\n",
       "      <td>NaN</td>\n",
       "      <td>NaN</td>\n",
       "      <td>NaN</td>\n",
       "    </tr>\n",
       "    <tr>\n",
       "      <td>3</td>\n",
       "      <td>2008012801071</td>\n",
       "      <td>Skram, Amalie</td>\n",
       "      <td>1993</td>\n",
       "      <td>Samlede verker 4</td>\n",
       "      <td>NaN</td>\n",
       "      <td>NaN</td>\n",
       "      <td>NaN</td>\n",
       "      <td>NaN</td>\n",
       "      <td>NaN</td>\n",
       "      <td>NaN</td>\n",
       "    </tr>\n",
       "    <tr>\n",
       "      <td>4</td>\n",
       "      <td>2008012801072</td>\n",
       "      <td>Skram, Amalie</td>\n",
       "      <td>1993</td>\n",
       "      <td>Samlede verker 5</td>\n",
       "      <td>NaN</td>\n",
       "      <td>NaN</td>\n",
       "      <td>NaN</td>\n",
       "      <td>NaN</td>\n",
       "      <td>NaN</td>\n",
       "      <td>NaN</td>\n",
       "    </tr>\n",
       "    <tr>\n",
       "      <td>5</td>\n",
       "      <td>2008012804059</td>\n",
       "      <td>Skram, Amalie</td>\n",
       "      <td>1993</td>\n",
       "      <td>Samlede verker 6</td>\n",
       "      <td>NaN</td>\n",
       "      <td>NaN</td>\n",
       "      <td>NaN</td>\n",
       "      <td>NaN</td>\n",
       "      <td>NaN</td>\n",
       "      <td>NaN</td>\n",
       "    </tr>\n",
       "    <tr>\n",
       "      <td>6</td>\n",
       "      <td>2008012804063</td>\n",
       "      <td>Skram, Amalie</td>\n",
       "      <td>1993</td>\n",
       "      <td>Samlede verker 7</td>\n",
       "      <td>NaN</td>\n",
       "      <td>NaN</td>\n",
       "      <td>NaN</td>\n",
       "      <td>NaN</td>\n",
       "      <td>NaN</td>\n",
       "      <td>NaN</td>\n",
       "    </tr>\n",
       "  </tbody>\n",
       "</table>\n",
       "</div>"
      ],
      "text/plain": [
       "             urn      forfatter    år            tittel  subtittel  forlag  \\\n",
       "0  2008012904020  Skram, Amalie  1993  Samlede verker 1        NaN     NaN   \n",
       "1  2008011000051  Skram, Amalie  1993  Samlede verker 2        NaN     NaN   \n",
       "2  2008010900076  Skram, Amalie  1993  Samlede verker 3        NaN     NaN   \n",
       "3  2008012801071  Skram, Amalie  1993  Samlede verker 4        NaN     NaN   \n",
       "4  2008012801072  Skram, Amalie  1993  Samlede verker 5        NaN     NaN   \n",
       "5  2008012804059  Skram, Amalie  1993  Samlede verker 6        NaN     NaN   \n",
       "6  2008012804063  Skram, Amalie  1993  Samlede verker 7        NaN     NaN   \n",
       "\n",
       "    x  x.1  lang  trans  \n",
       "0 NaN  NaN   NaN    NaN  \n",
       "1 NaN  NaN   NaN    NaN  \n",
       "2 NaN  NaN   NaN    NaN  \n",
       "3 NaN  NaN   NaN    NaN  \n",
       "4 NaN  NaN   NaN    NaN  \n",
       "5 NaN  NaN   NaN    NaN  \n",
       "6 NaN  NaN   NaN    NaN  "
      ]
     },
     "execution_count": 6,
     "metadata": {},
     "output_type": "execute_result"
    }
   ],
   "source": [
    "korpus"
   ]
  },
  {
   "cell_type": "code",
   "execution_count": 7,
   "metadata": {},
   "outputs": [
    {
     "data": {
      "text/plain": [
       "['2008012904020',\n",
       " '2008011000051',\n",
       " '2008010900076',\n",
       " '2008012801071',\n",
       " '2008012801072',\n",
       " '2008012804059',\n",
       " '2008012804063']"
      ]
     },
     "execution_count": 7,
     "metadata": {},
     "output_type": "execute_result"
    }
   ],
   "source": [
    "nb.pure_urn(korpus)"
   ]
  },
  {
   "cell_type": "code",
   "execution_count": 8,
   "metadata": {
    "scrolled": true
   },
   "outputs": [
    {
     "data": {
      "text/html": [
       "<table><tr>\n",
       "                <td>\n",
       "                    <a href='http://www.nb.no/items/URN:NBN:no-nb_digibok_2008012801071?searchText=damperen' target='_blank' style='text-decoration:none'>Samlede verker, Skram, Amalie, 1993</a>\n",
       "                </td>\n",
       "                <td>hvitgrønne boblende skumstripe , som</td>\n",
       "                <td>damperen</td>\n",
       "                <td style='text-align:left'>slepte efter sig i det</td>\n",
       "            </tr>\n",
       "<tr>\n",
       "                <td>\n",
       "                    <a href='http://www.nb.no/items/URN:NBN:no-nb_digibok_2008012801072?searchText=damperen' target='_blank' style='text-decoration:none'>Samlede verker, Skram, Amalie, 1993</a>\n",
       "                </td>\n",
       "                <td>» master . Akterut fra</td>\n",
       "                <td>damperen</td>\n",
       "                <td style='text-align:left'>skrek en mann noen hese</td>\n",
       "            </tr>\n",
       "<tr>\n",
       "                <td>\n",
       "                    <a href='http://www.nb.no/items/URN:NBN:no-nb_digibok_2008012801072?searchText=damperen' target='_blank' style='text-decoration:none'>Samlede verker, Skram, Amalie, 1993</a>\n",
       "                </td>\n",
       "                <td>tilbake som ekko , svingte</td>\n",
       "                <td>damperen</td>\n",
       "                <td style='text-align:left'>rundt i en halvcirkel, og</td>\n",
       "            </tr>\n",
       "<tr>\n",
       "                <td>\n",
       "                    <a href='http://www.nb.no/items/URN:NBN:no-nb_digibok_2008012804059?searchText=damperen' target='_blank' style='text-decoration:none'>Samlede verker, Skram, Amalie, 1993</a>\n",
       "                </td>\n",
       "                <td>Om et kvarters tid vilde</td>\n",
       "                <td>damperen</td>\n",
       "                <td style='text-align:left'>legge til ved Bratøen ,</td>\n",
       "            </tr>\n",
       "<tr>\n",
       "                <td>\n",
       "                    <a href='http://www.nb.no/items/URN:NBN:no-nb_digibok_2008012804059?searchText=damperen' target='_blank' style='text-decoration:none'>Samlede verker, Skram, Amalie, 1993</a>\n",
       "                </td>\n",
       "                <td>bryggen og speide ut mot</td>\n",
       "                <td>damperen</td>\n",
       "                <td style='text-align:left'>. Det var over deres</td>\n",
       "            </tr>\n",
       "<tr>\n",
       "                <td>\n",
       "                    <a href='http://www.nb.no/items/URN:NBN:no-nb_digibok_2008012804059?searchText=damperen' target='_blank' style='text-decoration:none'>Samlede verker, Skram, Amalie, 1993</a>\n",
       "                </td>\n",
       "                <td>Et par minutter efter la</td>\n",
       "                <td>damperen</td>\n",
       "                <td style='text-align:left'>til ved bryggen ; en</td>\n",
       "            </tr>\n",
       "<tr>\n",
       "                <td>\n",
       "                    <a href='http://www.nb.no/items/URN:NBN:no-nb_digibok_2008012804059?searchText=damperen' target='_blank' style='text-decoration:none'>Samlede verker, Skram, Amalie, 1993</a>\n",
       "                </td>\n",
       "                <td>ut over sjøen , hvor</td>\n",
       "                <td>damperen</td>\n",
       "                <td style='text-align:left'>kom glidende . Om et</td>\n",
       "            </tr>\n",
       "<tr>\n",
       "                <td>\n",
       "                    <a href='http://www.nb.no/items/URN:NBN:no-nb_digibok_2008012804059?searchText=damperen' target='_blank' style='text-decoration:none'>Samlede verker, Skram, Amalie, 1993</a>\n",
       "                </td>\n",
       "                <td>Han gikk ombord på</td>\n",
       "                <td>damperen</td>\n",
       "                <td style='text-align:left'>, som straks efter gled</td>\n",
       "            </tr>\n",
       "<tr>\n",
       "                <td>\n",
       "                    <a href='http://www.nb.no/items/URN:NBN:no-nb_digibok_2008012804063?searchText=damperen' target='_blank' style='text-decoration:none'>Samlede verker, Skram, Amalie, 1993</a>\n",
       "                </td>\n",
       "                <td>Så la da</td>\n",
       "                <td>damperen</td>\n",
       "                <td style='text-align:left'>til ved Nordfjordeidet . Bredt</td>\n",
       "            </tr>\n",
       "<tr>\n",
       "                <td>\n",
       "                    <a href='http://www.nb.no/items/URN:NBN:no-nb_digibok_2008012804063?searchText=damperen' target='_blank' style='text-decoration:none'>Samlede verker, Skram, Amalie, 1993</a>\n",
       "                </td>\n",
       "                <td>i mengde la til omkring</td>\n",
       "                <td>damperen</td>\n",
       "                <td style='text-align:left'>.</td>\n",
       "            </tr>\n",
       "</table>"
      ],
      "text/plain": [
       "<IPython.core.display.HTML object>"
      ]
     },
     "execution_count": 8,
     "metadata": {},
     "output_type": "execute_result"
    }
   ],
   "source": [
    "nb.urn_concordance(word = 'damperen', urns = nb.pure_urn(korpus))"
   ]
  },
  {
   "cell_type": "markdown",
   "metadata": {},
   "source": [
    "## Navn\n",
    "\n",
    "Finn forslag til navn med `names`. Se på dem med `show_names`. Her er det muligheter til å skru litt på parametrene. Hvis ratioen skrus ned fjernes en del ord, og om cutoff settes høyere vil også enkelte navneforslag kunne forsvinne."
   ]
  },
  {
   "cell_type": "markdown",
   "metadata": {},
   "source": [
    "Velg hvilken bok som skal studeres (alle kan tas, men se under). Se på listen over korpus og sett den indeksen som passer. Her er det bare å føle seg frem."
   ]
  },
  {
   "cell_type": "markdown",
   "metadata": {},
   "source": [
    "nb.names har cutoff 2 som default - cutoff 1 fjerner litt mindre \n",
    "\n",
    "I funksjonen alle_korpusnavn er cutoff satt til null. \n",
    "\n",
    "**Cutoff virker pr. bok, så i et korpus kan jo et navn forekomme 1 gang pr. bok, og likevel ha en høy frekvens.**\n",
    "\n",
    "Legger i ratio og cutoff eksplisitt her, så det er helt klart."
   ]
  },
  {
   "cell_type": "code",
   "execution_count": 9,
   "metadata": {},
   "outputs": [],
   "source": [
    "names_total = alle_korpusnavn(list(korpus.urn), ratio=0.3, cutoff = 0)"
   ]
  },
  {
   "cell_type": "markdown",
   "metadata": {},
   "source": [
    "Tar ut bare single navn - for enkelhets skyld her, og ser mer på dem, som aktuelle stedsnavn"
   ]
  },
  {
   "cell_type": "code",
   "execution_count": 10,
   "metadata": {
    "scrolled": true
   },
   "outputs": [],
   "source": [
    "singles = names_total[0]"
   ]
  },
  {
   "cell_type": "code",
   "execution_count": 11,
   "metadata": {},
   "outputs": [],
   "source": [
    "navn_tot = nb.frame(singles)"
   ]
  },
  {
   "cell_type": "code",
   "execution_count": 12,
   "metadata": {},
   "outputs": [
    {
     "data": {
      "text/html": [
       "<div>\n",
       "<style scoped>\n",
       "    .dataframe tbody tr th:only-of-type {\n",
       "        vertical-align: middle;\n",
       "    }\n",
       "\n",
       "    .dataframe tbody tr th {\n",
       "        vertical-align: top;\n",
       "    }\n",
       "\n",
       "    .dataframe thead th {\n",
       "        text-align: right;\n",
       "    }\n",
       "</style>\n",
       "<table border=\"1\" class=\"dataframe\">\n",
       "  <thead>\n",
       "    <tr style=\"text-align: right;\">\n",
       "      <th></th>\n",
       "      <th>0</th>\n",
       "    </tr>\n",
       "  </thead>\n",
       "  <tbody>\n",
       "    <tr>\n",
       "      <td>Sandviken</td>\n",
       "      <td>10</td>\n",
       "    </tr>\n",
       "    <tr>\n",
       "      <td>Kingston</td>\n",
       "      <td>5</td>\n",
       "    </tr>\n",
       "    <tr>\n",
       "      <td>Jamaica</td>\n",
       "      <td>2</td>\n",
       "    </tr>\n",
       "    <tr>\n",
       "      <td>Bergen</td>\n",
       "      <td>52</td>\n",
       "    </tr>\n",
       "    <tr>\n",
       "      <td>Hellemyren</td>\n",
       "      <td>9</td>\n",
       "    </tr>\n",
       "    <tr>\n",
       "      <td>Dreggen</td>\n",
       "      <td>4</td>\n",
       "    </tr>\n",
       "    <tr>\n",
       "      <td>Skuteviken</td>\n",
       "      <td>6</td>\n",
       "    </tr>\n",
       "    <tr>\n",
       "      <td>Kristiania</td>\n",
       "      <td>71</td>\n",
       "    </tr>\n",
       "  </tbody>\n",
       "</table>\n",
       "</div>"
      ],
      "text/plain": [
       "             0\n",
       "Sandviken   10\n",
       "Kingston     5\n",
       "Jamaica      2\n",
       "Bergen      52\n",
       "Hellemyren   9\n",
       "Dreggen      4\n",
       "Skuteviken   6\n",
       "Kristiania  71"
      ]
     },
     "execution_count": 12,
     "metadata": {},
     "output_type": "execute_result"
    }
   ],
   "source": [
    "navn_tot.loc[[y for y in \"Sandviken, Kingston, Jamaica, Bergen, Hellemyren, Dreggen, Skuteviken, Kristiania\".split(', ') if y in navn_tot.index]]"
   ]
  },
  {
   "cell_type": "markdown",
   "metadata": {},
   "source": [
    "### Lagring og redigering\n",
    "\n",
    "Rediger filen fra cellen med lagringskommando (`names_to_token_map_file(....)`)\n",
    "Listen trenger litt redigering, og sammenslåing. Lagre til Excel, og benytt `orient = column` for å ha navn i kolonnner, eller `orient = row` for å redigere radvis. Noen store filer med over 256 navn krever `row`. Kommandoen sjekker om filen allerede fins, og vil ikke skrive over. Følg med på output."
   ]
  },
  {
   "cell_type": "code",
   "execution_count": 13,
   "metadata": {
    "scrolled": true
   },
   "outputs": [
    {
     "data": {
      "text/plain": [
       "True"
      ]
     },
     "execution_count": 13,
     "metadata": {},
     "output_type": "execute_result"
    }
   ],
   "source": [
    "tm.names_to_token_map_file(names_total, filename = \"NER_skram_korpus_sv_vinterferie2.xls\", orient = \"row\")"
   ]
  },
  {
   "cell_type": "markdown",
   "metadata": {},
   "source": [
    "# Hent geonavn for Norge fra NO-mappen"
   ]
  },
  {
   "cell_type": "code",
   "execution_count": 14,
   "metadata": {},
   "outputs": [],
   "source": [
    "geonavn = pd.read_csv(\"../NO/NO.txt\", delimiter=\"\\t\", header=None)"
   ]
  },
  {
   "cell_type": "markdown",
   "metadata": {},
   "source": [
    "Felt 3 har forskjellige varianter, så vi kan søke der for stedsnavn. Sikrer at Kristiania blir med."
   ]
  },
  {
   "cell_type": "code",
   "execution_count": 15,
   "metadata": {},
   "outputs": [
    {
     "data": {
      "text/html": [
       "<div>\n",
       "<style scoped>\n",
       "    .dataframe tbody tr th:only-of-type {\n",
       "        vertical-align: middle;\n",
       "    }\n",
       "\n",
       "    .dataframe tbody tr th {\n",
       "        vertical-align: top;\n",
       "    }\n",
       "\n",
       "    .dataframe thead th {\n",
       "        text-align: right;\n",
       "    }\n",
       "</style>\n",
       "<table border=\"1\" class=\"dataframe\">\n",
       "  <thead>\n",
       "    <tr style=\"text-align: right;\">\n",
       "      <th></th>\n",
       "      <th>0</th>\n",
       "      <th>1</th>\n",
       "      <th>2</th>\n",
       "      <th>3</th>\n",
       "      <th>4</th>\n",
       "      <th>5</th>\n",
       "      <th>6</th>\n",
       "      <th>7</th>\n",
       "      <th>8</th>\n",
       "      <th>9</th>\n",
       "      <th>10</th>\n",
       "      <th>11</th>\n",
       "      <th>12</th>\n",
       "      <th>13</th>\n",
       "      <th>14</th>\n",
       "      <th>15</th>\n",
       "      <th>16</th>\n",
       "      <th>17</th>\n",
       "      <th>18</th>\n",
       "    </tr>\n",
       "  </thead>\n",
       "  <tbody>\n",
       "    <tr>\n",
       "      <td>0</td>\n",
       "      <td>470883</td>\n",
       "      <td>Jakobselvvatnet</td>\n",
       "      <td>Jakobselvvatnet</td>\n",
       "      <td>Jakobselvvand,Jakobselvvann,Jakobselvvatn,Jako...</td>\n",
       "      <td>69.55117</td>\n",
       "      <td>30.91213</td>\n",
       "      <td>H</td>\n",
       "      <td>LK</td>\n",
       "      <td>NO</td>\n",
       "      <td>NaN</td>\n",
       "      <td>0.0</td>\n",
       "      <td>NaN</td>\n",
       "      <td>NaN</td>\n",
       "      <td>NaN</td>\n",
       "      <td>0</td>\n",
       "      <td>NaN</td>\n",
       "      <td>118</td>\n",
       "      <td>Europe/Oslo</td>\n",
       "      <td>2019-10-09</td>\n",
       "    </tr>\n",
       "    <tr>\n",
       "      <td>1</td>\n",
       "      <td>471405</td>\n",
       "      <td>Vaggatem</td>\n",
       "      <td>Vaggatem</td>\n",
       "      <td>Ozero Bukhtles-Vandet,Ozero Vouvatusyarvi,Ozer...</td>\n",
       "      <td>69.27159</td>\n",
       "      <td>29.26756</td>\n",
       "      <td>H</td>\n",
       "      <td>LK</td>\n",
       "      <td>NO</td>\n",
       "      <td>NaN</td>\n",
       "      <td>54.0</td>\n",
       "      <td>5444.0</td>\n",
       "      <td>NaN</td>\n",
       "      <td>NaN</td>\n",
       "      <td>0</td>\n",
       "      <td>NaN</td>\n",
       "      <td>52</td>\n",
       "      <td>Europe/Oslo</td>\n",
       "      <td>2019-12-12</td>\n",
       "    </tr>\n",
       "    <tr>\n",
       "      <td>2</td>\n",
       "      <td>471746</td>\n",
       "      <td>Jakobselva</td>\n",
       "      <td>Jakobselva</td>\n",
       "      <td>Jakobselv,Jakobselva,Vor'yema,Vor’yema,Vuoremi...</td>\n",
       "      <td>69.77440</td>\n",
       "      <td>30.83950</td>\n",
       "      <td>H</td>\n",
       "      <td>STM</td>\n",
       "      <td>NO</td>\n",
       "      <td>RU</td>\n",
       "      <td>0.0</td>\n",
       "      <td>NaN</td>\n",
       "      <td>NaN</td>\n",
       "      <td>NaN</td>\n",
       "      <td>0</td>\n",
       "      <td>NaN</td>\n",
       "      <td>20</td>\n",
       "      <td>Europe/Oslo</td>\n",
       "      <td>2019-09-29</td>\n",
       "    </tr>\n",
       "    <tr>\n",
       "      <td>3</td>\n",
       "      <td>477327</td>\n",
       "      <td>Porog Vakker-Striket</td>\n",
       "      <td>Porog Vakker-Striket</td>\n",
       "      <td>Gaddoluobalguoikka,Porog Vakker-Striket,Vaggat...</td>\n",
       "      <td>69.30070</td>\n",
       "      <td>29.31574</td>\n",
       "      <td>H</td>\n",
       "      <td>RPDS</td>\n",
       "      <td>NO</td>\n",
       "      <td>RU</td>\n",
       "      <td>0.0</td>\n",
       "      <td>NaN</td>\n",
       "      <td>NaN</td>\n",
       "      <td>NaN</td>\n",
       "      <td>0</td>\n",
       "      <td>NaN</td>\n",
       "      <td>52</td>\n",
       "      <td>Europe/Oslo</td>\n",
       "      <td>2017-08-01</td>\n",
       "    </tr>\n",
       "    <tr>\n",
       "      <td>4</td>\n",
       "      <td>484575</td>\n",
       "      <td>Tangenfossen</td>\n",
       "      <td>Tangenfossen</td>\n",
       "      <td>Bornjeguoikka,Buornesava,Porog Tange-Foss,Purn...</td>\n",
       "      <td>69.07358</td>\n",
       "      <td>29.17126</td>\n",
       "      <td>H</td>\n",
       "      <td>FLLS</td>\n",
       "      <td>NO</td>\n",
       "      <td>NaN</td>\n",
       "      <td>54.0</td>\n",
       "      <td>5444.0</td>\n",
       "      <td>NaN</td>\n",
       "      <td>NaN</td>\n",
       "      <td>0</td>\n",
       "      <td>NaN</td>\n",
       "      <td>84</td>\n",
       "      <td>Europe/Oslo</td>\n",
       "      <td>2019-12-12</td>\n",
       "    </tr>\n",
       "  </tbody>\n",
       "</table>\n",
       "</div>"
      ],
      "text/plain": [
       "       0                     1                     2   \\\n",
       "0  470883       Jakobselvvatnet       Jakobselvvatnet   \n",
       "1  471405              Vaggatem              Vaggatem   \n",
       "2  471746            Jakobselva            Jakobselva   \n",
       "3  477327  Porog Vakker-Striket  Porog Vakker-Striket   \n",
       "4  484575          Tangenfossen          Tangenfossen   \n",
       "\n",
       "                                                  3         4         5  6   \\\n",
       "0  Jakobselvvand,Jakobselvvann,Jakobselvvatn,Jako...  69.55117  30.91213  H   \n",
       "1  Ozero Bukhtles-Vandet,Ozero Vouvatusyarvi,Ozer...  69.27159  29.26756  H   \n",
       "2  Jakobselv,Jakobselva,Vor'yema,Vor’yema,Vuoremi...  69.77440  30.83950  H   \n",
       "3  Gaddoluobalguoikka,Porog Vakker-Striket,Vaggat...  69.30070  29.31574  H   \n",
       "4  Bornjeguoikka,Buornesava,Porog Tange-Foss,Purn...  69.07358  29.17126  H   \n",
       "\n",
       "     7   8    9     10      11  12  13  14  15   16           17          18  \n",
       "0    LK  NO  NaN   0.0     NaN NaN NaN   0 NaN  118  Europe/Oslo  2019-10-09  \n",
       "1    LK  NO  NaN  54.0  5444.0 NaN NaN   0 NaN   52  Europe/Oslo  2019-12-12  \n",
       "2   STM  NO   RU   0.0     NaN NaN NaN   0 NaN   20  Europe/Oslo  2019-09-29  \n",
       "3  RPDS  NO   RU   0.0     NaN NaN NaN   0 NaN   52  Europe/Oslo  2017-08-01  \n",
       "4  FLLS  NO  NaN  54.0  5444.0 NaN NaN   0 NaN   84  Europe/Oslo  2019-12-12  "
      ]
     },
     "execution_count": 15,
     "metadata": {},
     "output_type": "execute_result"
    }
   ],
   "source": [
    "geonavn.head()"
   ]
  },
  {
   "cell_type": "markdown",
   "metadata": {},
   "source": [
    "# Sjekk mot Skram-korpuset"
   ]
  },
  {
   "cell_type": "markdown",
   "metadata": {},
   "source": [
    "Henter ut alle felt det er navn på i databasen for Norge. Bruker et regulært uttrykk, siden stedsnavnene står mellom , eller i start eller slutt."
   ]
  },
  {
   "cell_type": "code",
   "execution_count": 16,
   "metadata": {},
   "outputs": [],
   "source": [
    "geonames = geonavn.fillna('')"
   ]
  },
  {
   "cell_type": "code",
   "execution_count": 23,
   "metadata": {},
   "outputs": [],
   "source": [
    "skram_geo = pd.DataFrame()\n",
    "for n in navn_tot.index:\n",
    "    \n",
    "    try:\n",
    "        \n",
    "        # må bruke re.escape(n) for å sikre at ikke uttrykket tolkes som en regex\n",
    "        pattern = '(^|,)' + re.escape(n) +'(,|$| )'\n",
    "        skram_geo = skram_geo.append(geonames[geonames[3].str.contains(pattern)])\n",
    "    \n",
    "    except:\n",
    "        \n",
    "        print(n)"
   ]
  },
  {
   "cell_type": "code",
   "execution_count": 24,
   "metadata": {},
   "outputs": [],
   "source": [
    "steder = list({x for x in skram_geo[1]})"
   ]
  },
  {
   "cell_type": "code",
   "execution_count": 25,
   "metadata": {},
   "outputs": [],
   "source": [
    "skram_geo.to_csv('skram_samlede_stedsnavn.csv')"
   ]
  },
  {
   "cell_type": "code",
   "execution_count": null,
   "metadata": {},
   "outputs": [],
   "source": []
  }
 ],
 "metadata": {
  "kernelspec": {
   "display_name": "Python 3",
   "language": "python",
   "name": "python3"
  },
  "language_info": {
   "codemirror_mode": {
    "name": "ipython",
    "version": 3
   },
   "file_extension": ".py",
   "mimetype": "text/x-python",
   "name": "python",
   "nbconvert_exporter": "python",
   "pygments_lexer": "ipython3",
   "version": "3.7.4"
  },
  "toc": {
   "base_numbering": 1,
   "nav_menu": {},
   "number_sections": true,
   "sideBar": true,
   "skip_h1_title": false,
   "title_cell": "Table of Contents",
   "title_sidebar": "Contents",
   "toc_cell": false,
   "toc_position": {},
   "toc_section_display": true,
   "toc_window_display": false
  },
  "varInspector": {
   "cols": {
    "lenName": 16,
    "lenType": 16,
    "lenVar": 40
   },
   "kernels_config": {
    "python": {
     "delete_cmd_postfix": "",
     "delete_cmd_prefix": "del ",
     "library": "var_list.py",
     "varRefreshCmd": "print(var_dic_list())"
    },
    "r": {
     "delete_cmd_postfix": ") ",
     "delete_cmd_prefix": "rm(",
     "library": "var_list.r",
     "varRefreshCmd": "cat(var_dic_list()) "
    }
   },
   "types_to_exclude": [
    "module",
    "function",
    "builtin_function_or_method",
    "instance",
    "_Feature"
   ],
   "window_display": false
  }
 },
 "nbformat": 4,
 "nbformat_minor": 2
}
