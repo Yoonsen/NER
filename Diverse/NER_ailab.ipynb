{
 "cells": [
  {
   "cell_type": "code",
   "execution_count": 19,
   "metadata": {},
   "outputs": [],
   "source": [
    "import requests\n",
    "\n",
    "def ai_ner(text):\n",
    "    \n",
    "    params = {\n",
    "      \"text\": text,\n",
    "      \"group_entities\": False,\n",
    "      \"wait\": True\n",
    "    }\n",
    "    r = requests.post('https://notram-ner-api-ojg5z7wc4q-lz.a.run.app/entities/text', json = params)\n",
    "    return r.json()"
   ]
  },
  {
   "cell_type": "code",
   "execution_count": 67,
   "metadata": {},
   "outputs": [
    {
     "data": {
      "text/plain": [
       "{'status': 'SUCCESS',\n",
       " 'uuid': '58deacdc-1383-4006-9144-fc22be619528',\n",
       " 'result': [{'entity_group': 'PER',\n",
       "   'score': 0.999543309211731,\n",
       "   'word': 'Ola',\n",
       "   'start': 0,\n",
       "   'end': 3}]}"
      ]
     },
     "execution_count": 67,
     "metadata": {},
     "output_type": "execute_result"
    }
   ],
   "source": [
    "ner(\"\"\"Ola skriver et dikt som alle liker\"\"\")"
   ]
  },
  {
   "cell_type": "code",
   "execution_count": 20,
   "metadata": {},
   "outputs": [],
   "source": [
    "import dhlab.nbtext as nb"
   ]
  },
  {
   "cell_type": "code",
   "execution_count": 49,
   "metadata": {},
   "outputs": [
    {
     "data": {
      "text/plain": [
       "[['Malvik', {'fpron': 25.0, 'person': 25.0, 'pron': 25.0, 'sted': 25.0}]]"
      ]
     },
     "execution_count": 49,
     "metadata": {},
     "output_type": "execute_result"
    }
   ],
   "source": [
    "nb.ner(\"\"\"Malvik\"\"\", dist = True)"
   ]
  },
  {
   "cell_type": "code",
   "execution_count": null,
   "metadata": {},
   "outputs": [],
   "source": []
  }
 ],
 "metadata": {
  "kernelspec": {
   "display_name": "Python 3",
   "language": "python",
   "name": "python3"
  },
  "language_info": {
   "codemirror_mode": {
    "name": "ipython",
    "version": 3
   },
   "file_extension": ".py",
   "mimetype": "text/x-python",
   "name": "python",
   "nbconvert_exporter": "python",
   "pygments_lexer": "ipython3",
   "version": "3.8.3"
  }
 },
 "nbformat": 4,
 "nbformat_minor": 4
}
