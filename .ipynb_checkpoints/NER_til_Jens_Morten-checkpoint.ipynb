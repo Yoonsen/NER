{
 "cells": [
  {
   "cell_type": "markdown",
   "metadata": {},
   "source": [
    "# Filtrer navn fra bøker"
   ]
  },
  {
   "cell_type": "code",
   "execution_count": 1,
   "metadata": {},
   "outputs": [
    {
     "data": {
      "text/html": [
       "<style>@import url(\n",
       "http://fonts.googleapis.com/css?family=Lato|Philosopher|Montserrat|Source+Code+Pro|Istok+Web|Philosopher|Assistant:200,400,700);\n",
       "\n",
       "/*\n",
       "#notebook-container {\n",
       "\t-webkit-box-shadow: none;\n",
       "\tbox-shadow: none;\n",
       "}\n",
       "*/\n",
       "\n",
       "h1, h2, h3, h4, h5, h6 {\n",
       "\tfont-family: 'Montserrat', sans-serif;\n",
       "\tline-height: 2em;\n",
       "    color: #004f99;\n",
       "    font-weight: 600;\n",
       "}\n",
       "\n",
       "h1 { font-size: 4.5em; }\n",
       "h2 { font-size: 4em; }\n",
       "h3 { font-size: 3.5em; }\n",
       "h4 { font-size: 3em; }\n",
       "h5 { font-size: 2.5em; color:DarkSlateGray; }\n",
       "h6 { font-size: 2em; }\n",
       "\n",
       "p {\n",
       "\tfont-family: 'Assistant', sans-serif; \n",
       "\tfont-size: 1.2em;\n",
       "\tline-height: 1.4em;\n",
       "\tcolor: black;\n",
       "}\n",
       "p code {\n",
       "\tfont-size:0.9em;\n",
       "}\n",
       "div.input_area {\n",
       "\tborder:none !important;\n",
       "\tborder-left:1px solid #ff851b !important\n",
       "}\n",
       "\n",
       "span.cm-keyword {\n",
       "\tcolor:#339966 !important;\n",
       "}\n",
       "span.nn {  /*span.cm-variable, span.cm-property*/\n",
       "\tcolor: #3399ff !important;\n",
       "}\n",
       "div.CodeMirror {\n",
       "\tfont-family: 'Inconsolata', monospace;\n",
       "\tfont-size: 1.1em;\n",
       "\t\n",
       "}\n",
       "</style>"
      ],
      "text/plain": [
       "<IPython.core.display.HTML object>"
      ]
     },
     "execution_count": 1,
     "metadata": {},
     "output_type": "execute_result"
    }
   ],
   "source": [
    "import dhlab.nbtext as nb\n",
    "import dhlab.token_map as tm\n",
    "from dhlab.module_update import update, css\n",
    "import dhlab.graph_networkx_louvain as gnl\n",
    "import json\n",
    "import re\n",
    "import sys\n",
    "from time import time\n",
    "import pandas as pd\n",
    "%matplotlib inline\n",
    "css()"
   ]
  },
  {
   "cell_type": "code",
   "execution_count": 2,
   "metadata": {},
   "outputs": [
    {
     "data": {
      "text/markdown": [
       "Updated file `C:\\Users\\larsj\\Documents\\GitHub\\NER\\token_map.py`"
      ],
      "text/plain": [
       "<IPython.core.display.Markdown object>"
      ]
     },
     "metadata": {},
     "output_type": "display_data"
    }
   ],
   "source": [
    "from collections import Counter\n",
    "\n",
    "update('token_map', overwrite=True)\n",
    "from token_map import filter_names, names_from_corpus, names_from_excel, count_names_corpus"
   ]
  },
  {
   "cell_type": "markdown",
   "metadata": {},
   "source": [
    "### Ekstra kommandoer fra `token_map`\n",
    "\n",
    "* names_from_corpus(korpus)\n",
    "* count_names_corpus(korpus, token_map)\n",
    "* names_from_excel(excelfil)\n",
    "    "
   ]
  },
  {
   "cell_type": "markdown",
   "metadata": {},
   "source": [
    "### Gazetter\n",
    "\n",
    "Gazettene ligger her, følger med repoet fra Github."
   ]
  },
  {
   "cell_type": "code",
   "execution_count": 3,
   "metadata": {},
   "outputs": [],
   "source": [
    "# Gazetter basert på navn i forfatterregisteret på nb.no\n",
    "first_name = json.load(open(\"NER_gazetter_norsk/fornavn.json\"))\n",
    "last_name = json.load(open(\"NER_gazetter_norsk/etternavn.json\"))"
   ]
  },
  {
   "cell_type": "code",
   "execution_count": 4,
   "metadata": {},
   "outputs": [],
   "source": [
    "# Gazetter basert på navn i forfatterregisteret på nb.no\n",
    "first_name = json.load(open(\"NER-gazetter/first_names.json\"))\n",
    "last_name = json.load(open(\"NER-gazetter/last_names.json\"))"
   ]
  },
  {
   "cell_type": "code",
   "execution_count": 5,
   "metadata": {},
   "outputs": [],
   "source": [
    "#first_names = list(set(first_names) - {'Oslo'})"
   ]
  },
  {
   "cell_type": "markdown",
   "metadata": {},
   "source": [
    "### Korpus\n",
    "\n",
    "Hent noen bøker..."
   ]
  },
  {
   "cell_type": "code",
   "execution_count": 6,
   "metadata": {},
   "outputs": [],
   "source": [
    "korpus = nb.pure_urn(\"\"\"\n",
    "URN\n",
    "\n",
    " https://urn.nb.no/URN:NBN:no-nb_digibok_\n",
    " https://urn.nb.no/URN:NBN:no-nb_digibok_2015110908267\n",
    " https://urn.nb.no/URN:NBN:no-nb_digibok_\n",
    " https://urn.nb.no/URN:NBN:no-nb_digibok_2009061903027\n",
    " ikke digitalisert\n",
    " https://urn.nb.no/URN:NBN:no-nb_digibok_\n",
    " https://urn.nb.no/URN:NBN:no-nb_digibok_2009072800065\n",
    " https://urn.nb.no/URN:NBN:no-nb_digibok_2010063006072\n",
    " https://urn.nb.no/URN:NBN:no-nb_digibok_\n",
    " https://urn.nb.no/URN:NBN:no-nb_digibok_\n",
    " https://urn.nb.no/URN:NBN:no-nb_digibok_2009042204078\n",
    " https://urn.nb.no/URN:NBN:no-nb_digibok_2014010708163\n",
    " https://urn.nb.no/URN:NBN:no-nb_digibok_2009072800062\n",
    " https://urn.nb.no/URN:NBN:no-nb_digibok_2006111501039\n",
    " https://urn.nb.no/URN:NBN:no-nb_digibok_2006111501043\n",
    " https://urn.nb.no/URN:NBN:no-nb_digibok_2006112001058\n",
    " https://urn.nb.no/URN:NBN:no-nb_digibok_2006111701045\n",
    " https://urn.nb.no/URN:NBN:no-nb_digibok_2006111601041\n",
    " https://urn.nb.no/URN:NBN:no-nb_digibok_2006113000001\n",
    " https://urn.nb.no/URN:NBN:no-nb_digibok_2014121608238 \n",
    " https://urn.nb.no/URN:NBN:no-nb_digibok_2008070804046\n",
    " https://urn.nb.no/URN:NBN:no-nb_digibok_\n",
    " https://urn.nb.no/URN:NBN:no-nb_digibok_2013073108136\n",
    " https://urn.nb.no/URN:NBN:no-nb_digibok_2009051210001\n",
    " https://urn.nb.no/URN:NBN:no-nb_digibok_2009051212001\n",
    " https://urn.nb.no/URN:NBN:no-nb_digibok_2009051213001\n",
    " https://urn.nb.no/URN:NBN:no-nb_digibok_2009041703007\n",
    " https://urn.nb.no/URN:NBN:no-nb_digibok_2009020503016\n",
    " https://urn.nb.no/URN:NBN:no-nb_digibok_2009032003002\n",
    " https://urn.nb.no/URN:NBN:no-nb_digibok_2012041808082\n",
    " https://urn.nb.no/URN:NBN:no-nb_digibok_2012100907130\n",
    " https://urn.nb.no/URN:NBN:no-nb_digibok_2008040204004\n",
    " https://urn.nb.no/URN:NBN:no-nb_digibok_2006082200053 \n",
    " https://urn.nb.no/URN:NBN:no-nb_digibok_2008073100001\n",
    " https://urn.nb.no/URN:NBN:no-nb_digibok_2008072304027\n",
    " https://urn.nb.no/URN:NBN:no-nb_digibok_2008070201046\n",
    " https://urn.nb.no/URN:NBN:no-nb_digibok_2015111007004\n",
    " https://urn.nb.no/URN:NBN:no-nb_digibok_2008040804176\n",
    " https://urn.nb.no/URN:NBN:no-nb_digibok_2014082708025\n",
    " https://urn.nb.no/URN:NBN:no-nb_digibok_2014102108092\n",
    " https://urn.nb.no/URN:NBN:no-nb_digibok_2015110507024\n",
    " https://urn.nb.no/URN:NBN:no-nb_digibok_2014082508209\n",
    " https://urn.nb.no/URN:NBN:no-nb_digibok_2008080500028\n",
    " https://urn.nb.no/URN:NBN:no-nb_digibok_\n",
    " https://urn.nb.no/URN:NBN:no-nb_digibok_2010053106106\n",
    " https://urn.nb.no/URN:NBN:no-nb_digibok_\n",
    " https://urn.nb.no/URN:NBN:no-nb_digibok_2006120500036\n",
    " https://urn.nb.no/URN:NBN:no-nb_digibok_\n",
    " https://urn.nb.no/URN:NBN:no-nb_digibok_2006121301027\n",
    " https://urn.nb.no/URN:NBN:no-nb_digibok_\n",
    " https://urn.nb.no/URN:NBN:no-nb_digibok_2009042204098\n",
    " https://urn.nb.no/URN:NBN:no-nb_digibok_2016070748069\n",
    " https://urn.nb.no/URN:NBN:no-nb_digibok_2012050708083\n",
    " https://urn.nb.no/URN:NBN:no-nb_digibok_2016041908011\n",
    " https://urn.nb.no/URN:NBN:no-nb_digibok_2016041548100\n",
    " https://urn.nb.no/URN:NBN:no-nb_digibok_2008072304028\n",
    " https://urn.nb.no/URN:NBN:no-nb_digibok_2008073100001\n",
    " https://urn.nb.no/URN:NBN:no-nb_digibok_2009062204014\n",
    " https://urn.nb.no/URN:NBN:no-nb_digibok_2016040608162\n",
    " https://urn.nb.no/URN:NBN:no-nb_digibok_2014080508168\n",
    " https://urn.nb.no/URN:NBN:no-nb_digibok_2007011801005\n",
    " https://urn.nb.no/URN:NBN:no-nb_digibok_2007011801004\n",
    " https://urn.nb.no/URN:NBN:no-nb_digibok_2007021501117\n",
    " https://urn.nb.no/URN:NBN:no-nb_digibok_2007010300018\n",
    " https://urn.nb.no/URN:NBN:no-nb_digibok_2007010300045\n",
    " https://urn.nb.no/URN:NBN:no-nb_digibok_2007010500022\n",
    " https://urn.nb.no/URN:NBN:no-nb_digibok_2007011201040\n",
    " https://urn.nb.no/URN:NBN:no-nb_digibok_2014082108108\n",
    " https://urn.nb.no/URN:NBN:no-nb_digibok_2009062201011\n",
    " https://urn.nb.no/URN:NBN:no-nb_digibok_2013110508162\n",
    " https://urn.nb.no/URN:NBN:no-nb_digibok_2014080508169\n",
    " https://urn.nb.no/URN:NBN:no-nb_digibok_2009041404093\n",
    " https://urn.nb.no/URN:NBN:no-nb_digibok_2009061701068\n",
    " https://urn.nb.no/URN:NBN:no-nb_digibok_2010061806078\n",
    " https://urn.nb.no/URN:NBN:no-nb_digibok_2013110508163\n",
    " https://urn.nb.no/URN:NBN:no-nb_digibok_2008042300025\n",
    " https://urn.nb.no/URN:NBN:no-nb_digibok_2008042800109\n",
    " https://urn.nb.no/URN:NBN:no-nb_digibok_2009041704061\n",
    " https://urn.nb.no/URN:NBN:no-nb_digibok_2009042200011\n",
    " https://urn.nb.no/URN:NBN:no-nb_digibok_2007060504048\n",
    " https://urn.nb.no/URN:NBN:no-nb_digibok_2007042301017\n",
    " https://urn.nb.no/URN:NBN:no-nb_digibok_2007030201038\n",
    " https://urn.nb.no/URN:NBN:no-nb_digibok_2008051904054\n",
    " https://urn.nb.no/URN:NBN:no-nb_digibok_2007031501098\n",
    " https://urn.nb.no/URN:NBN:no-nb_digibok_2007032801122\n",
    " https://urn.nb.no/URN:NBN:no-nb_digibok_2007021901144\n",
    "https://urn.nb.no/URN:NBN:no-nb_digibok_2008051404001\n",
    " https://urn.nb.no/URN:NBN:no-nb_digibok_2012021608266 \n",
    " https://urn.nb.no/URN:NBN:no-nb_digibok_2016103148510 \n",
    " https://urn.nb.no/URN:NBN:no-nb_digibok_2009041704038\n",
    " https://urn.nb.no/URN:NBN:no-nb_digibok_2009060204081\n",
    " https://urn.nb.no/URN:NBN:no-nb_digibok_2009052904033\n",
    " https://urn.nb.no/URN:NBN:no-nb_digibok_2008051904146\n",
    " https://urn.nb.no/URN:NBN:no-nb_digibok_2015012008072 \n",
    " https://urn.nb.no/URN:NBN:no-nb_digibok_2009061504071 \n",
    " https://urn.nb.no/URN:NBN:no-nb_digibok_2008051904126\n",
    " https://urn.nb.no/URN:NBN:no-nb_digibok_2013101708014\n",
    " https://urn.nb.no/URN:NBN:no-nb_digibok_2013101708013\n",
    " https://urn.nb.no/URN:NBN:no-nb_digibok_2007032101125\n",
    " https://urn.nb.no/URN:NBN:no-nb_digibok_2009041704058 \n",
    " https://urn.nb.no/URN:NBN:no-nb_digibok_2009062204039\n",
    " https://urn.nb.no/URN:NBN:no-nb_digibok_2007042401029\n",
    " https://urn.nb.no/URN:NBN:no-nb_digibok_2014070306049\n",
    " https://urn.nb.no/URN:NBN:no-nb_digibok_2016092948064\n",
    " https://urn.nb.no/URN:NBN:no-nb_digibok_2009041404091\n",
    " https://urn.nb.no/URN:NBN:no-nb_digibok_2007052504014\n",
    " https://urn.nb.no/URN:NBN:no-nb_digibok_2009042200012 \n",
    " https://urn.nb.no/URN:NBN:no-nb_digibok_\n",
    " https://urn.nb.no/URN:NBN:no-nb_digibok_2016101048159\n",
    " https://urn.nb.no/URN:NBN:no-nb_digibok_2009061701063\n",
    " https://urn.nb.no/URN:NBN:no-nb_digibok_2011020106014\n",
    " https://urn.nb.no/URN:NBN:no-nb_digibok_2007072300005\n",
    " https://urn.nb.no/URN:NBN:no-nb_digibok_2011120808007\n",
    " https://urn.nb.no/URN:NBN:no-nb_digibok_2012030208136 \n",
    " https://urn.nb.no/URN:NBN:no-nb_digibok_2007071700077\n",
    " https://urn.nb.no/URN:NBN:no-nb_digibok_2012053108037\n",
    " https://urn.nb.no/URN:NBN:no-nb_digibok_2011111608068\n",
    " https://urn.nb.no/URN:NBN:no-nb_digibok_2014021807021\n",
    " https://urn.nb.no/URN:NBN:no-nb_digibok_2013102407331\n",
    " https://urn.nb.no/URN:NBN:no-nb_digibok_2012022008023\n",
    " https://urn.nb.no/URN:NBN:no-nb_digibok_2012022208159\n",
    " https://urn.nb.no/URN:NBN:no-nb_digibok_2007072601080\n",
    " https://urn.nb.no/URN:NBN:no-nb_digibok_2007070500096\n",
    " https://urn.nb.no/URN:NBN:no-nb_digibok_2007070201034\n",
    " https://urn.nb.no/URN:NBN:no-nb_digibok_2008052701029\n",
    " https://urn.nb.no/URN:NBN:no-nb_digibok_2007060501039\n",
    " https://urn.nb.no/URN:NBN:no-nb_digibok_2007060700028\n",
    " https://urn.nb.no/URN:NBN:no-nb_digibok_2007060701007\n",
    " https://urn.nb.no/URN:NBN:no-nb_digibok_2008111904058\n",
    " https://urn.nb.no/URN:NBN:no-nb_digibok_2013012205070\n",
    " https://urn.nb.no/URN:NBN:no-nb_digibok_2013030406047\n",
    " https://urn.nb.no/URN:NBN:no-nb_digibok_2013040907068\n",
    " https://urn.nb.no/URN:NBN:no-nb_digibok_2012100907038\n",
    " https://urn.nb.no/URN:NBN:no-nb_digibok_2013102407066\n",
    " https://urn.nb.no/URN:NBN:no-nb_digibok_2007062200011\n",
    " https://urn.nb.no/URN:NBN:no-nb_digibok_2014030308499\n",
    " https://urn.nb.no/URN:NBN:no-nb_digibok_2007061804087\n",
    " https://urn.nb.no/URN:NBN:no-nb_digibok_2013062706017\n",
    " https://urn.nb.no/URN:NBN:no-nb_digibok_2012091805011 \n",
    " https://urn.nb.no/URN:NBN:no-nb_digibok_2012071905088\n",
    " https://urn.nb.no/URN:NBN:no-nb_digibok_2008060304065\n",
    " https://urn.nb.no/URN:NBN:no-nb_digibok_2007070304070\n",
    " https://urn.nb.no/URN:NBN:no-nb_digibok_2007070900076\n",
    " https://urn.nb.no/URN:NBN:no-nb_digibok_2008060300007\n",
    " https://urn.nb.no/URN:NBN:no-nb_digibok_2008052304109\n",
    " https://urn.nb.no/URN:NBN:no-nb_digibok_2013061706091\n",
    " https://urn.nb.no/URN:NBN:no-nb_digibok_2014071508124\n",
    " https://urn.nb.no/URN:NBN:no-nb_digibok_2011121405002\n",
    " https://urn.nb.no/URN:NBN:no-nb_digibok_2016101048269\n",
    " https://urn.nb.no/URN:NBN:no-nb_digibok_2014082708002\n",
    " https://urn.nb.no/URN:NBN:no-nb_digibok_\n",
    " https://urn.nb.no/URN:NBN:no-nb_digibok_\n",
    " https://urn.nb.no/URN:NBN:no-nb_digibok_\n",
    " https://urn.nb.no/URN:NBN:no-nb_digibok_2014031108214\n",
    " https://urn.nb.no/URN:NBN:no-nb_digibok_2012062505011\n",
    " https://urn.nb.no/URN:NBN:no-nb_digibok_2015072308349 \n",
    " https://urn.nb.no/URN:NBN:no-nb_digibok_2012012708020\n",
    " https://urn.nb.no/URN:NBN:no-nb_digibok_2008070400042 \n",
    " https://urn.nb.no/URN:NBN:no-nb_digibok_2013102407067 \n",
    " https://urn.nb.no/URN:NBN:no-nb_digibok_2013070205080\n",
    " https://urn.nb.no/URN:NBN:no-nb_digibok_2012070205032\n",
    " https://urn.nb.no/URN:NBN:no-nb_digibok_2012070205030\n",
    " https://urn.nb.no/URN:NBN:no-nb_digibok_2007091901004  \n",
    " https://urn.nb.no/URN:NBN:no-nb_digibok_2013093006082 \n",
    " https://urn.nb.no/URN:NBN:no-nb_digibok_2015060808049\n",
    " https://urn.nb.no/URN:NBN:no-nb_digibok_2007112600058\n",
    " https://urn.nb.no/URN:NBN:no-nb_digibok_2012101908136\n",
    " https://urn.nb.no/URN:NBN:no-nb_digibok_2011020308070\n",
    " https://urn.nb.no/URN:NBN:no-nb_digibok_2012101908137\n",
    " https://urn.nb.no/URN:NBN:no-nb_digibok_2012101908135\n",
    " https://urn.nb.no/URN:NBN:no-nb_digibok_2010121708024\n",
    " https://urn.nb.no/URN:NBN:no-nb_digibok_2013011607286\n",
    " https://urn.nb.no/URN:NBN:no-nb_digibok_\n",
    " https://urn.nb.no/URN:NBN:no-nb_digibok_2008010300041 \n",
    " https://urn.nb.no/URN:NBN:no-nb_digibok_2008030704064\n",
    " https://urn.nb.no/URN:NBN:no-nb_digibok_2008031304026\n",
    " https://urn.nb.no/URN:NBN:no-nb_digibok_2008030700046\n",
    " https://urn.nb.no/URN:NBN:no-nb_digibok_2008031304021\n",
    " https://urn.nb.no/URN:NBN:no-nb_digibok_2008081204044\n",
    " https://urn.nb.no/URN:NBN:no-nb_digibok_2008020600003\n",
    " https://urn.nb.no/URN:NBN:no-nb_digibok_2015041008041\n",
    " https://urn.nb.no/URN:NBN:no-nb_digibok_2010100508090\n",
    " https://urn.nb.no/URN:NBN:no-nb_digibok_2008031101012 \n",
    " https://urn.nb.no/URN:NBN:no-nb_digibok_2014061608252\n",
    " https://urn.nb.no/URN:NBN:no-nb_digibok_2010060203030 \n",
    " https://urn.nb.no/URN:NBN:no-nb_digibok_2010072703001\n",
    " https://urn.nb.no/URN:NBN:no-nb_digibok_2009102700026\n",
    " https://urn.nb.no/URN:NBN:no-nb_digibok_2008080804146\n",
    " https://urn.nb.no/URN:NBN:no-nb_digibok_2009011900032\n",
    " https://urn.nb.no/URN:NBN:no-nb_digibok_2008092300090\n",
    " https://urn.nb.no/URN:NBN:no-nb_digibok_2009012204024\n",
    " https://urn.nb.no/URN:NBN:no-nb_digibok_2010011100089\n",
    " https://urn.nb.no/URN:NBN:no-nb_digibok_2009041404041\n",
    " https://urn.nb.no/URN:NBN:no-nb_digibok_2009030204015\n",
    " https://urn.nb.no/URN:NBN:no-nb_digibok_2010122120006 \n",
    " https://urn.nb.no/URN:NBN:no-nb_digibok_2008120800099 \n",
    " https://urn.nb.no/URN:NBN:no-nb_digibok_2008112000056\n",
    " https://urn.nb.no/URN:NBN:no-nb_digibok_2009012904103\n",
    " https://urn.nb.no/URN:NBN:no-nb_digibok_2009012200018\n",
    " https://urn.nb.no/URN:NBN:no-nb_digibok_2009062601017\n",
    " https://urn.nb.no/URN:NBN:no-nb_digibok_2011083106080\n",
    " https://urn.nb.no/URN:NBN:no-nb_digibok_2011070505043\n",
    " https://urn.nb.no/URN:NBN:no-nb_digibok_2014120907542\n",
    " https://urn.nb.no/URN:NBN:no-nb_digibok_2013071705100\n",
    " https://urn.nb.no/URN:NBN:no-nb_digibok_2014111007502\n",
    " https://urn.nb.no/URN:NBN:no-nb_digibok_2012062505101\n",
    " https://urn.nb.no/URN:NBN:no-nb_digibok_2013042408089 \n",
    " https://urn.nb.no/URN:NBN:no-nb_digibok_2013011408109\n",
    " https://urn.nb.no/URN:NBN:no-nb_digibok_2015111608028 \n",
    " https://urn.nb.no/URN:NBN:no-nb_digibok_2012102907161\n",
    " https://urn.nb.no/URN:NBN:no-nb_digibok_2014022706007 \n",
    " https://urn.nb.no/URN:NBN:no-nb_digibok_\n",
    "ikke digitalisert\n",
    "\"\"\")"
   ]
  },
  {
   "cell_type": "code",
   "execution_count": 7,
   "metadata": {},
   "outputs": [
    {
     "data": {
      "text/plain": [
       "195"
      ]
     },
     "execution_count": 7,
     "metadata": {},
     "output_type": "execute_result"
    }
   ],
   "source": [
    "len(korpus)"
   ]
  },
  {
   "cell_type": "code",
   "execution_count": 8,
   "metadata": {},
   "outputs": [],
   "source": [
    "df = nb.frame(nb.metadata(korpus),('urn forfatter årstall tittel subtittel utgiver sjanger sesam språk'.split()))"
   ]
  },
  {
   "cell_type": "code",
   "execution_count": 9,
   "metadata": {},
   "outputs": [
    {
     "data": {
      "text/plain": [
       "['2009051212001', '2009051213001', '2011020308070']"
      ]
     },
     "execution_count": 9,
     "metadata": {},
     "output_type": "execute_result"
    }
   ],
   "source": [
    "# urn i korpuset som vi ikke har metadata på\n",
    "[x for x in korpus if x not in [str(y) for y in df.urn]]"
   ]
  },
  {
   "cell_type": "code",
   "execution_count": 10,
   "metadata": {},
   "outputs": [
    {
     "data": {
      "text/plain": [
       "192"
      ]
     },
     "execution_count": 10,
     "metadata": {},
     "output_type": "execute_result"
    }
   ],
   "source": [
    "# Her trekker vi fra de bøkene vi ikke har data for i korpuset\n",
    "korpus = [str(y) for y in df.urn]\n",
    "len(korpus)"
   ]
  },
  {
   "cell_type": "code",
   "execution_count": 11,
   "metadata": {},
   "outputs": [],
   "source": [
    "# Fordi korpuset er så stort deler vi det i mindre deler for endel av uttrekksjobben\n",
    "\n",
    "step=10\n",
    "korp = dict()\n",
    "\n",
    "for e in range(0,len(korpus), step):\n",
    "    korp[e] = korpus[e:e+step]"
   ]
  },
  {
   "cell_type": "code",
   "execution_count": 12,
   "metadata": {},
   "outputs": [
    {
     "data": {
      "text/plain": [
       "{0: ['2015110908267',\n",
       "  '2009061903027',\n",
       "  '2009072800065',\n",
       "  '2010063006072',\n",
       "  '2009042204078',\n",
       "  '2014010708163',\n",
       "  '2009072800062',\n",
       "  '2006111501039',\n",
       "  '2006111501043',\n",
       "  '2006112001058'],\n",
       " 10: ['2006111701045',\n",
       "  '2006111601041',\n",
       "  '2006113000001',\n",
       "  '2014121608238',\n",
       "  '2008070804046',\n",
       "  '2013073108136',\n",
       "  '2009051210001',\n",
       "  '2009041703007',\n",
       "  '2009020503016',\n",
       "  '2009032003002'],\n",
       " 20: ['2012041808082',\n",
       "  '2012100907130',\n",
       "  '2008040204004',\n",
       "  '2006082200053',\n",
       "  '2008073100001',\n",
       "  '2008072304027',\n",
       "  '2008070201046',\n",
       "  '2015111007004',\n",
       "  '2008040804176',\n",
       "  '2014082708025'],\n",
       " 30: ['2014102108092',\n",
       "  '2015110507024',\n",
       "  '2014082508209',\n",
       "  '2008080500028',\n",
       "  '2010053106106',\n",
       "  '2006120500036',\n",
       "  '2006121301027',\n",
       "  '2009042204098',\n",
       "  '2016070748069',\n",
       "  '2012050708083'],\n",
       " 40: ['2016041908011',\n",
       "  '2016041548100',\n",
       "  '2008072304028',\n",
       "  '2008073100001',\n",
       "  '2009062204014',\n",
       "  '2016040608162',\n",
       "  '2014080508168',\n",
       "  '2007011801005',\n",
       "  '2007011801004',\n",
       "  '2007021501117'],\n",
       " 50: ['2007010300018',\n",
       "  '2007010300045',\n",
       "  '2007010500022',\n",
       "  '2007011201040',\n",
       "  '2014082108108',\n",
       "  '2009062201011',\n",
       "  '2013110508162',\n",
       "  '2014080508169',\n",
       "  '2009041404093',\n",
       "  '2009061701068'],\n",
       " 60: ['2010061806078',\n",
       "  '2013110508163',\n",
       "  '2008042300025',\n",
       "  '2008042800109',\n",
       "  '2009041704061',\n",
       "  '2009042200011',\n",
       "  '2007060504048',\n",
       "  '2007042301017',\n",
       "  '2007030201038',\n",
       "  '2008051904054'],\n",
       " 70: ['2007031501098',\n",
       "  '2007032801122',\n",
       "  '2007021901144',\n",
       "  '2008051404001',\n",
       "  '2012021608266',\n",
       "  '2016103148510',\n",
       "  '2009041704038',\n",
       "  '2009060204081',\n",
       "  '2009052904033',\n",
       "  '2008051904146'],\n",
       " 80: ['2015012008072',\n",
       "  '2009061504071',\n",
       "  '2008051904126',\n",
       "  '2013101708014',\n",
       "  '2013101708013',\n",
       "  '2007032101125',\n",
       "  '2009041704058',\n",
       "  '2009062204039',\n",
       "  '2007042401029',\n",
       "  '2014070306049'],\n",
       " 90: ['2016092948064',\n",
       "  '2009041404091',\n",
       "  '2007052504014',\n",
       "  '2009042200012',\n",
       "  '2016101048159',\n",
       "  '2009061701063',\n",
       "  '2011020106014',\n",
       "  '2007072300005',\n",
       "  '2011120808007',\n",
       "  '2012030208136'],\n",
       " 100: ['2007071700077',\n",
       "  '2012053108037',\n",
       "  '2011111608068',\n",
       "  '2014021807021',\n",
       "  '2013102407331',\n",
       "  '2012022008023',\n",
       "  '2012022208159',\n",
       "  '2007072601080',\n",
       "  '2007070500096',\n",
       "  '2007070201034'],\n",
       " 110: ['2008052701029',\n",
       "  '2007060501039',\n",
       "  '2007060700028',\n",
       "  '2007060701007',\n",
       "  '2008111904058',\n",
       "  '2013012205070',\n",
       "  '2013030406047',\n",
       "  '2013040907068',\n",
       "  '2012100907038',\n",
       "  '2013102407066'],\n",
       " 120: ['2007062200011',\n",
       "  '2014030308499',\n",
       "  '2007061804087',\n",
       "  '2013062706017',\n",
       "  '2012091805011',\n",
       "  '2012071905088',\n",
       "  '2008060304065',\n",
       "  '2007070304070',\n",
       "  '2007070900076',\n",
       "  '2008060300007'],\n",
       " 130: ['2008052304109',\n",
       "  '2013061706091',\n",
       "  '2014071508124',\n",
       "  '2011121405002',\n",
       "  '2016101048269',\n",
       "  '2014082708002',\n",
       "  '2014031108214',\n",
       "  '2012062505011',\n",
       "  '2015072308349',\n",
       "  '2012012708020'],\n",
       " 140: ['2008070400042',\n",
       "  '2013102407067',\n",
       "  '2013070205080',\n",
       "  '2012070205032',\n",
       "  '2012070205030',\n",
       "  '2007091901004',\n",
       "  '2013093006082',\n",
       "  '2015060808049',\n",
       "  '2007112600058',\n",
       "  '2012101908136'],\n",
       " 150: ['2012101908137',\n",
       "  '2012101908135',\n",
       "  '2010121708024',\n",
       "  '2013011607286',\n",
       "  '2008010300041',\n",
       "  '2008030704064',\n",
       "  '2008031304026',\n",
       "  '2008030700046',\n",
       "  '2008031304021',\n",
       "  '2008081204044'],\n",
       " 160: ['2008020600003',\n",
       "  '2015041008041',\n",
       "  '2010100508090',\n",
       "  '2008031101012',\n",
       "  '2014061608252',\n",
       "  '2010060203030',\n",
       "  '2010072703001',\n",
       "  '2009102700026',\n",
       "  '2008080804146',\n",
       "  '2009011900032'],\n",
       " 170: ['2008092300090',\n",
       "  '2009012204024',\n",
       "  '2010011100089',\n",
       "  '2009041404041',\n",
       "  '2009030204015',\n",
       "  '2010122120006',\n",
       "  '2008120800099',\n",
       "  '2008112000056',\n",
       "  '2009012904103',\n",
       "  '2009012200018'],\n",
       " 180: ['2009062601017',\n",
       "  '2011083106080',\n",
       "  '2011070505043',\n",
       "  '2014120907542',\n",
       "  '2013071705100',\n",
       "  '2014111007502',\n",
       "  '2012062505101',\n",
       "  '2013042408089',\n",
       "  '2013011408109',\n",
       "  '2015111608028'],\n",
       " 190: ['2012102907161', '2014022706007']}"
      ]
     },
     "execution_count": 12,
     "metadata": {},
     "output_type": "execute_result"
    }
   ],
   "source": [
    "korp"
   ]
  },
  {
   "cell_type": "code",
   "execution_count": null,
   "metadata": {},
   "outputs": [
    {
     "name": "stdout",
     "output_type": "stream",
     "text": [
      "0\n",
      "tid, 9\n",
      "10\n",
      "tid, 9\n",
      "20\n",
      "tid, 3\n",
      "30\n",
      "tid, 5\n",
      "40\n",
      "tid, 3\n",
      "50\n",
      "tid, 5\n",
      "60\n",
      "tid, 6\n",
      "70\n",
      "tid, 5\n",
      "80\n",
      "tid, 5\n",
      "90\n",
      "tid, 4\n",
      "100\n",
      "tid, 5\n",
      "110\n",
      "tid, 6\n",
      "120\n",
      "tid, 5\n",
      "130\n",
      "tid, 6\n",
      "140\n",
      "tid, 6\n",
      "150\n",
      "tid, 7\n",
      "160\n",
      "tid, 8\n",
      "170\n",
      "tid, 8\n",
      "180\n"
     ]
    }
   ],
   "source": [
    "korpusnavn = dict()\n",
    "\n",
    "for e in korp:\n",
    "    nå = time()\n",
    "    print (e)\n",
    "    korpusnavn[e] = names_from_corpus(korp[e])\n",
    "    print ('tid,', round(time()-nå))\n",
    "    "
   ]
  },
  {
   "cell_type": "code",
   "execution_count": null,
   "metadata": {},
   "outputs": [],
   "source": [
    "# Ser på uttrekket for en av bolkene. Vi ser her at mange av ordene som ikke er navn:\n",
    "korpusnavn[0]"
   ]
  },
  {
   "cell_type": "code",
   "execution_count": null,
   "metadata": {},
   "outputs": [],
   "source": [
    "korpusnavn_agg = (Counter(),Counter(),Counter(),Counter())\n",
    "for tokens in korpusnavn:\n",
    "    for i in range(4):\n",
    "        korpusnavn_agg[i].update(korpusnavn[tokens][i])"
   ]
  },
  {
   "cell_type": "code",
   "execution_count": null,
   "metadata": {},
   "outputs": [],
   "source": [
    "reserve = []"
   ]
  },
  {
   "cell_type": "code",
   "execution_count": null,
   "metadata": {},
   "outputs": [],
   "source": [
    "reserve = 'Klopstock Oehlenschlager Oehlenschlåger Hermione  Paars Catharine Leonarda Frederikke Schweitz'.split()"
   ]
  },
  {
   "cell_type": "markdown",
   "metadata": {},
   "source": [
    "Filtrer og rensk opp navnelisten med `filter_names()` importert fra `token_map`. Variablene `first_names` og `last_names` slås sammen til en liste som en felles gazett."
   ]
  },
  {
   "cell_type": "code",
   "execution_count": null,
   "metadata": {},
   "outputs": [],
   "source": [
    "filtered_names = filter_names(korpusnavn_agg, first_name + last_name + reserve)"
   ]
  },
  {
   "cell_type": "code",
   "execution_count": null,
   "metadata": {},
   "outputs": [],
   "source": [
    "# ved å se på det som ligger i removed, kan vi finne flere navn vi ønsker å legge til i reserve-lista\n",
    "\n",
    "filtered_names['removed']"
   ]
  },
  {
   "cell_type": "code",
   "execution_count": null,
   "metadata": {},
   "outputs": [],
   "source": [
    " # nb.frame(nb.frame(filtered_names['filtered']).transpose().sum(axis=1)).to_excel('navn_filter_JMH.xls')"
   ]
  },
  {
   "cell_type": "code",
   "execution_count": null,
   "metadata": {},
   "outputs": [],
   "source": [
    "# navnene vi vil gå videre med legger vi her i en variabel for enkelhets skyld\n",
    "\n",
    "neo = filtered_names['filtered']"
   ]
  },
  {
   "cell_type": "code",
   "execution_count": null,
   "metadata": {},
   "outputs": [],
   "source": [
    "neo"
   ]
  },
  {
   "cell_type": "code",
   "execution_count": null,
   "metadata": {},
   "outputs": [],
   "source": [
    "# fjerner navn som bare forekommer som singel-navn (enten kun etternavn eller kun fornavn), da disse trolig ikke egentlig er navneforekomster\n",
    "\n",
    "def filter_single(names):\n",
    "    res = Counter()\n",
    "    for x in names[0]:\n",
    "        for y in names[1]:\n",
    "            if x in y:\n",
    "                res[x] = names[0][x]\n",
    "    return res\n",
    "    "
   ]
  },
  {
   "cell_type": "code",
   "execution_count": null,
   "metadata": {},
   "outputs": [],
   "source": [
    "neo_single = filter_single(neo)"
   ]
  },
  {
   "cell_type": "code",
   "execution_count": null,
   "metadata": {},
   "outputs": [],
   "source": [
    "# det viser seg at navnene som består av 4 navn stort sett bare er rot, vi fjerner dem derfor her\n",
    "# når det står neo[3] er de ikke fjernet. Counter() på sisteplass fjerner dem.\n",
    "\n",
    "neo_ny = (neo_single, neo[1], neo[2], neo[3])"
   ]
  },
  {
   "cell_type": "code",
   "execution_count": null,
   "metadata": {},
   "outputs": [],
   "source": [
    "# forsøk på en grammatikk som gjør at vi ikke får etternavn etterfulgt av fornavn. Noen navn er imidlertid både etternavn og fornavn, så dette løser ikke hele problemet\n",
    "\n",
    "def filter_name_struct(names):\n",
    "    res = (names[0],Counter(),Counter(),Counter())\n",
    "    for i in range(1,4):\n",
    "        for x in names[i]:\n",
    "            well_formed = True\n",
    "            for index in range(0,len(x) - 1):\n",
    "                #print(x)\n",
    "                if (x[index + 1] in first_name and x[index + 1] not in last_name) & (x[index] in last_name and x[index] not in first_name):\n",
    "                    print(x)\n",
    "                    well_formed = False\n",
    "            if well_formed == True:\n",
    "                res[i][x] = names[i][x]\n",
    "    return res\n",
    "    "
   ]
  },
  {
   "cell_type": "code",
   "execution_count": null,
   "metadata": {},
   "outputs": [],
   "source": [
    "neo_struct = filter_name_struct(neo_ny)\n",
    "# printer navn som fjernes"
   ]
  },
  {
   "cell_type": "code",
   "execution_count": null,
   "metadata": {},
   "outputs": [],
   "source": [
    "ny_tm = tm.token_map(neo_struct)"
   ]
  },
  {
   "cell_type": "code",
   "execution_count": null,
   "metadata": {},
   "outputs": [],
   "source": [
    "ny_tm"
   ]
  },
  {
   "cell_type": "code",
   "execution_count": null,
   "metadata": {},
   "outputs": [],
   "source": [
    "nb.save_frame_to_excel(nb.frame(ny_tm), 'tokenmap.xls', index=True)"
   ]
  },
  {
   "cell_type": "code",
   "execution_count": null,
   "metadata": {},
   "outputs": [],
   "source": [
    "nb.frame(ny_tm)"
   ]
  },
  {
   "cell_type": "code",
   "execution_count": null,
   "metadata": {},
   "outputs": [],
   "source": [
    "tm.show_names(neo_struct)"
   ]
  },
  {
   "cell_type": "code",
   "execution_count": null,
   "metadata": {},
   "outputs": [],
   "source": [
    "opptelling = count_names_corpus(korpus, ny_tm)"
   ]
  },
  {
   "cell_type": "code",
   "execution_count": null,
   "metadata": {},
   "outputs": [],
   "source": [
    "len(opptelling)"
   ]
  },
  {
   "cell_type": "code",
   "execution_count": null,
   "metadata": {},
   "outputs": [],
   "source": [
    "## Gazettene inneholder feil med for- og etternavn\n",
    "## vi har problem med genitiv\n",
    "\n",
    "sjekk = lambda x: {'last': x in last_name, 'first': x in first_name}"
   ]
  },
  {
   "cell_type": "code",
   "execution_count": null,
   "metadata": {},
   "outputs": [],
   "source": [
    "sjekk('Tønsberg')"
   ]
  },
  {
   "cell_type": "code",
   "execution_count": null,
   "metadata": {},
   "outputs": [],
   "source": [
    "sum_opptelling = nb.frame_sort(nb.frame(opptelling_agg.sum(axis=1)))\n",
    "sum_opptelling"
   ]
  },
  {
   "cell_type": "code",
   "execution_count": null,
   "metadata": {},
   "outputs": [],
   "source": [
    "nb.save_frame_to_excel(sum_opptelling, 'sum_opptelling.xls', index=True)"
   ]
  },
  {
   "cell_type": "markdown",
   "metadata": {},
   "source": [
    "Generer navn med nb.names()"
   ]
  },
  {
   "cell_type": "code",
   "execution_count": null,
   "metadata": {},
   "outputs": [],
   "source": [
    "korpusnavn = names_from_corpus(korpus)"
   ]
  },
  {
   "cell_type": "markdown",
   "metadata": {},
   "source": [
    "Se på names med tm.show_names()."
   ]
  },
  {
   "cell_type": "code",
   "execution_count": null,
   "metadata": {},
   "outputs": [],
   "source": [
    "tm.show_names(korpusnavn)"
   ]
  },
  {
   "cell_type": "code",
   "execution_count": null,
   "metadata": {},
   "outputs": [],
   "source": []
  },
  {
   "cell_type": "markdown",
   "metadata": {},
   "source": [
    "`filtered_names` er en dict med to attributt, ett `filtered` og ett `removed`, sånn at man kan se hva som er fjernet og hvordan det filtrerte funkerer. Om det er fjernet for mye kan det bare legges til i gazetten og hele filtreringen kan kjøres på nytt. Merk at 4-ordsnavnene er bedre, men det mangler noe fremdeles på formen. Litt navnegrammatikk kunne gjøre susen her. Det er greit å få til. Nedenfor ser vi at det blir feil med 4-ordsnavn på formen \"fornavn fornavn etternavn fornavn\" som kan lukes vekk med en grammatikk."
   ]
  },
  {
   "cell_type": "markdown",
   "metadata": {},
   "source": [
    "Lagre de filtrerte navnene til en excelfil."
   ]
  },
  {
   "cell_type": "code",
   "execution_count": null,
   "metadata": {},
   "outputs": [],
   "source": [
    "nb.frame(nb.frame(filtered_names['filtered']).transpose().sum(axis=1)).to_excel('navn_filter.xls')"
   ]
  },
  {
   "cell_type": "markdown",
   "metadata": {},
   "source": [
    "Hent de redigerte navnene tilbake. Det kan legges til navn og slettes navn fra filen. \n",
    "Endre filnavn i tilfelle lagring fra Excel har endret på det."
   ]
  },
  {
   "cell_type": "code",
   "execution_count": null,
   "metadata": {},
   "outputs": [],
   "source": [
    "neo_names = names_from_excel('navn_filter.xls')\n"
   ]
  },
  {
   "cell_type": "markdown",
   "metadata": {},
   "source": [
    "Det tar litt tid å beregne `token_map` så greit å legge den i variabel"
   ]
  },
  {
   "cell_type": "code",
   "execution_count": null,
   "metadata": {},
   "outputs": [],
   "source": [
    "neo_token_map = tm.token_map(neo_names)\n"
   ]
  },
  {
   "cell_type": "markdown",
   "metadata": {},
   "source": [
    "### Data fra boken\n",
    "\n",
    "Tell opp navn med `tm.count_name_strings` ... det ser ut som det fremdeles trengs til litt opprydding. Spesielt de lange navne lager litt ballade, men det er mulig å fjerne dem helt. Nettverk under der igjen. Bøker som ikke er med i grunndataene vil generere en melding om feil."
   ]
  },
  {
   "cell_type": "code",
   "execution_count": null,
   "metadata": {},
   "outputs": [],
   "source": [
    "opptelling = count_names_corpus(korpus, neo_token_map)"
   ]
  },
  {
   "cell_type": "code",
   "execution_count": null,
   "metadata": {},
   "outputs": [],
   "source": [
    "opptelling[:100]"
   ]
  },
  {
   "cell_type": "code",
   "execution_count": null,
   "metadata": {},
   "outputs": [],
   "source": []
  }
 ],
 "metadata": {
  "kernelspec": {
   "display_name": "Python 3",
   "language": "python",
   "name": "python3"
  },
  "language_info": {
   "codemirror_mode": {
    "name": "ipython",
    "version": 3
   },
   "file_extension": ".py",
   "mimetype": "text/x-python",
   "name": "python",
   "nbconvert_exporter": "python",
   "pygments_lexer": "ipython3",
   "version": "3.7.3"
  },
  "varInspector": {
   "cols": {
    "lenName": 16,
    "lenType": 16,
    "lenVar": 40
   },
   "kernels_config": {
    "python": {
     "delete_cmd_postfix": "",
     "delete_cmd_prefix": "del ",
     "library": "var_list.py",
     "varRefreshCmd": "print(var_dic_list())"
    },
    "r": {
     "delete_cmd_postfix": ") ",
     "delete_cmd_prefix": "rm(",
     "library": "var_list.r",
     "varRefreshCmd": "cat(var_dic_list()) "
    }
   },
   "types_to_exclude": [
    "module",
    "function",
    "builtin_function_or_method",
    "instance",
    "_Feature"
   ],
   "window_display": false
  }
 },
 "nbformat": 4,
 "nbformat_minor": 2
}
