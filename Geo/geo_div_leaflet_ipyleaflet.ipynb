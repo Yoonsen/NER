{
 "cells": [
  {
   "cell_type": "code",
   "execution_count": 7,
   "metadata": {},
   "outputs": [],
   "source": [
    "\n",
    "html_test = \"\"\"<html>\n",
    "<head>\n",
    "    <link rel=\"stylesheet\" href=\"http://cdn.leafletjs.com/leaflet/v0.7.7/leaflet.css\" />\n",
    "    <script src=\"http://cdn.leafletjs.com/leaflet/v0.7.7/leaflet.js\"></script>\n",
    "    <script src=\"https://ajax.googleapis.com/ajax/libs/jquery/1.12.2/jquery.min.js\"></script>\n",
    "     <script>\n",
    "        var map;\n",
    "        var ajaxRequest;\n",
    "        var plotlist;\n",
    "        var plotlayers=[];\n",
    "\n",
    "        function initmap() {\n",
    "            // set up the map\n",
    "            map = new L.Map('map');\n",
    "\n",
    "            // create the tile layer with correct attribution\n",
    "            var osmUrl='http://{s}.tile.openstreetmap.org/{z}/{x}/{y}.png';\n",
    "            var osmAttrib='Map data © <a href=\"http://openstreetmap.org\">OpenStreetMap</a> contributors';\n",
    "            var osm = new L.TileLayer(osmUrl, {minZoom: 8, maxZoom: 12, attribution: osmAttrib});       \n",
    "\n",
    "            // start the map in South-East England\n",
    "            map.setView(new L.LatLng(51.3, 0.7),9);\n",
    "            map.addLayer(osm);\n",
    "        }\n",
    "    </script>\n",
    "    <script>\n",
    "    $('document').ready(function () {\n",
    "            initmap();\n",
    "        })\n",
    "    </script>\n",
    "</head>\n",
    "<body>\n",
    "    <div id=\"map\" style=\"height:600;width:900;border=2px solid grey\"></div>\n",
    "   \n",
    "</body>\n",
    "</html>\"\"\""
   ]
  },
  {
   "cell_type": "code",
   "execution_count": 2,
   "metadata": {},
   "outputs": [],
   "source": [
    "from IPython.display import HTML, display"
   ]
  },
  {
   "cell_type": "code",
   "execution_count": 9,
   "metadata": {},
   "outputs": [
    {
     "data": {
      "text/html": [
       "<html>\n",
       "<head>\n",
       "    <link rel=\"stylesheet\" href=\"http://cdn.leafletjs.com/leaflet/v0.7.7/leaflet.css\" />\n",
       "    <script src=\"http://cdn.leafletjs.com/leaflet/v0.7.7/leaflet.js\"></script>\n",
       "    <script src=\"https://ajax.googleapis.com/ajax/libs/jquery/1.12.2/jquery.min.js\"></script>\n",
       "     <script>\n",
       "        var map;\n",
       "        var ajaxRequest;\n",
       "        var plotlist;\n",
       "        var plotlayers=[];\n",
       "\n",
       "        function initmap() {\n",
       "            // set up the map\n",
       "            map = new L.Map('map');\n",
       "\n",
       "            // create the tile layer with correct attribution\n",
       "            var osmUrl='http://{s}.tile.openstreetmap.org/{z}/{x}/{y}.png';\n",
       "            var osmAttrib='Map data © <a href=\"http://openstreetmap.org\">OpenStreetMap</a> contributors';\n",
       "            var osm = new L.TileLayer(osmUrl, {minZoom: 8, maxZoom: 12, attribution: osmAttrib});       \n",
       "\n",
       "            // start the map in South-East England\n",
       "            map.setView(new L.LatLng(51.3, 0.7),9);\n",
       "            map.addLayer(osm);\n",
       "        }\n",
       "    </script>\n",
       "    <script>\n",
       "    $('document').ready(function () {\n",
       "            initmap();\n",
       "        })\n",
       "    </script>\n",
       "</head>\n",
       "<body>\n",
       "    <div id=\"map\" style=\"height:600;width:900;border=2px solid grey\"></div>\n",
       "   \n",
       "</body>\n",
       "</html>"
      ],
      "text/plain": [
       "<IPython.core.display.HTML object>"
      ]
     },
     "execution_count": 9,
     "metadata": {},
     "output_type": "execute_result"
    }
   ],
   "source": [
    "HTML(html_test)"
   ]
  },
  {
   "cell_type": "code",
   "execution_count": 10,
   "metadata": {},
   "outputs": [],
   "source": [
    "from ipyleaflet import (\n",
    "    Map,\n",
    "    Marker,\n",
    "    TileLayer, ImageOverlay,\n",
    "    Polyline, Polygon, Rectangle, Circle, CircleMarker,\n",
    "    GeoJSON,\n",
    "    DrawControl\n",
    ")"
   ]
  },
  {
   "cell_type": "code",
   "execution_count": 5,
   "metadata": {},
   "outputs": [
    {
     "name": "stdout",
     "output_type": "stream",
     "text": [
      "Collecting ipyleaflet\n",
      "  Downloading https://files.pythonhosted.org/packages/1d/13/5cbfbd9f7a62181d3ffa87d7d17479ba3a136fdaa96ea43fdf4691c7d6c8/ipyleaflet-0.11.6-py2.py3-none-any.whl (2.2MB)\n",
      "Requirement already satisfied: ipywidgets<8,>=7.5.0 in c:\\users\\larsj\\appdata\\local\\continuum\\anaconda3\\lib\\site-packages (from ipyleaflet) (7.5.0)\n",
      "Collecting xarray>=0.10 (from ipyleaflet)\n",
      "  Downloading https://files.pythonhosted.org/packages/a8/52/4a561281f536d0902d6279f47fd48894c2c7b7fb078816f18367e9ef46be/xarray-0.14.1-py3-none-any.whl (634kB)\n",
      "Collecting traittypes<3,>=0.2.1 (from ipyleaflet)\n",
      "  Downloading https://files.pythonhosted.org/packages/9c/d1/8d5bd662703cc1764d986f6908a608777305946fa634d34c470cd4a1e729/traittypes-0.2.1-py2.py3-none-any.whl\n",
      "Collecting branca<0.4,>=0.3.1 (from ipyleaflet)\n",
      "  Downloading https://files.pythonhosted.org/packages/63/36/1c93318e9653f4e414a2e0c3b98fc898b4970e939afeedeee6075dd3b703/branca-0.3.1-py3-none-any.whl\n",
      "Requirement already satisfied: traitlets>=4.3.1 in c:\\users\\larsj\\appdata\\local\\continuum\\anaconda3\\lib\\site-packages (from ipywidgets<8,>=7.5.0->ipyleaflet) (4.3.2)\n",
      "Requirement already satisfied: ipython>=4.0.0; python_version >= \"3.3\" in c:\\users\\larsj\\appdata\\local\\continuum\\anaconda3\\lib\\site-packages (from ipywidgets<8,>=7.5.0->ipyleaflet) (7.6.1)\n",
      "Requirement already satisfied: nbformat>=4.2.0 in c:\\users\\larsj\\appdata\\local\\continuum\\anaconda3\\lib\\site-packages (from ipywidgets<8,>=7.5.0->ipyleaflet) (4.4.0)\n",
      "Requirement already satisfied: ipykernel>=4.5.1 in c:\\users\\larsj\\appdata\\local\\continuum\\anaconda3\\lib\\site-packages (from ipywidgets<8,>=7.5.0->ipyleaflet) (5.1.1)\n",
      "Requirement already satisfied: widgetsnbextension~=3.5.0 in c:\\users\\larsj\\appdata\\local\\continuum\\anaconda3\\lib\\site-packages (from ipywidgets<8,>=7.5.0->ipyleaflet) (3.5.0)\n",
      "Requirement already satisfied: numpy>=1.14 in c:\\users\\larsj\\appdata\\local\\continuum\\anaconda3\\lib\\site-packages (from xarray>=0.10->ipyleaflet) (1.16.4)\n",
      "Requirement already satisfied: pandas>=0.24 in c:\\users\\larsj\\appdata\\local\\continuum\\anaconda3\\lib\\site-packages (from xarray>=0.10->ipyleaflet) (0.24.2)\n",
      "Requirement already satisfied: six in c:\\users\\larsj\\appdata\\local\\continuum\\anaconda3\\lib\\site-packages (from branca<0.4,>=0.3.1->ipyleaflet) (1.12.0)\n",
      "Requirement already satisfied: jinja2 in c:\\users\\larsj\\appdata\\local\\continuum\\anaconda3\\lib\\site-packages (from branca<0.4,>=0.3.1->ipyleaflet) (2.10.1)\n",
      "Requirement already satisfied: decorator in c:\\users\\larsj\\appdata\\local\\continuum\\anaconda3\\lib\\site-packages (from traitlets>=4.3.1->ipywidgets<8,>=7.5.0->ipyleaflet) (4.4.0)\n",
      "Requirement already satisfied: ipython-genutils in c:\\users\\larsj\\appdata\\local\\continuum\\anaconda3\\lib\\site-packages (from traitlets>=4.3.1->ipywidgets<8,>=7.5.0->ipyleaflet) (0.2.0)\n",
      "Requirement already satisfied: prompt-toolkit<2.1.0,>=2.0.0 in c:\\users\\larsj\\appdata\\local\\continuum\\anaconda3\\lib\\site-packages (from ipython>=4.0.0; python_version >= \"3.3\"->ipywidgets<8,>=7.5.0->ipyleaflet) (2.0.9)\n",
      "Requirement already satisfied: pickleshare in c:\\users\\larsj\\appdata\\local\\continuum\\anaconda3\\lib\\site-packages (from ipython>=4.0.0; python_version >= \"3.3\"->ipywidgets<8,>=7.5.0->ipyleaflet) (0.7.5)\n",
      "Requirement already satisfied: colorama; sys_platform == \"win32\" in c:\\users\\larsj\\appdata\\local\\continuum\\anaconda3\\lib\\site-packages (from ipython>=4.0.0; python_version >= \"3.3\"->ipywidgets<8,>=7.5.0->ipyleaflet) (0.4.1)\n",
      "Requirement already satisfied: jedi>=0.10 in c:\\users\\larsj\\appdata\\local\\continuum\\anaconda3\\lib\\site-packages (from ipython>=4.0.0; python_version >= \"3.3\"->ipywidgets<8,>=7.5.0->ipyleaflet) (0.13.3)\n",
      "Requirement already satisfied: setuptools>=18.5 in c:\\users\\larsj\\appdata\\local\\continuum\\anaconda3\\lib\\site-packages (from ipython>=4.0.0; python_version >= \"3.3\"->ipywidgets<8,>=7.5.0->ipyleaflet) (41.0.1)\n",
      "Requirement already satisfied: backcall in c:\\users\\larsj\\appdata\\local\\continuum\\anaconda3\\lib\\site-packages (from ipython>=4.0.0; python_version >= \"3.3\"->ipywidgets<8,>=7.5.0->ipyleaflet) (0.1.0)\n",
      "Requirement already satisfied: pygments in c:\\users\\larsj\\appdata\\local\\continuum\\anaconda3\\lib\\site-packages (from ipython>=4.0.0; python_version >= \"3.3\"->ipywidgets<8,>=7.5.0->ipyleaflet) (2.4.2)\n",
      "Requirement already satisfied: jsonschema!=2.5.0,>=2.4 in c:\\users\\larsj\\appdata\\local\\continuum\\anaconda3\\lib\\site-packages (from nbformat>=4.2.0->ipywidgets<8,>=7.5.0->ipyleaflet) (3.0.1)\n",
      "Requirement already satisfied: jupyter-core in c:\\users\\larsj\\appdata\\local\\continuum\\anaconda3\\lib\\site-packages (from nbformat>=4.2.0->ipywidgets<8,>=7.5.0->ipyleaflet) (4.5.0)\n",
      "Requirement already satisfied: tornado>=4.2 in c:\\users\\larsj\\appdata\\local\\continuum\\anaconda3\\lib\\site-packages (from ipykernel>=4.5.1->ipywidgets<8,>=7.5.0->ipyleaflet) (6.0.3)\n",
      "Requirement already satisfied: jupyter-client in c:\\users\\larsj\\appdata\\local\\continuum\\anaconda3\\lib\\site-packages (from ipykernel>=4.5.1->ipywidgets<8,>=7.5.0->ipyleaflet) (5.3.1)\n",
      "Requirement already satisfied: notebook>=4.4.1 in c:\\users\\larsj\\appdata\\local\\continuum\\anaconda3\\lib\\site-packages (from widgetsnbextension~=3.5.0->ipywidgets<8,>=7.5.0->ipyleaflet) (6.0.0)\n",
      "Requirement already satisfied: python-dateutil>=2.5.0 in c:\\users\\larsj\\appdata\\local\\continuum\\anaconda3\\lib\\site-packages (from pandas>=0.24->xarray>=0.10->ipyleaflet) (2.8.0)\n",
      "Requirement already satisfied: pytz>=2011k in c:\\users\\larsj\\appdata\\local\\continuum\\anaconda3\\lib\\site-packages (from pandas>=0.24->xarray>=0.10->ipyleaflet) (2019.1)\n",
      "Requirement already satisfied: MarkupSafe>=0.23 in c:\\users\\larsj\\appdata\\local\\continuum\\anaconda3\\lib\\site-packages (from jinja2->branca<0.4,>=0.3.1->ipyleaflet) (1.1.1)\n",
      "Requirement already satisfied: wcwidth in c:\\users\\larsj\\appdata\\local\\continuum\\anaconda3\\lib\\site-packages (from prompt-toolkit<2.1.0,>=2.0.0->ipython>=4.0.0; python_version >= \"3.3\"->ipywidgets<8,>=7.5.0->ipyleaflet) (0.1.7)\n",
      "Requirement already satisfied: parso>=0.3.0 in c:\\users\\larsj\\appdata\\local\\continuum\\anaconda3\\lib\\site-packages (from jedi>=0.10->ipython>=4.0.0; python_version >= \"3.3\"->ipywidgets<8,>=7.5.0->ipyleaflet) (0.5.0)\n",
      "Requirement already satisfied: attrs>=17.4.0 in c:\\users\\larsj\\appdata\\local\\continuum\\anaconda3\\lib\\site-packages (from jsonschema!=2.5.0,>=2.4->nbformat>=4.2.0->ipywidgets<8,>=7.5.0->ipyleaflet) (19.1.0)\n",
      "Requirement already satisfied: pyrsistent>=0.14.0 in c:\\users\\larsj\\appdata\\local\\continuum\\anaconda3\\lib\\site-packages (from jsonschema!=2.5.0,>=2.4->nbformat>=4.2.0->ipywidgets<8,>=7.5.0->ipyleaflet) (0.14.11)\n",
      "Requirement already satisfied: pyzmq>=13 in c:\\users\\larsj\\appdata\\local\\continuum\\anaconda3\\lib\\site-packages (from jupyter-client->ipykernel>=4.5.1->ipywidgets<8,>=7.5.0->ipyleaflet) (18.0.0)\n",
      "Requirement already satisfied: prometheus-client in c:\\users\\larsj\\appdata\\local\\continuum\\anaconda3\\lib\\site-packages (from notebook>=4.4.1->widgetsnbextension~=3.5.0->ipywidgets<8,>=7.5.0->ipyleaflet) (0.7.1)\n",
      "Requirement already satisfied: terminado>=0.8.1 in c:\\users\\larsj\\appdata\\local\\continuum\\anaconda3\\lib\\site-packages (from notebook>=4.4.1->widgetsnbextension~=3.5.0->ipywidgets<8,>=7.5.0->ipyleaflet) (0.8.2)\n",
      "Requirement already satisfied: Send2Trash in c:\\users\\larsj\\appdata\\local\\continuum\\anaconda3\\lib\\site-packages (from notebook>=4.4.1->widgetsnbextension~=3.5.0->ipywidgets<8,>=7.5.0->ipyleaflet) (1.5.0)\n",
      "Requirement already satisfied: nbconvert in c:\\users\\larsj\\appdata\\local\\continuum\\anaconda3\\lib\\site-packages (from notebook>=4.4.1->widgetsnbextension~=3.5.0->ipywidgets<8,>=7.5.0->ipyleaflet) (5.5.0)\n",
      "Requirement already satisfied: bleach in c:\\users\\larsj\\appdata\\local\\continuum\\anaconda3\\lib\\site-packages (from nbconvert->notebook>=4.4.1->widgetsnbextension~=3.5.0->ipywidgets<8,>=7.5.0->ipyleaflet) (3.1.0)\n",
      "Requirement already satisfied: mistune>=0.8.1 in c:\\users\\larsj\\appdata\\local\\continuum\\anaconda3\\lib\\site-packages (from nbconvert->notebook>=4.4.1->widgetsnbextension~=3.5.0->ipywidgets<8,>=7.5.0->ipyleaflet) (0.8.4)\n",
      "Requirement already satisfied: pandocfilters>=1.4.1 in c:\\users\\larsj\\appdata\\local\\continuum\\anaconda3\\lib\\site-packages (from nbconvert->notebook>=4.4.1->widgetsnbextension~=3.5.0->ipywidgets<8,>=7.5.0->ipyleaflet) (1.4.2)\n",
      "Requirement already satisfied: defusedxml in c:\\users\\larsj\\appdata\\local\\continuum\\anaconda3\\lib\\site-packages (from nbconvert->notebook>=4.4.1->widgetsnbextension~=3.5.0->ipywidgets<8,>=7.5.0->ipyleaflet) (0.6.0)\n",
      "Requirement already satisfied: entrypoints>=0.2.2 in c:\\users\\larsj\\appdata\\local\\continuum\\anaconda3\\lib\\site-packages (from nbconvert->notebook>=4.4.1->widgetsnbextension~=3.5.0->ipywidgets<8,>=7.5.0->ipyleaflet) (0.3)\n",
      "Requirement already satisfied: testpath in c:\\users\\larsj\\appdata\\local\\continuum\\anaconda3\\lib\\site-packages (from nbconvert->notebook>=4.4.1->widgetsnbextension~=3.5.0->ipywidgets<8,>=7.5.0->ipyleaflet) (0.4.2)\n",
      "Requirement already satisfied: webencodings in c:\\users\\larsj\\appdata\\local\\continuum\\anaconda3\\lib\\site-packages (from bleach->nbconvert->notebook>=4.4.1->widgetsnbextension~=3.5.0->ipywidgets<8,>=7.5.0->ipyleaflet) (0.5.1)\n",
      "Installing collected packages: xarray, traittypes, branca, ipyleaflet\n",
      "Successfully installed branca-0.3.1 ipyleaflet-0.11.6 traittypes-0.2.1 xarray-0.14.1\n"
     ]
    },
    {
     "name": "stderr",
     "output_type": "stream",
     "text": [
      "WARNING: You are using pip version 19.2.2, however version 19.3.1 is available.\n",
      "You should consider upgrading via the 'python -m pip install --upgrade pip' command.\n"
     ]
    }
   ],
   "source": [
    "!pip install ipyleaflet"
   ]
  }
 ],
 "metadata": {
  "anaconda-cloud": {},
  "kernelspec": {
   "display_name": "Python 3",
   "language": "python",
   "name": "python3"
  },
  "language_info": {
   "codemirror_mode": {
    "name": "ipython",
    "version": 3
   },
   "file_extension": ".py",
   "mimetype": "text/x-python",
   "name": "python",
   "nbconvert_exporter": "python",
   "pygments_lexer": "ipython3",
   "version": "3.7.3"
  }
 },
 "nbformat": 4,
 "nbformat_minor": 1
}
