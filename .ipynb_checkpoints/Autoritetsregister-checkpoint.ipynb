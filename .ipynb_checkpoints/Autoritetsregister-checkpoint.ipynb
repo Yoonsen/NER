{
 "cells": [
  {
   "cell_type": "markdown",
   "metadata": {},
   "source": [
    "## Hent data fra Bibsys autoritetsregister"
   ]
  },
  {
   "cell_type": "code",
   "execution_count": 1,
   "metadata": {},
   "outputs": [],
   "source": [
    "import requests"
   ]
  },
  {
   "cell_type": "code",
   "execution_count": 98,
   "metadata": {},
   "outputs": [],
   "source": [
    "def get_author(author):\n",
    "    query = {'q': author,\n",
    "             'start':1,\n",
    "             'max':10,\n",
    "             'format':'json'}\n",
    "    res = requests.get(\"https://authority.bibsys.no/authority/rest/functions/v2/query\", params = query)\n",
    "    return res.json()\n",
    "\n",
    "def get_author_info_from_key(key):\n",
    "    query = {'format':'json'}\n",
    "    res = requests.get(\"https://authority.bibsys.no/authority/rest/authorities/v2/{key}\".format(key=key), params = query)\n",
    "    return res.json()\n",
    "\n",
    "def get_marc_post(name):\n",
    "    r = get_author(name)\n",
    "\n",
    "    results = r['results']\n",
    "    #print(results)\n",
    "    identifiers = [x['identifiersMap']['autid'][0] for x in results if 'autid' in x['identifiersMap']] \n",
    "    #print(identifier)\n",
    "    res = []\n",
    "    for identifier in identifiers:\n",
    "        identifier = identifier.split('x')[1]\n",
    "        try:\n",
    "            #print(identifier)\n",
    "            res.append(get_author_info_from_key(identifier))\n",
    "        except:\n",
    "            print('feil med:', identifier)\n",
    "    return res"
   ]
  },
  {
   "cell_type": "code",
   "execution_count": 114,
   "metadata": {},
   "outputs": [
    {
     "data": {
      "text/plain": [
       "[{'authorityType': 'PERSON',\n",
       "  'status': 'kat3',\n",
       "  'origin': 'adabas',\n",
       "  'deleted': False,\n",
       "  'systemControlNumber': '98022676',\n",
       "  'lastUpdateDate': '2018-10-16 07:40:09.598',\n",
       "  'createdDate': '2014-02-05 00:00:00.000',\n",
       "  'replacedBy': '0',\n",
       "  'marcdata': [{'tag': '043',\n",
       "    'ind1': '',\n",
       "    'ind2': '',\n",
       "    'subfields': [{'subcode': 'c', 'value': 'no'}]},\n",
       "   {'tag': '100',\n",
       "    'ind1': '1',\n",
       "    'ind2': ' ',\n",
       "    'subfields': [{'subcode': 'a', 'value': 'Hanssen, Jens-Morten'},\n",
       "     {'subcode': 'd', 'value': '1970-'}]},\n",
       "   {'tag': '375',\n",
       "    'ind1': ' ',\n",
       "    'ind2': ' ',\n",
       "    'subfields': [{'subcode': 'a', 'value': 'm'}]}],\n",
       "  'identifiersMap': {'autid': ['x98022676'],\n",
       "   'handle': ['http://hdl.handle.net/11250/2162378'],\n",
       "   'scn': ['98022676'],\n",
       "   'viaf': ['http://viaf.org/viaf/87145970224332251773']}}]"
      ]
     },
     "execution_count": 114,
     "metadata": {},
     "output_type": "execute_result"
    }
   ],
   "source": [
    "[x for x in get_marc_post('Jens-Morten Hanssen') if x['authorityType'] == 'PERSON']"
   ]
  },
  {
   "cell_type": "code",
   "execution_count": null,
   "metadata": {},
   "outputs": [],
   "source": []
  }
 ],
 "metadata": {
  "kernelspec": {
   "display_name": "Python 3",
   "language": "python",
   "name": "python3"
  },
  "language_info": {
   "codemirror_mode": {
    "name": "ipython",
    "version": 3
   },
   "file_extension": ".py",
   "mimetype": "text/x-python",
   "name": "python",
   "nbconvert_exporter": "python",
   "pygments_lexer": "ipython3",
   "version": "3.7.3"
  }
 },
 "nbformat": 4,
 "nbformat_minor": 2
}
