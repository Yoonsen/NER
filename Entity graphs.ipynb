{
 "cells": [
  {
   "cell_type": "markdown",
   "metadata": {},
   "source": [
    "## Oppstart"
   ]
  },
  {
   "cell_type": "code",
   "execution_count": 1,
   "metadata": {},
   "outputs": [],
   "source": [
    "\n",
    "import dhlab.nbtext as nb\n",
    "import dhlab.token_map as tm\n",
    "from dhlab.nbtext import get_urn, make_graph, get_urn, relaterte_ord, navn, totals\n",
    "import dhlab.graph_networkx_louvain as gnl\n",
    "import pandas as pd\n",
    "%matplotlib inline\n",
    "\n",
    "plot = lambda x,  lw=3, alpha= 0.7: x.plot(figsize=(15,6), lw=lw, alpha=alpha)\n"
   ]
  },
  {
   "cell_type": "markdown",
   "metadata": {},
   "source": [
    "## Navn i bøker\n",
    "\n",
    "\n",
    "Vi søker etter navn i en bok, og en serie av bøker.\n",
    "\n",
    "Kommandoene er:\n",
    "1. `names` henter et sett med forslag til navn, fra nbtext\n",
    "1. `show_names` gir en oversikt over funnene, fra token_map\n",
    "1. `names_to_token_map_file` lagrer navneforslagene til en excelfil (eller csv) for redigering (token_map)\n",
    "1. `read_token_map_file` henter redigert fil tilbake for analyse (token_map)\n",
    "1. `character_network` lager graf for navnene (token_map)\n",
    "1. `show_graph`  tegner grafen (fra graph_networkx_louvain)\n",
    "1. `show_communities` viser clustre i grafen (graph_networkx_louvain)\n"
   ]
  },
  {
   "cell_type": "markdown",
   "metadata": {},
   "source": [
    "# Eksempel\n",
    "\n",
    "I eksemplet ser vi først på en tilfeldig bok, deretter mulighetene for å gjøre det samme med et helt korpus.\n",
    "\n",
    "## Korpus\n",
    "\n",
    "Bygg først et korpus, enten fra kommando `nb.book_corpus` eller `book_urn`, eller gjenskap fra fil."
   ]
  },
  {
   "cell_type": "code",
   "execution_count": 7,
   "metadata": {},
   "outputs": [],
   "source": [
    "korpus = nb.book_corpus(author='hamsun%')"
   ]
  },
  {
   "cell_type": "code",
   "execution_count": null,
   "metadata": {},
   "outputs": [],
   "source": [
    "#korpus = nb.restore_metadata_from_excel('metadatafil.xls')"
   ]
  },
  {
   "cell_type": "markdown",
   "metadata": {},
   "source": [
    "## Sjekk innholdet\n",
    "\n",
    "Gjør noen søk for å se at alt er ok. Konkordanser er fine til det. Her går urnene gjennom `nb.pure_urn` -  i fremtiden skal det ikke være nødvendig."
   ]
  },
  {
   "cell_type": "code",
   "execution_count": 4,
   "metadata": {},
   "outputs": [
    {
     "data": {
      "text/html": [
       "<table><tr>\n",
       "                <td>\n",
       "                    <a href='http://www.nb.no/items/URN:NBN:no-nb_digibok_2013042505067?searchText=arbeid' target='_blank' style='text-decoration:none'>Hamsuns beste, Hamsun, Knut, 2006</a>\n",
       "                </td>\n",
       "                <td>kunne han skrive om sitt</td>\n",
       "                <td>arbeid</td>\n",
       "                <td style='text-align:left'>: « Dog maa jeg</td>\n",
       "            </tr>\n",
       "<tr>\n",
       "                <td>\n",
       "                    <a href='http://www.nb.no/items/URN:NBN:no-nb_digibok_2013042505067?searchText=arbeid' target='_blank' style='text-decoration:none'>Hamsuns beste, Hamsun, Knut, 2006</a>\n",
       "                </td>\n",
       "                <td>han tusen kroner til Nansens</td>\n",
       "                <td>arbeid</td>\n",
       "                <td style='text-align:left'>for sultende barn</td>\n",
       "            </tr>\n",
       "<tr>\n",
       "                <td>\n",
       "                    <a href='http://www.nb.no/items/URN:NBN:no-nb_digibok_2013042505067?searchText=arbeid' target='_blank' style='text-decoration:none'>Hamsuns beste, Hamsun, Knut, 2006</a>\n",
       "                </td>\n",
       "                <td>Jeg anførte følgende : Mitt</td>\n",
       "                <td>arbeid</td>\n",
       "                <td style='text-align:left'>i Gyldendal var meget vanskelig</td>\n",
       "            </tr>\n",
       "<tr>\n",
       "                <td>\n",
       "                    <a href='http://www.nb.no/items/URN:NBN:no-nb_digibok_2013042505067?searchText=arbeid' target='_blank' style='text-decoration:none'>Hamsuns beste, Hamsun, Knut, 2006</a>\n",
       "                </td>\n",
       "                <td>, og han tar seg</td>\n",
       "                <td>arbeid</td>\n",
       "                <td style='text-align:left'>på prærien .</td>\n",
       "            </tr>\n",
       "<tr>\n",
       "                <td>\n",
       "                    <a href='http://www.nb.no/items/URN:NBN:no-nb_digibok_2014090308131?searchText=arbeid' target='_blank' style='text-decoration:none'>Samlede verker, Hamsun, Knut, 2009</a>\n",
       "                </td>\n",
       "                <td>av dette innfall i mitt</td>\n",
       "                <td>arbeid</td>\n",
       "                <td style='text-align:left'>, går jeg i gang</td>\n",
       "            </tr>\n",
       "<tr>\n",
       "                <td>\n",
       "                    <a href='http://www.nb.no/items/URN:NBN:no-nb_digibok_2014090308131?searchText=arbeid' target='_blank' style='text-decoration:none'>Samlede verker, Hamsun, Knut, 2009</a>\n",
       "                </td>\n",
       "                <td>bredere plass i det politiske</td>\n",
       "                <td>arbeid</td>\n",
       "                <td style='text-align:left'>. Ut fra forskjellige livssyn</td>\n",
       "            </tr>\n",
       "<tr>\n",
       "                <td>\n",
       "                    <a href='http://www.nb.no/items/URN:NBN:no-nb_digibok_2014090308131?searchText=arbeid' target='_blank' style='text-decoration:none'>Samlede verker, Hamsun, Knut, 2009</a>\n",
       "                </td>\n",
       "                <td>i 1934 ble et slikt</td>\n",
       "                <td>arbeid</td>\n",
       "                <td style='text-align:left'>igangsatt - et arbeid som</td>\n",
       "            </tr>\n",
       "<tr>\n",
       "                <td>\n",
       "                    <a href='http://www.nb.no/items/URN:NBN:no-nb_digibok_2014090308131?searchText=arbeid' target='_blank' style='text-decoration:none'>Samlede verker, Hamsun, Knut, 2009</a>\n",
       "                </td>\n",
       "                <td>slikt arbeid igangsatt - et</td>\n",
       "                <td>arbeid</td>\n",
       "                <td style='text-align:left'>som førte frem til den</td>\n",
       "            </tr>\n",
       "<tr>\n",
       "                <td>\n",
       "                    <a href='http://www.nb.no/items/URN:NBN:no-nb_digibok_2016060848043?searchText=arbeid' target='_blank' style='text-decoration:none'>Bygdebarn, Hamsun, Marie, 1942</a>\n",
       "                </td>\n",
       "                <td>Det hadde vært et svært</td>\n",
       "                <td>arbeid</td>\n",
       "                <td style='text-align:left'>å bygge hyttene , for</td>\n",
       "            </tr>\n",
       "</table>"
      ],
      "text/plain": [
       "<IPython.core.display.HTML object>"
      ]
     },
     "execution_count": 4,
     "metadata": {},
     "output_type": "execute_result"
    }
   ],
   "source": [
    "nb.urn_concordance(word = 'arbeid', urns = korpus)"
   ]
  },
  {
   "cell_type": "markdown",
   "metadata": {},
   "source": [
    "## Navn\n",
    "\n",
    "Finn forslag til navn med `names`. Se på dem med `show_names`. Her er det muligheter til å skru litt på parametrene. Hvis ratioen skrus ned fjernes en del ord, og om cutoff settes høyere vil også enkelte navneforslag kunne forsvinne."
   ]
  },
  {
   "cell_type": "markdown",
   "metadata": {},
   "source": [
    "Velg hvilken bok som skal studeres (alle kan tas, men se under). Se på listen over korpus og sett den indeksen som passer. Her er det bare å føle seg frem."
   ]
  },
  {
   "cell_type": "code",
   "execution_count": null,
   "metadata": {},
   "outputs": [],
   "source": [
    "korpus"
   ]
  },
  {
   "cell_type": "markdown",
   "metadata": {},
   "source": [
    "Finn korpuset ved å sette inn en index tilsvarende den som står helt til venstre i listen over."
   ]
  },
  {
   "cell_type": "code",
   "execution_count": null,
   "metadata": {},
   "outputs": [],
   "source": [
    "korpus.loc[2]"
   ]
  },
  {
   "cell_type": "markdown",
   "metadata": {},
   "source": [
    "Og knytt det til variabelen BOOK, eventuelt kopier ut URN og ta det derfra."
   ]
  },
  {
   "cell_type": "code",
   "execution_count": null,
   "metadata": {},
   "outputs": [],
   "source": [
    "# sett inn med indeks\n",
    "\n",
    "BOOK = nb.pure_urn(korpus['urn'])[1]\n",
    "\n",
    "# sett inn med URN fra listen\n",
    "\n",
    "#BOOK = 2007021401006 "
   ]
  },
  {
   "cell_type": "markdown",
   "metadata": {},
   "source": [
    "Hent ut navn fra boken"
   ]
  },
  {
   "cell_type": "code",
   "execution_count": null,
   "metadata": {},
   "outputs": [],
   "source": [
    "navn = nb.names(BOOK, ratio=0.5, cutoff=10)\n",
    "tm.show_names(navn)"
   ]
  },
  {
   "cell_type": "markdown",
   "metadata": {},
   "source": [
    "### Lagring og redigering\n",
    "\n",
    "Rediger filen fra cellen med lagringskommando (`names_to_token_map_file(....)`)\n",
    "Listen trenger litt redigering, og sammenslåing. Lagre til Excel, og benytt `orient = column` for å ha navn i kolonnner, eller `orient = row` for å redigere radvis. Noen store filer med over 256 navn krever `row`. Kommandoen sjekker om filen allerede fins, og vil ikke skrive over."
   ]
  },
  {
   "cell_type": "code",
   "execution_count": null,
   "metadata": {},
   "outputs": [],
   "source": [
    "tm.names_to_token_map_file(navn, filename = \"en_bok15.xls\", orient = \"column\")"
   ]
  },
  {
   "cell_type": "markdown",
   "metadata": {},
   "source": [
    "### Redigeringsaktivitet\n",
    "\n",
    "Åpne i for eksempel i excel eller tilsvarende som for eksempel openoffice eller libreoffice. Etter redigering, kjøres cellen under. Husk bare å benytte riktig filnavn. \n",
    "\n",
    "Husk at verdien på orient må være lik mellom lagring og lesing av excelfil."
   ]
  },
  {
   "cell_type": "code",
   "execution_count": null,
   "metadata": {},
   "outputs": [],
   "source": [
    "redigerte_navn = tm.read_token_map_file(\"en_bok15.xls\", orient = \"column\")"
   ]
  },
  {
   "cell_type": "markdown",
   "metadata": {},
   "source": [
    "Listen med redigerte navn går inn i grafen - vi tar med oss variabelen BOOK (se øverst):"
   ]
  },
  {
   "cell_type": "code",
   "execution_count": null,
   "metadata": {},
   "outputs": [],
   "source": [
    "G = tm.character_network(BOOK, redigerte_navn)"
   ]
  },
  {
   "cell_type": "markdown",
   "metadata": {},
   "source": [
    "Dernest kan den vises og analyseres med passende kommandoer"
   ]
  },
  {
   "cell_type": "code",
   "execution_count": null,
   "metadata": {},
   "outputs": [],
   "source": []
  },
  {
   "cell_type": "code",
   "execution_count": null,
   "metadata": {},
   "outputs": [],
   "source": [
    "gnl.show_graph(G)"
   ]
  },
  {
   "cell_type": "code",
   "execution_count": null,
   "metadata": {},
   "outputs": [],
   "source": [
    "gnl.show_communities(G)"
   ]
  },
  {
   "cell_type": "markdown",
   "metadata": {},
   "source": []
  }
 ],
 "metadata": {
  "hide_input": false,
  "kernelspec": {
   "display_name": "Python 3",
   "language": "python",
   "name": "python3"
  },
  "language_info": {
   "codemirror_mode": {
    "name": "ipython",
    "version": 3
   },
   "file_extension": ".py",
   "mimetype": "text/x-python",
   "name": "python",
   "nbconvert_exporter": "python",
   "pygments_lexer": "ipython3",
   "version": "3.7.3"
  }
 },
 "nbformat": 4,
 "nbformat_minor": 4
}
