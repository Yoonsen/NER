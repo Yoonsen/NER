{
 "cells": [
  {
   "cell_type": "markdown",
   "metadata": {},
   "source": [
    "## Oppstart"
   ]
  },
  {
   "cell_type": "code",
   "execution_count": 2,
   "metadata": {},
   "outputs": [],
   "source": [
    "!curl -s \"https://raw.githubusercontent.com/Yoonsen/Modules/master/module_update.py\" > \"module_update.py\""
   ]
  },
  {
   "cell_type": "code",
   "execution_count": 3,
   "metadata": {},
   "outputs": [],
   "source": [
    "from module_update import update, css"
   ]
  },
  {
   "cell_type": "code",
   "execution_count": 4,
   "metadata": {},
   "outputs": [
    {
     "data": {
      "text/html": [
       "<style>@import url(\n",
       "http://fonts.googleapis.com/css?family=Lato|Philosopher|Montserrat|Source+Code+Pro|Istok+Web|Philosopher|Assistant:200,400,700);\n",
       "\n",
       "/*\n",
       "#notebook-container {\n",
       "\t-webkit-box-shadow: none;\n",
       "\tbox-shadow: none;\n",
       "}\n",
       "*/\n",
       "\n",
       "h1, h2, h3, h4, h5, h6 {\n",
       "\tfont-family: 'Montserrat', sans-serif;\n",
       "\tline-height: 2em;\n",
       "    color: #004f99;\n",
       "    font-weight: 600;\n",
       "}\n",
       "\n",
       "h1 { font-size: 4.5em; }\n",
       "h2 { font-size: 4em; }\n",
       "h3 { font-size: 3.5em; }\n",
       "h4 { font-size: 3em; }\n",
       "h5 { font-size: 2.5em; color:DarkSlateGray; }\n",
       "h6 { font-size: 2em; }\n",
       "\n",
       "p {\n",
       "\tfont-family: 'Assistant', sans-serif; \n",
       "\tfont-size: 1.2em;\n",
       "\tline-height: 1.4em;\n",
       "\tcolor: black;\n",
       "}\n",
       "p code {\n",
       "\tfont-size:0.9em;\n",
       "}\n",
       "div.input_area {\n",
       "\tborder:none !important;\n",
       "\tborder-left:1px solid #ff851b !important\n",
       "}\n",
       "\n",
       "span.cm-keyword {\n",
       "\tcolor:#339966 !important;\n",
       "}\n",
       "span.nn {  /*span.cm-variable, span.cm-property*/\n",
       "\tcolor: #3399ff !important;\n",
       "}\n",
       "div.CodeMirror {\n",
       "\tfont-family: 'Inconsolata', monospace;\n",
       "\tfont-size: 1.1em;\n",
       "\t\n",
       "}\n",
       "</style>"
      ],
      "text/plain": [
       "<IPython.core.display.HTML object>"
      ]
     },
     "execution_count": 4,
     "metadata": {},
     "output_type": "execute_result"
    }
   ],
   "source": [
    "css()"
   ]
  },
  {
   "cell_type": "code",
   "execution_count": 5,
   "metadata": {},
   "outputs": [],
   "source": [
    "import warnings\n",
    "warnings.filterwarnings('ignore')"
   ]
  },
  {
   "cell_type": "markdown",
   "metadata": {},
   "source": [
    "### Note that the file `nbtext.py` will be overwritten in the code below\n",
    "\n",
    "This is probably ok, though. If not, change `update('nbtext', overwrite = True)` to `update('nbtext', overwrite = False)` and the file will stay unchanged. \n"
   ]
  },
  {
   "cell_type": "code",
   "execution_count": 7,
   "metadata": {},
   "outputs": [
    {
     "data": {
      "text/markdown": [
       "Updated file `C:\\Users\\larsj\\Documents\\GitHub\\NER\\graph_networkx_louvain.py`"
      ],
      "text/plain": [
       "<IPython.core.display.Markdown object>"
      ]
     },
     "metadata": {},
     "output_type": "display_data"
    },
    {
     "data": {
      "text/markdown": [
       "Updated file `C:\\Users\\larsj\\Documents\\GitHub\\NER\\nbtext.py`"
      ],
      "text/plain": [
       "<IPython.core.display.Markdown object>"
      ]
     },
     "metadata": {},
     "output_type": "display_data"
    },
    {
     "data": {
      "text/markdown": [
       "Updated file `C:\\Users\\larsj\\Documents\\GitHub\\NER\\token_map.py`"
      ],
      "text/plain": [
       "<IPython.core.display.Markdown object>"
      ]
     },
     "metadata": {},
     "output_type": "display_data"
    }
   ],
   "source": [
    "update('graph_networkx_louvain', overwrite=True)\n",
    "update('nbtext', overwrite = True)\n",
    "update('token_map', overwrite = True)\n",
    "import nbtext as nb\n",
    "import token_map as tm\n",
    "from nbtext import get_urn, make_graph, get_urn, relaterte_ord, navn, totals\n",
    "import graph_networkx_louvain as gnl\n",
    "import pandas as pd\n",
    "%matplotlib inline\n",
    "\n",
    "plot = lambda x,  lw=3, alpha= 0.7: x.plot(figsize=(15,6), lw=lw, alpha=alpha)\n"
   ]
  },
  {
   "cell_type": "markdown",
   "metadata": {},
   "source": [
    "## Navn i bøker\n",
    "\n",
    "\n",
    "Vi søker etter navn i en bok, og en serie av bøker.\n",
    "\n",
    "Kommandoene er:\n",
    "1. `names` henter et sett med forslag til navn, fra nbtext\n",
    "1. `show_names` gir en oversikt over funnene, fra token_map\n",
    "1. `names_to_token_map_file` lagrer navneforslagene til en excelfil (eller csv) for redigering (token_map)\n",
    "1. `read_token_map_file` henter redigert fil tilbake for analyse (token_map)\n",
    "1. `character_network` lager graf for navnene (token_map)\n",
    "1. `show_graph`  tegner grafen (fra graph_networkx_louvain)\n",
    "1. `show_communities` viser clustre i grafen (graph_networkx_louvain)\n"
   ]
  },
  {
   "cell_type": "markdown",
   "metadata": {},
   "source": [
    "# Eksempel\n",
    "\n",
    "I eksemplet ser vi først på en tilfeldig bok, deretter mulighetene for å gjøre det samme med et helt korpus.\n",
    "\n",
    "## Korpus\n",
    "\n",
    "Bygg først et korpus, enten fra kommando `nb.book_corpus` eller `book_urn`, eller gjenskap fra fil."
   ]
  },
  {
   "cell_type": "code",
   "execution_count": 8,
   "metadata": {},
   "outputs": [],
   "source": [
    "korpus = nb.book_corpus(author='hamsun%')"
   ]
  },
  {
   "cell_type": "code",
   "execution_count": 7,
   "metadata": {},
   "outputs": [],
   "source": [
    "#korpus = nb.restore_metadata_from_excel('metadatafil.xls')"
   ]
  },
  {
   "cell_type": "markdown",
   "metadata": {},
   "source": [
    "## Sjekk innholdet\n",
    "\n",
    "Gjør noen søk for å se at alt er ok. Konkordanser er fine til det. Her går urnene gjennom `nb.pure_urn` -  i fremtiden skal det ikke være nødvendig."
   ]
  },
  {
   "cell_type": "code",
   "execution_count": 9,
   "metadata": {},
   "outputs": [
    {
     "data": {
      "text/html": [
       "<table><tr>\n",
       "                <td>\n",
       "                    <a href='http://www.nb.no/items/URN:NBN:no-nb_digibok_2007031901003?searchText=arbeid' target='_blank' style='text-decoration:none'>Paa turne, Hamsun, Knut, 1960</a>\n",
       "                </td>\n",
       "                <td>Amerika . Under hardt kroppslig</td>\n",
       "                <td>arbeid</td>\n",
       "                <td style='text-align:left'>for livets opphold hadde tanken</td>\n",
       "            </tr>\n",
       "<tr>\n",
       "                <td>\n",
       "                    <a href='http://www.nb.no/items/URN:NBN:no-nb_digibok_2008010400002?searchText=arbeid' target='_blank' style='text-decoration:none'>Knut Hamsuns brev, Hamsun, Knut, 1994</a>\n",
       "                </td>\n",
       "                <td>, senere kjent for sitt</td>\n",
       "                <td>arbeid</td>\n",
       "                <td style='text-align:left'>for vergerådene . I årene</td>\n",
       "            </tr>\n",
       "<tr>\n",
       "                <td>\n",
       "                    <a href='http://www.nb.no/items/URN:NBN:no-nb_digibok_2008010400002?searchText=arbeid' target='_blank' style='text-decoration:none'>Knut Hamsuns brev, Hamsun, Knut, 1994</a>\n",
       "                </td>\n",
       "                <td>» Peter Nansen skaffet Krohg</td>\n",
       "                <td>arbeid</td>\n",
       "                <td style='text-align:left'>med å tegne og intervjue</td>\n",
       "            </tr>\n",
       "<tr>\n",
       "                <td>\n",
       "                    <a href='http://www.nb.no/items/URN:NBN:no-nb_digibok_2008010400002?searchText=arbeid' target='_blank' style='text-decoration:none'>Knut Hamsuns brev, Hamsun, Knut, 1994</a>\n",
       "                </td>\n",
       "                <td>894 å sette i gang</td>\n",
       "                <td>arbeid</td>\n",
       "                <td style='text-align:left'>på strekningen Voss-Taugevatn .</td>\n",
       "            </tr>\n",
       "<tr>\n",
       "                <td>\n",
       "                    <a href='http://www.nb.no/items/URN:NBN:no-nb_digibok_2008010400002?searchText=arbeid' target='_blank' style='text-decoration:none'>Knut Hamsuns brev, Hamsun, Knut, 1994</a>\n",
       "                </td>\n",
       "                <td>nervekraft nok fra sitt litterære</td>\n",
       "                <td>arbeid</td>\n",
       "                <td style='text-align:left'>. » ( MINNER I</td>\n",
       "            </tr>\n",
       "<tr>\n",
       "                <td>\n",
       "                    <a href='http://www.nb.no/items/URN:NBN:no-nb_digibok_2008010400002?searchText=arbeid' target='_blank' style='text-decoration:none'>Knut Hamsuns brev, Hamsun, Knut, 1994</a>\n",
       "                </td>\n",
       "                <td>, var Hamsun i fullt</td>\n",
       "                <td>arbeid</td>\n",
       "                <td style='text-align:left'>med Ved Rigets Port ,</td>\n",
       "            </tr>\n",
       "</table>"
      ],
      "text/plain": [
       "<IPython.core.display.HTML object>"
      ]
     },
     "execution_count": 9,
     "metadata": {},
     "output_type": "execute_result"
    }
   ],
   "source": [
    "nb.urn_concordance(word = 'arbeid', urns = nb.pure_urn(korpus))"
   ]
  },
  {
   "cell_type": "markdown",
   "metadata": {},
   "source": [
    "## Navn\n",
    "\n",
    "Finn forslag til navn med `names`. Se på dem med `show_names`. Her er det muligheter til å skru litt på parametrene. Hvis ratioen skrus ned fjernes en del ord, og om cutoff settes høyere vil også enkelte navneforslag kunne forsvinne."
   ]
  },
  {
   "cell_type": "markdown",
   "metadata": {},
   "source": [
    "Velg hvilken bok som skal studeres (alle kan tas, men se under). Se på listen over korpus og sett den indeksen som passer. Her er det bare å føle seg frem."
   ]
  },
  {
   "cell_type": "code",
   "execution_count": 49,
   "metadata": {},
   "outputs": [
    {
     "data": {
      "text/html": [
       "<div>\n",
       "<style scoped>\n",
       "    .dataframe tbody tr th:only-of-type {\n",
       "        vertical-align: middle;\n",
       "    }\n",
       "\n",
       "    .dataframe tbody tr th {\n",
       "        vertical-align: top;\n",
       "    }\n",
       "\n",
       "    .dataframe thead th {\n",
       "        text-align: right;\n",
       "    }\n",
       "</style>\n",
       "<table border=\"1\" class=\"dataframe\">\n",
       "  <thead>\n",
       "    <tr style=\"text-align: right;\">\n",
       "      <th></th>\n",
       "      <th>urn</th>\n",
       "      <th>author</th>\n",
       "      <th>title</th>\n",
       "      <th>year</th>\n",
       "    </tr>\n",
       "  </thead>\n",
       "  <tbody>\n",
       "    <tr>\n",
       "      <th>0</th>\n",
       "      <td>2007021401006</td>\n",
       "      <td>Hamsun, Marie</td>\n",
       "      <td>Bygdebarn</td>\n",
       "      <td>1954</td>\n",
       "    </tr>\n",
       "    <tr>\n",
       "      <th>1</th>\n",
       "      <td>2007081001078</td>\n",
       "      <td>Hamsun, Knut</td>\n",
       "      <td>Leyndardómar</td>\n",
       "      <td>1991</td>\n",
       "    </tr>\n",
       "    <tr>\n",
       "      <th>2</th>\n",
       "      <td>2014030308407</td>\n",
       "      <td>Hamsun, Knut</td>\n",
       "      <td>Samlede verker</td>\n",
       "      <td>2008</td>\n",
       "    </tr>\n",
       "    <tr>\n",
       "      <th>3</th>\n",
       "      <td>2008051404107</td>\n",
       "      <td>Hamsun, Knut</td>\n",
       "      <td>Pan</td>\n",
       "      <td>1954</td>\n",
       "    </tr>\n",
       "    <tr>\n",
       "      <th>4</th>\n",
       "      <td>2013062008034</td>\n",
       "      <td>Hamsun, Knut</td>\n",
       "      <td>Samlede verker</td>\n",
       "      <td>1992</td>\n",
       "    </tr>\n",
       "    <tr>\n",
       "      <th>5</th>\n",
       "      <td>2007110801011</td>\n",
       "      <td>Hamsun, Knut</td>\n",
       "      <td>Men livet lever</td>\n",
       "      <td>1992</td>\n",
       "    </tr>\n",
       "    <tr>\n",
       "      <th>6</th>\n",
       "      <td>2014120208258</td>\n",
       "      <td>Hamsun, Knut</td>\n",
       "      <td>Sult</td>\n",
       "      <td>1899</td>\n",
       "    </tr>\n",
       "    <tr>\n",
       "      <th>7</th>\n",
       "      <td>2015021308004</td>\n",
       "      <td>Hamsun, Marie</td>\n",
       "      <td>Smaadikte</td>\n",
       "      <td>1922</td>\n",
       "    </tr>\n",
       "    <tr>\n",
       "      <th>8</th>\n",
       "      <td>2016060348059</td>\n",
       "      <td>Hamsun, Knut</td>\n",
       "      <td>Noveller</td>\n",
       "      <td>1959</td>\n",
       "    </tr>\n",
       "    <tr>\n",
       "      <th>9</th>\n",
       "      <td>2011020306024</td>\n",
       "      <td>Hamsun, Knut</td>\n",
       "      <td>Mysterier</td>\n",
       "      <td>1970</td>\n",
       "    </tr>\n",
       "    <tr>\n",
       "      <th>10</th>\n",
       "      <td>2007060512003</td>\n",
       "      <td>Hamsun, Knut</td>\n",
       "      <td>Aftenrøde</td>\n",
       "      <td>1898</td>\n",
       "    </tr>\n",
       "    <tr>\n",
       "      <th>11</th>\n",
       "      <td>2013011708144</td>\n",
       "      <td>Hamsun, Knut</td>\n",
       "      <td>Samlede Verker</td>\n",
       "      <td>1934</td>\n",
       "    </tr>\n",
       "    <tr>\n",
       "      <th>12</th>\n",
       "      <td>2008123010002</td>\n",
       "      <td>Hamsun, Knut</td>\n",
       "      <td>Ny Jord</td>\n",
       "      <td>1893</td>\n",
       "    </tr>\n",
       "    <tr>\n",
       "      <th>13</th>\n",
       "      <td>2008102204059</td>\n",
       "      <td>Hamsun, Knut</td>\n",
       "      <td>Samlede verker</td>\n",
       "      <td>2000</td>\n",
       "    </tr>\n",
       "    <tr>\n",
       "      <th>14</th>\n",
       "      <td>2007031901003</td>\n",
       "      <td>Hamsun, Knut</td>\n",
       "      <td>Paa turne</td>\n",
       "      <td>1960</td>\n",
       "    </tr>\n",
       "    <tr>\n",
       "      <th>15</th>\n",
       "      <td>2008010400002</td>\n",
       "      <td>Hamsun, Knut</td>\n",
       "      <td>Knut Hamsuns brev</td>\n",
       "      <td>1994</td>\n",
       "    </tr>\n",
       "    <tr>\n",
       "      <th>16</th>\n",
       "      <td>2008091701033</td>\n",
       "      <td>Hamsun, Knut</td>\n",
       "      <td>Victoria</td>\n",
       "      <td>1998</td>\n",
       "    </tr>\n",
       "    <tr>\n",
       "      <th>17</th>\n",
       "      <td>2013041807232</td>\n",
       "      <td>Hamsun, Knut</td>\n",
       "      <td>Fra det ubevidste sjæleliv</td>\n",
       "      <td>1994</td>\n",
       "    </tr>\n",
       "    <tr>\n",
       "      <th>18</th>\n",
       "      <td>2013012306208</td>\n",
       "      <td>Hamsun, Knut</td>\n",
       "      <td>choeur sauvage</td>\n",
       "      <td>2010</td>\n",
       "    </tr>\n",
       "    <tr>\n",
       "      <th>19</th>\n",
       "      <td>2013010708079</td>\n",
       "      <td>Hamsun, Arild</td>\n",
       "      <td>Dager og vers</td>\n",
       "      <td>1943</td>\n",
       "    </tr>\n",
       "  </tbody>\n",
       "</table>\n",
       "</div>"
      ],
      "text/plain": [
       "              urn         author                       title  year\n",
       "0   2007021401006  Hamsun, Marie                   Bygdebarn  1954\n",
       "1   2007081001078   Hamsun, Knut                Leyndardómar  1991\n",
       "2   2014030308407   Hamsun, Knut              Samlede verker  2008\n",
       "3   2008051404107   Hamsun, Knut                         Pan  1954\n",
       "4   2013062008034   Hamsun, Knut              Samlede verker  1992\n",
       "5   2007110801011   Hamsun, Knut             Men livet lever  1992\n",
       "6   2014120208258   Hamsun, Knut                        Sult  1899\n",
       "7   2015021308004  Hamsun, Marie                   Smaadikte  1922\n",
       "8   2016060348059   Hamsun, Knut                    Noveller  1959\n",
       "9   2011020306024   Hamsun, Knut                   Mysterier  1970\n",
       "10  2007060512003   Hamsun, Knut                   Aftenrøde  1898\n",
       "11  2013011708144   Hamsun, Knut              Samlede Verker  1934\n",
       "12  2008123010002   Hamsun, Knut                     Ny Jord  1893\n",
       "13  2008102204059   Hamsun, Knut              Samlede verker  2000\n",
       "14  2007031901003   Hamsun, Knut                   Paa turne  1960\n",
       "15  2008010400002   Hamsun, Knut           Knut Hamsuns brev  1994\n",
       "16  2008091701033   Hamsun, Knut                    Victoria  1998\n",
       "17  2013041807232   Hamsun, Knut  Fra det ubevidste sjæleliv  1994\n",
       "18  2013012306208   Hamsun, Knut              choeur sauvage  2010\n",
       "19  2013010708079  Hamsun, Arild               Dager og vers  1943"
      ]
     },
     "execution_count": 49,
     "metadata": {},
     "output_type": "execute_result"
    }
   ],
   "source": [
    "korpus"
   ]
  },
  {
   "cell_type": "markdown",
   "metadata": {},
   "source": [
    "Finn korpuset ved å sette inn en index tilsvarende den som står helt til venstre i listen over."
   ]
  },
  {
   "cell_type": "code",
   "execution_count": 48,
   "metadata": {},
   "outputs": [
    {
     "data": {
      "text/plain": [
       "urn        2014030308407\n",
       "author      Hamsun, Knut\n",
       "title     Samlede verker\n",
       "year                2008\n",
       "Name: 2, dtype: object"
      ]
     },
     "execution_count": 48,
     "metadata": {},
     "output_type": "execute_result"
    }
   ],
   "source": [
    "korpus.loc[2]"
   ]
  },
  {
   "cell_type": "markdown",
   "metadata": {},
   "source": [
    "Og knytt det til variabelen BOOK, eventuelt kopier ut URN og ta det derfra."
   ]
  },
  {
   "cell_type": "code",
   "execution_count": 19,
   "metadata": {},
   "outputs": [],
   "source": [
    "# sett inn med indeks\n",
    "\n",
    "BOOK = nb.pure_urn(korpus['urn'])[1]\n",
    "\n",
    "# sett inn med URN fra listen\n",
    "\n",
    "#BOOK = 2007021401006 "
   ]
  },
  {
   "cell_type": "markdown",
   "metadata": {},
   "source": [
    "Hent ut navn fra boken"
   ]
  },
  {
   "cell_type": "code",
   "execution_count": 20,
   "metadata": {},
   "outputs": [
    {
     "name": "stdout",
     "output_type": "stream",
     "text": [
      "Lag 1\n",
      "=========\n",
      "\n",
      "    Nagel - 355\n",
      "    Minutan - 138\n",
      "    Gud - 120\n",
      "    Dagny - 71\n",
      "    Ipér - 63\n",
      "    Kielland - 61\n",
      "    Stenersen - 39\n",
      "    Marta - 38\n",
      "    Sara - 36\n",
      "    Mortu - 34\n",
      "    Andresen - 33\n",
      "    Gude - 32\n",
      "    Gladstone - 31\n",
      "    Drottinn - 30\n",
      "    Guds - 27\n",
      "    Nagels - 26\n",
      "    Tolstoj - 24\n",
      "    Grøgaard - 22\n",
      "    Karlsen - 21\n",
      "    Ola - 21\n",
      "    Øien - 21\n",
      "    Ipvi - 20\n",
      "    Hansen - 19\n",
      "    Minutuna - 19\n",
      "    Dagnyju - 18\n",
      "    Minutunni - 18\n",
      "    Ipå - 17\n",
      "    Reinert - 17\n",
      "    Jrvi - 14\n",
      "    Dagnyjar - 13\n",
      "    Ipess - 13\n",
      "    Johannes - 13\n",
      "    Bjørnson - 12\n",
      "    Gudi - 12\n",
      "    Simonsen - 12\n",
      "    Kamma - 11\n",
      "    Kristjaniu - 11\n",
      "\n",
      "Lag 2\n",
      "=========\n",
      "\n",
      "    Mortu Gude - 9\n",
      "    Dagny Kielland - 8\n",
      "    Marta Gude - 7\n",
      "    Dagnyjar Kielland - 4\n",
      "    Dagnyju Kielland - 2\n",
      "    Minutan Johannes - 1\n",
      "\n",
      "Lag 3\n",
      "=========\n",
      "\n",
      "\n",
      "Lag 4\n",
      "=========\n",
      "\n",
      "\n"
     ]
    }
   ],
   "source": [
    "navn = nb.names(BOOK, ratio=0.5, cutoff=10)\n",
    "tm.show_names(navn)"
   ]
  },
  {
   "cell_type": "markdown",
   "metadata": {},
   "source": [
    "### Lagring og redigering\n",
    "\n",
    "Rediger filen fra cellen med lagringskommando (`names_to_token_map_file(....)`)\n",
    "Listen trenger litt redigering, og sammenslåing. Lagre til Excel, og benytt `orient = column` for å ha navn i kolonnner, eller `orient = row` for å redigere radvis. Noen store filer med over 256 navn krever `row`. Kommandoen sjekker om filen allerede fins, og vil ikke skrive over."
   ]
  },
  {
   "cell_type": "code",
   "execution_count": 42,
   "metadata": {},
   "outputs": [
    {
     "data": {
      "text/plain": [
       "True"
      ]
     },
     "execution_count": 42,
     "metadata": {},
     "output_type": "execute_result"
    }
   ],
   "source": [
    "tm.names_to_token_map_file(navn, filename = \"en_bok15.xls\", orient = \"column\")"
   ]
  },
  {
   "cell_type": "markdown",
   "metadata": {},
   "source": [
    "### Redigeringsaktivitet\n",
    "\n",
    "Åpne i for eksempel i excel eller tilsvarende som for eksempel openoffice eller libreoffice. Etter redigering, kjøres cellen under. Husk bare å benytte riktig filnavn. \n",
    "\n",
    "Husk at verdien på orient må være lik mellom lagring og lesing av excelfil."
   ]
  },
  {
   "cell_type": "code",
   "execution_count": 43,
   "metadata": {},
   "outputs": [],
   "source": [
    "redigerte_navn = tm.read_token_map_file(\"en_bok15.xls\", orient = \"column\")"
   ]
  },
  {
   "cell_type": "markdown",
   "metadata": {},
   "source": [
    "Listen med redigerte navn går inn i grafen - vi tar med oss variabelen BOOK (se øverst):"
   ]
  },
  {
   "cell_type": "code",
   "execution_count": 28,
   "metadata": {},
   "outputs": [],
   "source": [
    "G = tm.character_network(BOOK, redigerte_navn)"
   ]
  },
  {
   "cell_type": "markdown",
   "metadata": {},
   "source": [
    "Dernest kan den vises og analyseres med passende kommandoer"
   ]
  },
  {
   "cell_type": "code",
   "execution_count": null,
   "metadata": {},
   "outputs": [],
   "source": []
  },
  {
   "cell_type": "code",
   "execution_count": 29,
   "metadata": {},
   "outputs": [
    {
     "data": {
      "image/png": "[encoded data removed]",
      "text/plain": [
       "<Figure size 1080x720 with 1 Axes>"
      ]
     },
     "metadata": {},
     "output_type": "display_data"
    }
   ],
   "source": [
    "gnl.show_graph(G)"
   ]
  },
  {
   "cell_type": "code",
   "execution_count": 25,
   "metadata": {},
   "outputs": [
    {
     "name": "stdout",
     "output_type": "stream",
     "text": [
      "Tolstoj-Bjørnson :  Tolstoj, Bjørnson\n",
      "\n",
      "Gud-Dagny_Kielland :  Gud, Dagny_Kielland, Ipér, Hansen, Stenersen, Dagnyjar_Kielland, Ipvi, Simonsen, Dagnyju_Kielland, Kamma, Ola\n",
      "\n",
      "Nagel-Minutan_Johannes :  Nagel, Minutan_Johannes, Sara, Grøgaard, Drottinn, Mortu_Gude, Marta_Gude, Karlsen, Minutunni, Reinert, Ipå, Minutuna, Jrvi\n",
      "\n",
      "Gladstone-Øien :  Gladstone, Øien, Kristjaniu\n",
      "\n"
     ]
    }
   ],
   "source": [
    "gnl.show_communities(G)"
   ]
  },
  {
   "cell_type": "markdown",
   "metadata": {},
   "source": []
  }
 ],
 "metadata": {
  "hide_input": false,
  "kernelspec": {
   "display_name": "Python 3",
   "language": "python",
   "name": "python3"
  },
  "language_info": {
   "codemirror_mode": {
    "name": "ipython",
    "version": 3
   },
   "file_extension": ".py",
   "mimetype": "text/x-python",
   "name": "python",
   "nbconvert_exporter": "python",
   "pygments_lexer": "ipython3",
   "version": "3.7.3"
  }
 },
 "nbformat": 4,
 "nbformat_minor": 4
}
