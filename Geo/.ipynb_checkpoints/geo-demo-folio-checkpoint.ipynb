{
 "cells": [
  {
   "cell_type": "markdown",
   "metadata": {},
   "source": [
    "<h2>Demo av folium/leaflet</h2>\n",
    "\n",
    "Aktiver cellene under, og start et kartsøk til slutt."
   ]
  },
  {
   "cell_type": "code",
   "execution_count": 1,
   "metadata": {},
   "outputs": [],
   "source": [
    "from collections import Counter\n",
    "import folium\n",
    "from folium.plugins import MarkerCluster\n",
    "import dhlab.nbtext as nb\n",
    "import requests\n",
    "from bs4 import BeautifulSoup"
   ]
  },
  {
   "cell_type": "code",
   "execution_count": 2,
   "metadata": {},
   "outputs": [],
   "source": [
    "def finnsted(sted):\n",
    "    r = requests.get(\"https://ws.geonorge.no/SKWS3Index/ssr/sok\", params = {'navn': sted})\n",
    "    return r.text\n",
    "\n",
    "def koord(sted, navnetype = 'By'):\n",
    "    soup = BeautifulSoup(finnsted(sted),'xml')\n",
    "    res = []\n",
    "    for n in soup.find_all('stedsnavn'):\n",
    "        #print(n)\n",
    "        if n.navnetype != None and n.navnetype.text == navnetype:\n",
    "            res.append([n.stedsnavn.text, n.aust.text, n.nord.text, n.epsgKode.text])\n",
    "    return res\n",
    "    \n",
    "\n",
    "def enheter(sted, limit=50):\n",
    "    enheter = ('By','Dal','Bydel','Elv', 'Tettsted','Fjell', \n",
    "               'Fjellområde','Fjord','Flyplass','Foss','Hotell','Innsjø','Kanal', 'Kirke',\n",
    "                'Kommune','Øy','Skog', 'Strand','Sykehus')\n",
    "    \n",
    "    rows = sqlcon(geocon, \"select enh_snavn ||', '||enh_navntype || ' i ' || kode, ST_AsLatLonText(wkb_geometry, 'D.DDDD') from \\\n",
    "    stedsinfo where enh_snavn ilike %s and enh_navntype in %s limit %s\", (sted, enheter, limit))\n",
    "    coords = []\n",
    "    for row in rows:\n",
    "        x = row[1].split()\n",
    "        #print(x)\n",
    "        coords.append([row[0], x])\n",
    "    return coords\n",
    "\n",
    "\n",
    "def byer(sted, limit=50):\n",
    "    rows = sqlcon(geocon, \"select kode ||', '||enh_navntype , ST_AsLatLonText( wkb_geometry, 'D M') from \\\n",
    "    stedsinfo where kode ilike %s limit %s\", (sted, limit))\n",
    "    coords = []\n",
    "    for row in rows:\n",
    "        x = row[1].split()\n",
    "        #print(x)\n",
    "        coords.append([row[0], [int(x[0]) + int(x[1])/100, int(x[2]) + int(x[3])/100]])\n",
    "    return coords\n",
    "\n",
    "def kart(sted, limit=50):\n",
    "    import numpy as np\n",
    "    coords = koord(sted)\n",
    "    kartsnitt = folium.Map(location=[62, 4], zoom_start = 4)\n",
    "    if coords != []:\n",
    "        locs = []\n",
    "        pops = []\n",
    "        #beregn gjennomsnittlig lengde og bredde og start kartet derfra\n",
    "        lat = np.mean([float(crd[1][0]) for crd in coords])\n",
    "        lon = np.mean([float(crd[1][1]) for crd in coords])\n",
    "        kartsnitt = folium.Map(location=[lat, lon], zoom_start = 6)\n",
    "        for sted in coords:\n",
    "            #folium.Marker(sted[1], popup = sted[0], icon=folium.Icon(icon='cloud')).add_to(kartsnitt)\n",
    "            locs.append(sted[1])\n",
    "            pops.append(sted[0])\n",
    "        kartsnitt.add_children(MarkerCluster(locs, popups=pops))\n",
    "        #print(locs)\n",
    "    return kartsnitt\n",
    "\n",
    "def leggtil(kartsnitt, sted, limit=50):\n",
    "    import numpy as np\n",
    "    coords = enheter(sted, int(limit/2))\n",
    "    if coords != []:\n",
    "        locs = []\n",
    "        pops = []\n",
    "        for sted in coords:\n",
    "            #folium.Marker(sted[1], popup = sted[0], icon=folium.Icon(icon='cloud')).add_to(kartsnitt)\n",
    "            locs.append(sted[1])\n",
    "            pops.append(sted[0])\n",
    "        kartsnitt.add_children(MarkerCluster(locs, popups=pops))\n",
    "        #print(locs)\n",
    "    return kartsnitt"
   ]
  },
  {
   "cell_type": "code",
   "execution_count": 51,
   "metadata": {},
   "outputs": [
    {
     "name": "stdout",
     "output_type": "stream",
     "text": [
      "Requirement already satisfied: utm in c:\\users\\larsj\\appdata\\local\\continuum\\anaconda3\\lib\\site-packages (0.5.0)\n"
     ]
    },
    {
     "name": "stderr",
     "output_type": "stream",
     "text": [
      "WARNING: You are using pip version 19.2.2, however version 19.3.1 is available.\n",
      "You should consider upgrading via the 'python -m pip install --upgrade pip' command.\n"
     ]
    }
   ],
   "source": [
    "#!pip install convertbng\n",
    "!pip install utm"
   ]
  },
  {
   "cell_type": "code",
   "execution_count": 6,
   "metadata": {},
   "outputs": [
    {
     "data": {
      "text/plain": [
       "(51.51852098408468, 6.693872395145327)"
      ]
     },
     "execution_count": 6,
     "metadata": {},
     "output_type": "execute_result"
    }
   ],
   "source": [
    "import utm\n",
    "utm.to_latlon(340000, 5710000, 32, 'U')\n",
    "(51.51852098408468, 6.693872395145327)"
   ]
  },
  {
   "cell_type": "code",
   "execution_count": 9,
   "metadata": {},
   "outputs": [],
   "source": [
    "from convertbng.util import convert_bng, convert_lonlat,convert_etrs89_to_lonlat,convert_epsg3857_to_wgs84\n"
   ]
  },
  {
   "cell_type": "code",
   "execution_count": 9,
   "metadata": {},
   "outputs": [
    {
     "name": "stdout",
     "output_type": "stream",
     "text": [
      "261506.95 6649289.85\n",
      "(59.91191607461982, 4.7335886667978055)\n",
      "261506.95 6649289.85\n",
      "(59.91191607461982, 4.7335886667978055)\n"
     ]
    }
   ],
   "source": [
    "for x in koord('oslo', 'Kommune'):\n",
    "    e = float(x[1])\n",
    "    n = float(x[2])\n",
    "    print(e, n)\n",
    "    (a, b) = (utm.to_latlon(e, n, 32,  'u'))\n",
    "    print((a,b))\n"
   ]
  },
  {
   "cell_type": "code",
   "execution_count": 5,
   "metadata": {},
   "outputs": [
    {
     "data": {
      "text/plain": [
       "[['Tromsø', '653706.32', '7732337.59', '25833']]"
      ]
     },
     "execution_count": 5,
     "metadata": {},
     "output_type": "execute_result"
    }
   ],
   "source": [
    "koord(\"tromsø\", \"By\")"
   ]
  },
  {
   "cell_type": "code",
   "execution_count": null,
   "metadata": {},
   "outputs": [],
   "source": [
    "nb.xmlpretty(finnsted('tromsø'))"
   ]
  },
  {
   "cell_type": "code",
   "execution_count": null,
   "metadata": {},
   "outputs": [],
   "source": []
  }
 ],
 "metadata": {
  "kernelspec": {
   "display_name": "Python 3",
   "language": "python",
   "name": "python3"
  },
  "language_info": {
   "codemirror_mode": {
    "name": "ipython",
    "version": 3
   },
   "file_extension": ".py",
   "mimetype": "text/x-python",
   "name": "python",
   "nbconvert_exporter": "python",
   "pygments_lexer": "ipython3",
   "version": "3.7.3"
  }
 },
 "nbformat": 4,
 "nbformat_minor": 1
}
