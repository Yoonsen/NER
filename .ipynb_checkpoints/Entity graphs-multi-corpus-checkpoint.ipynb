{
 "cells": [
  {
   "cell_type": "markdown",
   "metadata": {},
   "source": [
    "## Oppstart"
   ]
  },
  {
   "cell_type": "code",
   "execution_count": 1,
   "metadata": {},
   "outputs": [],
   "source": [
    "from dhlab.module_update import update, css"
   ]
  },
  {
   "cell_type": "code",
   "execution_count": 2,
   "metadata": {},
   "outputs": [
    {
     "data": {
      "text/html": [
       "<style>@import url(\n",
       "http://fonts.googleapis.com/css?family=Lato|Philosopher|Montserrat|Source+Code+Pro|Istok+Web|Philosopher|Assistant:200,400,700);\n",
       "\n",
       "/*\n",
       "#notebook-container {\n",
       "\t-webkit-box-shadow: none;\n",
       "\tbox-shadow: none;\n",
       "}\n",
       "*/\n",
       "\n",
       "h1, h2, h3, h4, h5, h6 {\n",
       "\tfont-family: 'Montserrat', sans-serif;\n",
       "\tline-height: 2em;\n",
       "    color: #004f99;\n",
       "    font-weight: 600;\n",
       "}\n",
       "\n",
       "h1 { font-size: 4.5em; }\n",
       "h2 { font-size: 4em; }\n",
       "h3 { font-size: 3.5em; }\n",
       "h4 { font-size: 3em; }\n",
       "h5 { font-size: 2.5em; color:DarkSlateGray; }\n",
       "h6 { font-size: 2em; }\n",
       "\n",
       "p {\n",
       "\tfont-family: 'Assistant', sans-serif; \n",
       "\tfont-size: 1.2em;\n",
       "\tline-height: 1.4em;\n",
       "\tcolor: black;\n",
       "}\n",
       "p code {\n",
       "\tfont-size:0.9em;\n",
       "}\n",
       "div.input_area {\n",
       "\tborder:none !important;\n",
       "\tborder-left:1px solid #ff851b !important\n",
       "}\n",
       "\n",
       "span.cm-keyword {\n",
       "\tcolor:#339966 !important;\n",
       "}\n",
       "span.nn {  /*span.cm-variable, span.cm-property*/\n",
       "\tcolor: #3399ff !important;\n",
       "}\n",
       "div.CodeMirror {\n",
       "\tfont-family: 'Inconsolata', monospace;\n",
       "\tfont-size: 1.1em;\n",
       "\t\n",
       "}\n",
       "</style>"
      ],
      "text/plain": [
       "<IPython.core.display.HTML object>"
      ]
     },
     "execution_count": 2,
     "metadata": {},
     "output_type": "execute_result"
    }
   ],
   "source": [
    "css()"
   ]
  },
  {
   "cell_type": "code",
   "execution_count": 3,
   "metadata": {},
   "outputs": [],
   "source": [
    "import warnings\n",
    "warnings.filterwarnings('ignore')"
   ]
  },
  {
   "cell_type": "markdown",
   "metadata": {},
   "source": [
    "### Note that the file `nbtext.py` will be overwritten in the code below\n",
    "\n",
    "This is probably ok, though. If not, change `update('nbtext', overwrite = True)` to `update('nbtext', overwrite = False)` and the file will stay unchanged. \n"
   ]
  },
  {
   "cell_type": "code",
   "execution_count": 4,
   "metadata": {},
   "outputs": [],
   "source": [
    "import dhlab.nbtext as nb\n",
    "import dhlab.token_map as tm\n",
    "from dhlab.nbtext import get_urn, make_graph, get_urn, relaterte_ord, navn, totals\n",
    "import dhlab.graph_networkx_louvain as gnl\n",
    "import pandas as pd\n",
    "%matplotlib inline\n",
    "\n",
    "plot = lambda x,  lw=3, alpha= 0.7: x.plot(figsize=(15,6), lw=lw, alpha=alpha)\n"
   ]
  },
  {
   "cell_type": "markdown",
   "metadata": {},
   "source": [
    "# Hjelpekommandoer\n",
    "\n",
    "`alle_korpusnavn` henter ut alle navn (eller forslag til) fra korpuset.\n",
    "`tell_navn` teller opp navnene på tvers av korpuset \n"
   ]
  },
  {
   "cell_type": "code",
   "execution_count": null,
   "metadata": {},
   "outputs": [],
   "source": [
    "import pandas as pd\n",
    "\n",
    "def alle_korpusnavn(korpus):\n",
    "    urner = list(korpus['urn'])\n",
    "    alle_navn = tm.combine_names(tm.corpus_names(urner))\n",
    "    return alle_navn\n",
    "\n",
    "def tell_navn(korpus, token_map):\n",
    "    res = dict()\n",
    "    for urn in korpus['urn']:\n",
    "        res[urn] = tm.count_name_strings(str(urn), token_map).to_dict()[0]\n",
    "    return pd.DataFrame(pd.DataFrame(res).sum(axis=1).sort_values(ascending=False))"
   ]
  },
  {
   "cell_type": "markdown",
   "metadata": {},
   "source": [
    "## Navn i bøker\n",
    "\n",
    "\n",
    "Vi søker etter navn i en bok, og en serie av bøker.\n",
    "\n",
    "Kommandoene er:\n",
    "1. `names` henter et sett med forslag til navn, fra nbtext\n",
    "1. `show_names` gir en oversikt over funnene, fra token_map\n",
    "1. `names_to_token_map_file` lagrer navneforslagene til en excelfil (eller csv) for redigering (token_map)\n",
    "1. `read_token_map_file` henter redigert fil tilbake for analyse (token_map)\n",
    "1. `character_network` lager graf for navnene (token_map)\n",
    "1. `show_graph`  tegner grafen (fra graph_networkx_louvain)\n",
    "1. `show_communities` viser clustre i grafen (graph_networkx_louvain)\n"
   ]
  },
  {
   "cell_type": "markdown",
   "metadata": {},
   "source": [
    "# Eksempel\n",
    "\n",
    "Henter ut navn fra et korpus. Bøkene slås sammen.\n",
    "\n",
    "## Korpus\n",
    "\n",
    "Bygg først et korpus, enten fra kommando `nb.book_corpus` eller `book_urn`, eller gjenskap fra fil."
   ]
  },
  {
   "cell_type": "code",
   "execution_count": null,
   "metadata": {},
   "outputs": [],
   "source": [
    "korpus = nb.book_corpus(author='hamsun%')"
   ]
  },
  {
   "cell_type": "code",
   "execution_count": null,
   "metadata": {},
   "outputs": [],
   "source": [
    "#korpus = nb.restore_metadata_from_excel('metadatafil.xls')"
   ]
  },
  {
   "cell_type": "markdown",
   "metadata": {},
   "source": [
    "## Sjekk innholdet\n",
    "\n",
    "Gjør noen søk for å se at alt er ok. Konkordanser er fine til det. Her går urnene gjennom `nb.pure_urn` -  i fremtiden skal det ikke være nødvendig."
   ]
  },
  {
   "cell_type": "code",
   "execution_count": null,
   "metadata": {},
   "outputs": [],
   "source": [
    "nb.urn_concordance(word = 'arbeid', urns = nb.pure_urn(korpus))"
   ]
  },
  {
   "cell_type": "markdown",
   "metadata": {},
   "source": [
    "## Navn\n",
    "\n",
    "Finn forslag til navn med `names`. Se på dem med `show_names`. Her er det muligheter til å skru litt på parametrene. Hvis ratioen skrus ned fjernes en del ord, og om cutoff settes høyere vil også enkelte navneforslag kunne forsvinne."
   ]
  },
  {
   "cell_type": "markdown",
   "metadata": {},
   "source": [
    "Velg hvilken bok som skal studeres (alle kan tas, men se under). Se på listen over korpus og sett den indeksen som passer. Her er det bare å føle seg frem."
   ]
  },
  {
   "cell_type": "code",
   "execution_count": null,
   "metadata": {},
   "outputs": [],
   "source": [
    "korpus"
   ]
  },
  {
   "cell_type": "markdown",
   "metadata": {},
   "source": [
    "Finn korpuset ved å sette inn en index tilsvarende den som står helt til venstre i listen over."
   ]
  },
  {
   "cell_type": "markdown",
   "metadata": {},
   "source": [
    "Hent ut navn fra boken"
   ]
  },
  {
   "cell_type": "code",
   "execution_count": null,
   "metadata": {},
   "outputs": [],
   "source": [
    "total_names = alle_korpusnavn(korpus)"
   ]
  },
  {
   "cell_type": "markdown",
   "metadata": {},
   "source": [
    "# Ta en titt på navneforslagene\n",
    "\n",
    "Men redigere dem i excel for å se. Navnene er hentet fra hele korpuset."
   ]
  },
  {
   "cell_type": "code",
   "execution_count": null,
   "metadata": {},
   "outputs": [],
   "source": [
    "total_names"
   ]
  },
  {
   "cell_type": "markdown",
   "metadata": {},
   "source": [
    "### Lagring og redigering\n",
    "\n",
    "Rediger filen fra cellen med lagringskommando (`names_to_token_map_file(....)`)\n",
    "Listen trenger litt redigering, og sammenslåing. Lagre til Excel, og benytt `orient = column` for å ha navn i kolonnner, eller `orient = row` for å redigere radvis. Noen store filer med over 256 navn krever `row`. Kommandoen sjekker om filen allerede fins, og vil ikke skrive over. Følg med på output."
   ]
  },
  {
   "cell_type": "code",
   "execution_count": null,
   "metadata": {},
   "outputs": [],
   "source": [
    "tm.names_to_token_map_file(total_names, filename = \"korpus_test0.xls\", orient = \"row\")"
   ]
  },
  {
   "cell_type": "markdown",
   "metadata": {},
   "source": [
    "### Redigeringsaktivitet\n",
    "\n",
    "Åpne i for eksempel i excel eller tilsvarende som for eksempel openoffice eller libreoffice. Etter redigering, kjøres cellen under. Husk bare å benytte riktig filnavn. \n",
    "\n",
    "Husk at verdien på orient må være lik mellom lagring og lesing av excelfil."
   ]
  },
  {
   "cell_type": "code",
   "execution_count": null,
   "metadata": {},
   "outputs": [],
   "source": [
    "redigerte_navn = tm.read_token_map_file(\"korpus_test0.xls\", orient = \"row\")"
   ]
  },
  {
   "cell_type": "markdown",
   "metadata": {},
   "source": [
    "## Tell opp navn med hensyn til det som står i `redigerte_navn`\n",
    "\n",
    "Bruker hjelpekommando `tell_navn`"
   ]
  },
  {
   "cell_type": "code",
   "execution_count": null,
   "metadata": {},
   "outputs": [],
   "source": [
    "opptelling = tell_navn(korpus, redigerte_navn)\n",
    "opptelling"
   ]
  },
  {
   "cell_type": "markdown",
   "metadata": {},
   "source": [
    "# Lag en graf for en bok\n",
    "\n",
    "Grafene kan legges sammen i etterkant om det ønskes en graf for hele korpuset."
   ]
  },
  {
   "cell_type": "code",
   "execution_count": null,
   "metadata": {},
   "outputs": [],
   "source": [
    "# fyll inn en indeks fra korpuslisten 0 er første URN, 1 neste osv.\n",
    "\n",
    "G = tm.character_network(str(korpus['urn'][0]), redigerte_navn)\n",
    "gnl.show_graph(G)"
   ]
  },
  {
   "cell_type": "markdown",
   "metadata": {},
   "source": [
    "Dernest kan den vises og analyseres med passende kommandoer"
   ]
  }
 ],
 "metadata": {
  "hide_input": false,
  "kernelspec": {
   "display_name": "Python 3",
   "language": "python",
   "name": "python3"
  },
  "language_info": {
   "codemirror_mode": {
    "name": "ipython",
    "version": 3
   },
   "file_extension": ".py",
   "mimetype": "text/x-python",
   "name": "python",
   "nbconvert_exporter": "python",
   "pygments_lexer": "ipython3",
   "version": "3.7.3"
  }
 },
 "nbformat": 4,
 "nbformat_minor": 4
}
