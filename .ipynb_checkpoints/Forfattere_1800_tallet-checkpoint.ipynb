{
 "cells": [
  {
   "cell_type": "markdown",
   "metadata": {},
   "source": [
    "## Hent data fra Bibsys autoritetsregister"
   ]
  },
  {
   "cell_type": "code",
   "execution_count": 1,
   "metadata": {},
   "outputs": [],
   "source": [
    "import requests\n",
    "\n",
    "def get_author(author):\n",
    "    query = {'q': author,\n",
    "             'start':1,\n",
    "             'max':10,\n",
    "             'format':'json'}\n",
    "    res = requests.get(\"https://authority.bibsys.no/authority/rest/functions/v2/query\", params = query)\n",
    "    return res.json()\n",
    "\n",
    "def get_author_info_from_key(key):\n",
    "    query = {'format':'json'}\n",
    "    res = requests.get(\"https://authority.bibsys.no/authority/rest/authorities/v2/{key}\".format(key=key), params = query)\n",
    "    return res.json()\n",
    "\n",
    "def get_marc_post(name):\n",
    "    r = get_author(name)\n",
    "\n",
    "    results = r['results']\n",
    "    #print(results)\n",
    "    identifiers = [x['identifiersMap']['autid'][0] for x in results if 'autid' in x['identifiersMap']] \n",
    "    #print(identifier)\n",
    "    res = []\n",
    "    try:\n",
    "        for identifier in identifiers:\n",
    "            identifier = identifier.split('x')[1]\n",
    "            try:\n",
    "                #print(identifier)\n",
    "                res.append(get_author_info_from_key(identifier))\n",
    "            except:\n",
    "                True #print('feil med:', identifier)\n",
    "    except:\n",
    "        True\n",
    "    return res\n",
    "\n",
    "def posts(name):\n",
    "    return [x for x in get_marc_post(name) if x['authorityType'] == 'PERSON']\n",
    "\n",
    "def life_span(marcpost):\n",
    "    return [date['value'] for item in  marcpost[0]['marcdata'] for date in item['subfields'] if date['subcode'] == 'd' and item['tag'] == '100']\n",
    "\n",
    "def alternatives(marcpost):\n",
    "    return [alt['value'] for item in  marcpost[0]['marcdata'] for alt in item['subfields'] if alt['subcode'] == 'a' and item['tag'] == '400']\n",
    "\n",
    "def get_authority_info(name):\n",
    "    marcpost = posts(name)\n",
    "    if marcpost != []:\n",
    "        lf = life_span(marcpost)\n",
    "        alter = alternatives(marcpost)\n",
    "    else:\n",
    "        lf = []\n",
    "        alter = []\n",
    "    return {'life-span': lf, 'alternatives': alter}"
   ]
  },
  {
   "cell_type": "code",
   "execution_count": 6,
   "metadata": {},
   "outputs": [],
   "source": [
    "import re\n",
    "import pandas as pd"
   ]
  },
  {
   "cell_type": "code",
   "execution_count": 7,
   "metadata": {},
   "outputs": [],
   "source": [
    "import dhlab.nbtext as nb"
   ]
  },
  {
   "cell_type": "code",
   "execution_count": 18,
   "metadata": {},
   "outputs": [],
   "source": [
    "df = pd.read_json('authority.json')"
   ]
  },
  {
   "cell_type": "code",
   "execution_count": 51,
   "metadata": {},
   "outputs": [],
   "source": [
    "df[(df.birth < \"1880\") & (df.death > \"1800\")].to_excel('forfattere_ff_1880.xls')"
   ]
  },
  {
   "cell_type": "code",
   "execution_count": 52,
   "metadata": {},
   "outputs": [
    {
     "data": {
      "text/html": [
       "<div>\n",
       "<style scoped>\n",
       "    .dataframe tbody tr th:only-of-type {\n",
       "        vertical-align: middle;\n",
       "    }\n",
       "\n",
       "    .dataframe tbody tr th {\n",
       "        vertical-align: top;\n",
       "    }\n",
       "\n",
       "    .dataframe thead th {\n",
       "        text-align: right;\n",
       "    }\n",
       "</style>\n",
       "<table border=\"1\" class=\"dataframe\">\n",
       "  <thead>\n",
       "    <tr style=\"text-align: right;\">\n",
       "      <th></th>\n",
       "      <th>lifespan</th>\n",
       "      <th>birth</th>\n",
       "      <th>death</th>\n",
       "    </tr>\n",
       "  </thead>\n",
       "  <tbody>\n",
       "    <tr>\n",
       "      <th>Henrik Wergeland</th>\n",
       "      <td>1808-1845</td>\n",
       "      <td>1808</td>\n",
       "      <td>1845</td>\n",
       "    </tr>\n",
       "    <tr>\n",
       "      <th>Henrik Ibsen</th>\n",
       "      <td>1828-1906</td>\n",
       "      <td>1828</td>\n",
       "      <td>1906</td>\n",
       "    </tr>\n",
       "    <tr>\n",
       "      <th>Jonas Lie</th>\n",
       "      <td>1868-1943</td>\n",
       "      <td>1868</td>\n",
       "      <td>1943</td>\n",
       "    </tr>\n",
       "    <tr>\n",
       "      <th>Camilla Collett</th>\n",
       "      <td>1813-1895</td>\n",
       "      <td>1813</td>\n",
       "      <td>1895</td>\n",
       "    </tr>\n",
       "    <tr>\n",
       "      <th>Arne Garborg</th>\n",
       "      <td>1851-1924</td>\n",
       "      <td>1851</td>\n",
       "      <td>1924</td>\n",
       "    </tr>\n",
       "    <tr>\n",
       "      <th>...</th>\n",
       "      <td>...</td>\n",
       "      <td>...</td>\n",
       "      <td>...</td>\n",
       "    </tr>\n",
       "    <tr>\n",
       "      <th>Nordahl Brun Rolfsen</th>\n",
       "      <td>1848-1928</td>\n",
       "      <td>1848</td>\n",
       "      <td>1928</td>\n",
       "    </tr>\n",
       "    <tr>\n",
       "      <th>Johan Christian Heuch</th>\n",
       "      <td>1838-1904</td>\n",
       "      <td>1838</td>\n",
       "      <td>1904</td>\n",
       "    </tr>\n",
       "    <tr>\n",
       "      <th>Gustav Peter Blom</th>\n",
       "      <td>1785-1869</td>\n",
       "      <td>1785</td>\n",
       "      <td>1869</td>\n",
       "    </tr>\n",
       "    <tr>\n",
       "      <th>Kristian Oskar Bjørnstad</th>\n",
       "      <td>1875-1968</td>\n",
       "      <td>1875</td>\n",
       "      <td>1968</td>\n",
       "    </tr>\n",
       "    <tr>\n",
       "      <th>Henrik Johan Bull</th>\n",
       "      <td>1844-1930</td>\n",
       "      <td>1844</td>\n",
       "      <td>1930</td>\n",
       "    </tr>\n",
       "  </tbody>\n",
       "</table>\n",
       "<p>785 rows × 3 columns</p>\n",
       "</div>"
      ],
      "text/plain": [
       "                           lifespan birth death\n",
       "Henrik Wergeland          1808-1845  1808  1845\n",
       "Henrik Ibsen              1828-1906  1828  1906\n",
       "Jonas Lie                 1868-1943  1868  1943\n",
       "Camilla Collett           1813-1895  1813  1895\n",
       "Arne Garborg              1851-1924  1851  1924\n",
       "...                             ...   ...   ...\n",
       "Nordahl Brun Rolfsen      1848-1928  1848  1928\n",
       "Johan Christian Heuch     1838-1904  1838  1904\n",
       "Gustav Peter Blom         1785-1869  1785  1869\n",
       "Kristian Oskar Bjørnstad  1875-1968  1875  1968\n",
       "Henrik Johan Bull         1844-1930  1844  1930\n",
       "\n",
       "[785 rows x 3 columns]"
      ]
     },
     "execution_count": 52,
     "metadata": {},
     "output_type": "execute_result"
    }
   ],
   "source": [
    "df[(df.birth < \"1880\") & (df.death > \"1800\")]"
   ]
  },
  {
   "cell_type": "code",
   "execution_count": null,
   "metadata": {},
   "outputs": [],
   "source": []
  }
 ],
 "metadata": {
  "kernelspec": {
   "display_name": "Python 3",
   "language": "python",
   "name": "python3"
  },
  "language_info": {
   "codemirror_mode": {
    "name": "ipython",
    "version": 3
   },
   "file_extension": ".py",
   "mimetype": "text/x-python",
   "name": "python",
   "nbconvert_exporter": "python",
   "pygments_lexer": "ipython3",
   "version": "3.8.5"
  }
 },
 "nbformat": 4,
 "nbformat_minor": 2
}
